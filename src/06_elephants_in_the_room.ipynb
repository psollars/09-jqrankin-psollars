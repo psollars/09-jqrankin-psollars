{
 "cells": [
  {
   "cell_type": "markdown",
   "metadata": {},
   "source": [
    "# Analyzing the top Emitters in the World\n"
   ]
  },
  {
   "cell_type": "code",
   "execution_count": 1,
   "metadata": {},
   "outputs": [],
   "source": [
    "import pandas as pd\n",
    "import plotly.graph_objects as go\n",
    "import plotly.express as px\n",
    "\n",
    "df = pd.read_csv(\"./data/complete_dataset_with_interpolation.csv\")\n"
   ]
  },
  {
   "cell_type": "code",
   "execution_count": 2,
   "metadata": {},
   "outputs": [],
   "source": [
    "ghg_gdp_df = df[\n",
    "    # Omit EU and World aggregates\n",
    "    ~df[\"c_code\"].isin([\"EUU\", \"WLD\"])\n",
    "    # Grab emission totals\n",
    "    & (df[\"gas\"].eq(\"All GHG\") & df[\"indicator\"].eq(\"Total including LUCF\"))\n",
    "    # Grab GDP indicator\n",
    "    | df[\"indicator\"].eq(\"GDP, PPP (current international $)\")\n",
    "]\n",
    "\n",
    "years = list(map(str, range(1990, 2020)))\n"
   ]
  },
  {
   "cell_type": "code",
   "execution_count": 3,
   "metadata": {},
   "outputs": [
    {
     "data": {
      "text/html": [
       "<div>\n",
       "<style scoped>\n",
       "    .dataframe tbody tr th:only-of-type {\n",
       "        vertical-align: middle;\n",
       "    }\n",
       "\n",
       "    .dataframe tbody tr th {\n",
       "        vertical-align: top;\n",
       "    }\n",
       "\n",
       "    .dataframe thead th {\n",
       "        text-align: right;\n",
       "    }\n",
       "</style>\n",
       "<table border=\"1\" class=\"dataframe\">\n",
       "  <thead>\n",
       "    <tr style=\"text-align: right;\">\n",
       "      <th></th>\n",
       "      <th>country</th>\n",
       "      <th>year</th>\n",
       "      <th>ghg</th>\n",
       "      <th>gdp</th>\n",
       "    </tr>\n",
       "  </thead>\n",
       "  <tbody>\n",
       "    <tr>\n",
       "      <th>19</th>\n",
       "      <td>All Other Countries</td>\n",
       "      <td>2005</td>\n",
       "      <td>21056.48</td>\n",
       "      <td>1.173261e+14</td>\n",
       "    </tr>\n",
       "    <tr>\n",
       "      <th>40</th>\n",
       "      <td>China</td>\n",
       "      <td>1998</td>\n",
       "      <td>4095.97</td>\n",
       "      <td>3.040856e+12</td>\n",
       "    </tr>\n",
       "    <tr>\n",
       "      <th>11</th>\n",
       "      <td>United States</td>\n",
       "      <td>1992</td>\n",
       "      <td>5456.12</td>\n",
       "      <td>6.520327e+12</td>\n",
       "    </tr>\n",
       "    <tr>\n",
       "      <th>88</th>\n",
       "      <td>Indonesia</td>\n",
       "      <td>2007</td>\n",
       "      <td>1107.10</td>\n",
       "      <td>1.682011e+12</td>\n",
       "    </tr>\n",
       "    <tr>\n",
       "      <th>124</th>\n",
       "      <td>Russia</td>\n",
       "      <td>2014</td>\n",
       "      <td>1621.85</td>\n",
       "      <td>3.763535e+12</td>\n",
       "    </tr>\n",
       "  </tbody>\n",
       "</table>\n",
       "</div>"
      ],
      "text/plain": [
       "                 country  year       ghg           gdp\n",
       "19   All Other Countries  2005  21056.48  1.173261e+14\n",
       "40                 China  1998   4095.97  3.040856e+12\n",
       "11         United States  1992   5456.12  6.520327e+12\n",
       "88             Indonesia  2007   1107.10  1.682011e+12\n",
       "124               Russia  2014   1621.85  3.763535e+12"
      ]
     },
     "execution_count": 3,
     "metadata": {},
     "output_type": "execute_result"
    }
   ],
   "source": [
    "ghg_top_5 = ghg_gdp_df[ghg_gdp_df[\"indicator\"].eq(\"Total including LUCF\")].nlargest(\n",
    "    n=5, columns=\"2019\"\n",
    ")\n",
    "\n",
    "ghg_df = ghg_top_5.melt(\n",
    "    id_vars=[\"country\", \"c_code\", \"indicator\", \"i_code\", \"gas\"],\n",
    "    value_vars=years,\n",
    "    var_name=\"year\",\n",
    "    value_name=\"ghg\",\n",
    ")\n",
    "\n",
    "# Melt the data into a plot-able format.\n",
    "gdp_df = ghg_gdp_df[\n",
    "    ghg_gdp_df[\"indicator\"].eq(\"GDP, PPP (current international $)\")\n",
    "].melt(\n",
    "    id_vars=[\"country\", \"c_code\", \"indicator\", \"i_code\", \"gas\"],\n",
    "    value_vars=years,\n",
    "    var_name=\"year\",\n",
    "    value_name=\"gdp\",\n",
    ")\n",
    "\n",
    "ghg_gdp_all_others = ghg_gdp_df[~ghg_gdp_df[\"country\"].isin(ghg_top_5[\"country\"])]\n",
    "gdp_all_others = (\n",
    "    ghg_gdp_all_others[\n",
    "        ghg_gdp_all_others[\"indicator\"].eq(\"GDP, PPP (current international $)\")\n",
    "    ]\n",
    "    .sum(numeric_only=True)\n",
    "    .to_frame(name=\"gdp\")\n",
    "    .reset_index(names=[\"year\"])\n",
    "    .assign(country=\"All Other Countries\")\n",
    ")\n",
    "\n",
    "ghg_all_others = (\n",
    "    ghg_gdp_all_others[ghg_gdp_all_others[\"indicator\"].eq(\"Total including LUCF\")]\n",
    "    .sum(numeric_only=True)\n",
    "    .to_frame(name=\"ghg\")\n",
    "    .reset_index(names=[\"year\"])\n",
    "    .assign(country=\"All Other Countries\")\n",
    ")\n",
    "\n",
    "all_others = pd.merge(\n",
    "    ghg_all_others,\n",
    "    gdp_all_others,\n",
    "    how=\"left\",\n",
    "    on=[\"country\", \"year\"],\n",
    ")\n",
    "\n",
    "plot_df = pd.concat(\n",
    "    [\n",
    "        pd.merge(\n",
    "            ghg_df[[\"country\", \"year\", \"ghg\"]],\n",
    "            gdp_df[[\"country\", \"year\", \"gdp\"]],\n",
    "            how=\"left\",\n",
    "            on=[\"country\", \"year\"],\n",
    "        ),\n",
    "        # Initially wanted to show all other countries, but this distorted the plot too much.\n",
    "        # This insight is recalculated below and written into the report.\n",
    "        all_others,\n",
    "    ]\n",
    ").sort_values([\"country\", \"year\"])\n",
    "\n",
    "plot_df.sample(5, random_state=42)\n"
   ]
  },
  {
   "cell_type": "code",
   "execution_count": 4,
   "metadata": {},
   "outputs": [
    {
     "data": {
      "application/vnd.plotly.v1+json": {
       "config": {
        "plotlyServerURL": "https://plot.ly"
       },
       "data": [
        {
         "customdata": [
          [
           "China",
           "1990"
          ],
          [
           "China",
           "1991"
          ],
          [
           "China",
           "1992"
          ],
          [
           "China",
           "1993"
          ],
          [
           "China",
           "1994"
          ],
          [
           "China",
           "1995"
          ],
          [
           "China",
           "1996"
          ],
          [
           "China",
           "1997"
          ],
          [
           "China",
           "1998"
          ],
          [
           "China",
           "1999"
          ],
          [
           "China",
           "2000"
          ],
          [
           "China",
           "2001"
          ],
          [
           "China",
           "2002"
          ],
          [
           "China",
           "2003"
          ],
          [
           "China",
           "2004"
          ],
          [
           "China",
           "2005"
          ],
          [
           "China",
           "2006"
          ],
          [
           "China",
           "2007"
          ],
          [
           "China",
           "2008"
          ],
          [
           "China",
           "2009"
          ],
          [
           "China",
           "2010"
          ],
          [
           "China",
           "2011"
          ],
          [
           "China",
           "2012"
          ],
          [
           "China",
           "2013"
          ],
          [
           "China",
           "2014"
          ],
          [
           "China",
           "2015"
          ],
          [
           "China",
           "2016"
          ],
          [
           "China",
           "2017"
          ],
          [
           "China",
           "2018"
          ],
          [
           "China",
           "2019"
          ]
         ],
         "hovertemplate": "Country=%{customdata[0]}<br>GDP, Purchasing Power Parity (international trillion $)=%{x}<br>Total Greenhouse Gas Emissions (including LUCF)=%{y}<br>year=%{customdata[1]}<extra></extra>",
         "legendgroup": "China",
         "line": {
          "color": "#636efa",
          "dash": "solid"
         },
         "marker": {
          "symbol": "circle"
         },
         "mode": "lines+markers",
         "name": "China",
         "orientation": "v",
         "showlegend": true,
         "type": "scatter",
         "x": [
          1114092362966.43,
          1258454144971.54,
          1470221827379.2,
          1714031071645.16,
          1978859523240.62,
          2241662924342.53,
          2509209954966.27,
          2788246475636.25,
          3040855853521.21,
          3319971595766.32,
          3683441693969.14,
          4080387270262.51,
          4522477346527.11,
          5074660085618.61,
          5737893814909.69,
          6592135966884.01,
          7659999647309.11,
          8986556877182.31,
          10042810302711.2,
          11057126304048.5,
          12380164949406,
          13844365195917.5,
          15124538193948.2,
          16185063329894.8,
          17121277216284.5,
          17796747505545.6,
          18712096136720.3,
          19887033884256.7,
          21736535504587,
          23441908826406.9
         ],
         "xaxis": "x",
         "y": [
          2891.73,
          3039.15,
          3168.05,
          3397.8,
          3557.37,
          3960.71,
          3982.11,
          3977.65,
          4095.97,
          4028.58,
          4221.08,
          4430.04,
          4736.95,
          5387.28,
          6172.83,
          6934.85,
          7614.35,
          8224.19,
          8480.5,
          9055.11,
          9887.06,
          10388.48,
          10675.66,
          11168.26,
          11228.48,
          11108.86,
          11151.31,
          11385.48,
          11821.66,
          12055.41
         ],
         "yaxis": "y"
        },
        {
         "customdata": [
          [
           "India",
           "1990"
          ],
          [
           "India",
           "1991"
          ],
          [
           "India",
           "1992"
          ],
          [
           "India",
           "1993"
          ],
          [
           "India",
           "1994"
          ],
          [
           "India",
           "1995"
          ],
          [
           "India",
           "1996"
          ],
          [
           "India",
           "1997"
          ],
          [
           "India",
           "1998"
          ],
          [
           "India",
           "1999"
          ],
          [
           "India",
           "2000"
          ],
          [
           "India",
           "2001"
          ],
          [
           "India",
           "2002"
          ],
          [
           "India",
           "2003"
          ],
          [
           "India",
           "2004"
          ],
          [
           "India",
           "2005"
          ],
          [
           "India",
           "2006"
          ],
          [
           "India",
           "2007"
          ],
          [
           "India",
           "2008"
          ],
          [
           "India",
           "2009"
          ],
          [
           "India",
           "2010"
          ],
          [
           "India",
           "2011"
          ],
          [
           "India",
           "2012"
          ],
          [
           "India",
           "2013"
          ],
          [
           "India",
           "2014"
          ],
          [
           "India",
           "2015"
          ],
          [
           "India",
           "2016"
          ],
          [
           "India",
           "2017"
          ],
          [
           "India",
           "2018"
          ],
          [
           "India",
           "2019"
          ]
         ],
         "hovertemplate": "Country=%{customdata[0]}<br>GDP, Purchasing Power Parity (international trillion $)=%{x}<br>Total Greenhouse Gas Emissions (including LUCF)=%{y}<br>year=%{customdata[1]}<extra></extra>",
         "legendgroup": "India",
         "line": {
          "color": "#EF553B",
          "dash": "solid"
         },
         "marker": {
          "symbol": "circle"
         },
         "mode": "lines+markers",
         "name": "India",
         "orientation": "v",
         "showlegend": true,
         "type": "scatter",
         "x": [
          1048235107013.49,
          1095136631188.19,
          1181501791554.75,
          1266968386062.08,
          1380191573615.21,
          1515867471306.59,
          1660158643051.63,
          1757179784087.91,
          1886851860334.24,
          2082700396480.41,
          2211693660020.87,
          2370617125945.76,
          2499147076015.16,
          2748789707160.43,
          3046209539682.44,
          3390666370803.74,
          3777034027553.59,
          4176280771103.72,
          4387760606409.38,
          4763056069775.47,
          5229906990843.73,
          5618380734786.9,
          6153155415797.75,
          6477517561942.86,
          6781021982581.72,
          7159798324012.18,
          7735001687457.93,
          8276934253114.33,
          9021613789704.56,
          9526237283859.17
         ],
         "xaxis": "x",
         "y": [
          1002.56,
          1056.25,
          1081.28,
          1114.22,
          1158.48,
          1223.65,
          1272.74,
          1331.88,
          1362.33,
          1440.38,
          1477.87,
          1725.86,
          1744.38,
          1787.88,
          1876.85,
          1948.11,
          2045.4,
          2191.17,
          2289.14,
          2438.92,
          2546.79,
          2584.75,
          2740.4,
          2804.34,
          2984.52,
          3003.07,
          3076.48,
          3215.07,
          3360.56,
          3363.6
         ],
         "yaxis": "y"
        },
        {
         "customdata": [
          [
           "Indonesia",
           "1990"
          ],
          [
           "Indonesia",
           "1991"
          ],
          [
           "Indonesia",
           "1992"
          ],
          [
           "Indonesia",
           "1993"
          ],
          [
           "Indonesia",
           "1994"
          ],
          [
           "Indonesia",
           "1995"
          ],
          [
           "Indonesia",
           "1996"
          ],
          [
           "Indonesia",
           "1997"
          ],
          [
           "Indonesia",
           "1998"
          ],
          [
           "Indonesia",
           "1999"
          ],
          [
           "Indonesia",
           "2000"
          ],
          [
           "Indonesia",
           "2001"
          ],
          [
           "Indonesia",
           "2002"
          ],
          [
           "Indonesia",
           "2003"
          ],
          [
           "Indonesia",
           "2004"
          ],
          [
           "Indonesia",
           "2005"
          ],
          [
           "Indonesia",
           "2006"
          ],
          [
           "Indonesia",
           "2007"
          ],
          [
           "Indonesia",
           "2008"
          ],
          [
           "Indonesia",
           "2009"
          ],
          [
           "Indonesia",
           "2010"
          ],
          [
           "Indonesia",
           "2011"
          ],
          [
           "Indonesia",
           "2012"
          ],
          [
           "Indonesia",
           "2013"
          ],
          [
           "Indonesia",
           "2014"
          ],
          [
           "Indonesia",
           "2015"
          ],
          [
           "Indonesia",
           "2016"
          ],
          [
           "Indonesia",
           "2017"
          ],
          [
           "Indonesia",
           "2018"
          ],
          [
           "Indonesia",
           "2019"
          ]
         ],
         "hovertemplate": "Country=%{customdata[0]}<br>GDP, Purchasing Power Parity (international trillion $)=%{x}<br>Total Greenhouse Gas Emissions (including LUCF)=%{y}<br>year=%{customdata[1]}<extra></extra>",
         "legendgroup": "Indonesia",
         "line": {
          "color": "#00cc96",
          "dash": "solid"
         },
         "marker": {
          "symbol": "circle"
         },
         "mode": "lines+markers",
         "name": "Indonesia",
         "orientation": "v",
         "showlegend": true,
         "type": "scatter",
         "x": [
          559227723733.001,
          617313147084.704,
          672405192137.084,
          733061080269.032,
          805167938021.239,
          889624205356.582,
          976738907012.991,
          1040279253528.42,
          913896371687.469,
          934107259827.278,
          1002269831589.48,
          1062190577262.82,
          1127283023412.57,
          1204482901941.76,
          1299038798645.55,
          1416041981248.24,
          1540034456670.35,
          1682010613727.26,
          1817361593744.38,
          1913672578431.34,
          2057206510182.67,
          2229511719014.97,
          2413435225696.69,
          2535041372928.96,
          2622251600815.57,
          2647706548803.03,
          2744896640112.26,
          2894125530220.37,
          3116594552426.23,
          3331570511714.96
         ],
         "xaxis": "x",
         "y": [
          1226.82,
          1246.27,
          1266.98,
          1282.35,
          1302.7,
          1339.1,
          1164.23,
          2134.8,
          1366.9,
          1258.63,
          1190.41,
          1018.47,
          1500.73,
          1168,
          1517.63,
          1245.04,
          1664.11,
          1107.1,
          1093.88,
          1487.25,
          1131.73,
          1683.13,
          1702.3,
          1638.39,
          2015.5,
          2067.75,
          1434.46,
          1447.22,
          1692.36,
          1959.71
         ],
         "yaxis": "y"
        },
        {
         "customdata": [
          [
           "Russia",
           "1990"
          ],
          [
           "Russia",
           "1991"
          ],
          [
           "Russia",
           "1992"
          ],
          [
           "Russia",
           "1993"
          ],
          [
           "Russia",
           "1994"
          ],
          [
           "Russia",
           "1995"
          ],
          [
           "Russia",
           "1996"
          ],
          [
           "Russia",
           "1997"
          ],
          [
           "Russia",
           "1998"
          ],
          [
           "Russia",
           "1999"
          ],
          [
           "Russia",
           "2000"
          ],
          [
           "Russia",
           "2001"
          ],
          [
           "Russia",
           "2002"
          ],
          [
           "Russia",
           "2003"
          ],
          [
           "Russia",
           "2004"
          ],
          [
           "Russia",
           "2005"
          ],
          [
           "Russia",
           "2006"
          ],
          [
           "Russia",
           "2007"
          ],
          [
           "Russia",
           "2008"
          ],
          [
           "Russia",
           "2009"
          ],
          [
           "Russia",
           "2010"
          ],
          [
           "Russia",
           "2011"
          ],
          [
           "Russia",
           "2012"
          ],
          [
           "Russia",
           "2013"
          ],
          [
           "Russia",
           "2014"
          ],
          [
           "Russia",
           "2015"
          ],
          [
           "Russia",
           "2016"
          ],
          [
           "Russia",
           "2017"
          ],
          [
           "Russia",
           "2018"
          ],
          [
           "Russia",
           "2019"
          ]
         ],
         "hovertemplate": "Country=%{customdata[0]}<br>GDP, Purchasing Power Parity (international trillion $)=%{x}<br>Total Greenhouse Gas Emissions (including LUCF)=%{y}<br>year=%{customdata[1]}<extra></extra>",
         "legendgroup": "Russia",
         "line": {
          "color": "#ab63fa",
          "dash": "solid"
         },
         "marker": {
          "symbol": "circle"
         },
         "mode": "lines+markers",
         "name": "Russia",
         "orientation": "v",
         "showlegend": true,
         "type": "scatter",
         "x": [
          1187861838305.39,
          1166054436930.23,
          1019326150479.11,
          953032494610.664,
          851031811018.684,
          832874933680.043,
          817526684921.467,
          843109809492.514,
          807029157570.942,
          870676186417.134,
          1000581025238.43,
          1074585972513.87,
          1167897269467.94,
          1338656016320.21,
          1473342751156.18,
          1696729209938.25,
          2133189651012.88,
          2377454045295.71,
          2878201315078.6,
          2768599517939.51,
          2927003701117.15,
          3259319197327.18,
          3480299219245.86,
          3741783381914.27,
          3763534951277.15,
          3526235948513.73,
          3538975998887.58,
          3807101264909.28,
          4231842328030.95,
          4412881400996.63
         ],
         "xaxis": "x",
         "y": [
          2648.36,
          2585.28,
          2428.18,
          2233.86,
          1995.87,
          1918.33,
          1874.95,
          1723.24,
          1725.07,
          1759.66,
          1812.87,
          1423.46,
          1422.39,
          1498.74,
          1491.42,
          1513.85,
          1553.64,
          1559.85,
          1570.09,
          1427.44,
          1521.96,
          1693.96,
          1674.58,
          1633.1,
          1621.85,
          1602.81,
          1733.91,
          1769.69,
          1868.15,
          1924.82
         ],
         "yaxis": "y"
        },
        {
         "customdata": [
          [
           "United States",
           "1990"
          ],
          [
           "United States",
           "1991"
          ],
          [
           "United States",
           "1992"
          ],
          [
           "United States",
           "1993"
          ],
          [
           "United States",
           "1994"
          ],
          [
           "United States",
           "1995"
          ],
          [
           "United States",
           "1996"
          ],
          [
           "United States",
           "1997"
          ],
          [
           "United States",
           "1998"
          ],
          [
           "United States",
           "1999"
          ],
          [
           "United States",
           "2000"
          ],
          [
           "United States",
           "2001"
          ],
          [
           "United States",
           "2002"
          ],
          [
           "United States",
           "2003"
          ],
          [
           "United States",
           "2004"
          ],
          [
           "United States",
           "2005"
          ],
          [
           "United States",
           "2006"
          ],
          [
           "United States",
           "2007"
          ],
          [
           "United States",
           "2008"
          ],
          [
           "United States",
           "2009"
          ],
          [
           "United States",
           "2010"
          ],
          [
           "United States",
           "2011"
          ],
          [
           "United States",
           "2012"
          ],
          [
           "United States",
           "2013"
          ],
          [
           "United States",
           "2014"
          ],
          [
           "United States",
           "2015"
          ],
          [
           "United States",
           "2016"
          ],
          [
           "United States",
           "2017"
          ],
          [
           "United States",
           "2018"
          ],
          [
           "United States",
           "2019"
          ]
         ],
         "hovertemplate": "Country=%{customdata[0]}<br>GDP, Purchasing Power Parity (international trillion $)=%{x}<br>Total Greenhouse Gas Emissions (including LUCF)=%{y}<br>year=%{customdata[1]}<extra></extra>",
         "legendgroup": "United States",
         "line": {
          "color": "#FFA15A",
          "dash": "solid"
         },
         "marker": {
          "symbol": "circle"
         },
         "mode": "lines+markers",
         "name": "United States",
         "orientation": "v",
         "showlegend": true,
         "type": "scatter",
         "x": [
          5963144000000,
          6158129000000,
          6520327000000,
          6858559000000,
          7287236000000,
          7639749000000,
          8073122000000,
          8577554457000,
          9062818202000.01,
          9631174489000.01,
          10250947997000,
          10581929774000,
          10929112955000,
          11456442041000,
          12217193198000,
          13039199193000,
          13815586948000,
          14474226905000,
          14769857911000,
          14478064934000,
          15048964444000,
          15599728123000,
          16253972230000,
          16843190993000,
          17550680174000,
          18206020741000,
          18695110842000,
          19479620055999.9,
          20527156026000,
          21372572437000
         ],
         "xaxis": "x",
         "y": [
          5417.32,
          5372.08,
          5456.12,
          5567.55,
          5661.57,
          5729.69,
          5901,
          6160.86,
          6208.83,
          6210.12,
          6372.54,
          6335.1,
          6182.64,
          6245.34,
          6331.91,
          6352.14,
          6260.2,
          6367.28,
          6184.08,
          5757.6,
          6026.14,
          5811.96,
          5593.25,
          5734.28,
          5779.54,
          5665.21,
          5743.85,
          5689.61,
          5892.37,
          5771
         ],
         "yaxis": "y"
        }
       ],
       "layout": {
        "height": 800,
        "legend": {
         "title": {
          "text": "Country"
         },
         "tracegroupgap": 0,
         "x": 0.01,
         "xanchor": "left",
         "y": 0.98,
         "yanchor": "top"
        },
        "template": {
         "data": {
          "bar": [
           {
            "error_x": {
             "color": "#2a3f5f"
            },
            "error_y": {
             "color": "#2a3f5f"
            },
            "marker": {
             "line": {
              "color": "#E5ECF6",
              "width": 0.5
             },
             "pattern": {
              "fillmode": "overlay",
              "size": 10,
              "solidity": 0.2
             }
            },
            "type": "bar"
           }
          ],
          "barpolar": [
           {
            "marker": {
             "line": {
              "color": "#E5ECF6",
              "width": 0.5
             },
             "pattern": {
              "fillmode": "overlay",
              "size": 10,
              "solidity": 0.2
             }
            },
            "type": "barpolar"
           }
          ],
          "carpet": [
           {
            "aaxis": {
             "endlinecolor": "#2a3f5f",
             "gridcolor": "white",
             "linecolor": "white",
             "minorgridcolor": "white",
             "startlinecolor": "#2a3f5f"
            },
            "baxis": {
             "endlinecolor": "#2a3f5f",
             "gridcolor": "white",
             "linecolor": "white",
             "minorgridcolor": "white",
             "startlinecolor": "#2a3f5f"
            },
            "type": "carpet"
           }
          ],
          "choropleth": [
           {
            "colorbar": {
             "outlinewidth": 0,
             "ticks": ""
            },
            "type": "choropleth"
           }
          ],
          "contour": [
           {
            "colorbar": {
             "outlinewidth": 0,
             "ticks": ""
            },
            "colorscale": [
             [
              0,
              "#0d0887"
             ],
             [
              0.1111111111111111,
              "#46039f"
             ],
             [
              0.2222222222222222,
              "#7201a8"
             ],
             [
              0.3333333333333333,
              "#9c179e"
             ],
             [
              0.4444444444444444,
              "#bd3786"
             ],
             [
              0.5555555555555556,
              "#d8576b"
             ],
             [
              0.6666666666666666,
              "#ed7953"
             ],
             [
              0.7777777777777778,
              "#fb9f3a"
             ],
             [
              0.8888888888888888,
              "#fdca26"
             ],
             [
              1,
              "#f0f921"
             ]
            ],
            "type": "contour"
           }
          ],
          "contourcarpet": [
           {
            "colorbar": {
             "outlinewidth": 0,
             "ticks": ""
            },
            "type": "contourcarpet"
           }
          ],
          "heatmap": [
           {
            "colorbar": {
             "outlinewidth": 0,
             "ticks": ""
            },
            "colorscale": [
             [
              0,
              "#0d0887"
             ],
             [
              0.1111111111111111,
              "#46039f"
             ],
             [
              0.2222222222222222,
              "#7201a8"
             ],
             [
              0.3333333333333333,
              "#9c179e"
             ],
             [
              0.4444444444444444,
              "#bd3786"
             ],
             [
              0.5555555555555556,
              "#d8576b"
             ],
             [
              0.6666666666666666,
              "#ed7953"
             ],
             [
              0.7777777777777778,
              "#fb9f3a"
             ],
             [
              0.8888888888888888,
              "#fdca26"
             ],
             [
              1,
              "#f0f921"
             ]
            ],
            "type": "heatmap"
           }
          ],
          "heatmapgl": [
           {
            "colorbar": {
             "outlinewidth": 0,
             "ticks": ""
            },
            "colorscale": [
             [
              0,
              "#0d0887"
             ],
             [
              0.1111111111111111,
              "#46039f"
             ],
             [
              0.2222222222222222,
              "#7201a8"
             ],
             [
              0.3333333333333333,
              "#9c179e"
             ],
             [
              0.4444444444444444,
              "#bd3786"
             ],
             [
              0.5555555555555556,
              "#d8576b"
             ],
             [
              0.6666666666666666,
              "#ed7953"
             ],
             [
              0.7777777777777778,
              "#fb9f3a"
             ],
             [
              0.8888888888888888,
              "#fdca26"
             ],
             [
              1,
              "#f0f921"
             ]
            ],
            "type": "heatmapgl"
           }
          ],
          "histogram": [
           {
            "marker": {
             "pattern": {
              "fillmode": "overlay",
              "size": 10,
              "solidity": 0.2
             }
            },
            "type": "histogram"
           }
          ],
          "histogram2d": [
           {
            "colorbar": {
             "outlinewidth": 0,
             "ticks": ""
            },
            "colorscale": [
             [
              0,
              "#0d0887"
             ],
             [
              0.1111111111111111,
              "#46039f"
             ],
             [
              0.2222222222222222,
              "#7201a8"
             ],
             [
              0.3333333333333333,
              "#9c179e"
             ],
             [
              0.4444444444444444,
              "#bd3786"
             ],
             [
              0.5555555555555556,
              "#d8576b"
             ],
             [
              0.6666666666666666,
              "#ed7953"
             ],
             [
              0.7777777777777778,
              "#fb9f3a"
             ],
             [
              0.8888888888888888,
              "#fdca26"
             ],
             [
              1,
              "#f0f921"
             ]
            ],
            "type": "histogram2d"
           }
          ],
          "histogram2dcontour": [
           {
            "colorbar": {
             "outlinewidth": 0,
             "ticks": ""
            },
            "colorscale": [
             [
              0,
              "#0d0887"
             ],
             [
              0.1111111111111111,
              "#46039f"
             ],
             [
              0.2222222222222222,
              "#7201a8"
             ],
             [
              0.3333333333333333,
              "#9c179e"
             ],
             [
              0.4444444444444444,
              "#bd3786"
             ],
             [
              0.5555555555555556,
              "#d8576b"
             ],
             [
              0.6666666666666666,
              "#ed7953"
             ],
             [
              0.7777777777777778,
              "#fb9f3a"
             ],
             [
              0.8888888888888888,
              "#fdca26"
             ],
             [
              1,
              "#f0f921"
             ]
            ],
            "type": "histogram2dcontour"
           }
          ],
          "mesh3d": [
           {
            "colorbar": {
             "outlinewidth": 0,
             "ticks": ""
            },
            "type": "mesh3d"
           }
          ],
          "parcoords": [
           {
            "line": {
             "colorbar": {
              "outlinewidth": 0,
              "ticks": ""
             }
            },
            "type": "parcoords"
           }
          ],
          "pie": [
           {
            "automargin": true,
            "type": "pie"
           }
          ],
          "scatter": [
           {
            "fillpattern": {
             "fillmode": "overlay",
             "size": 10,
             "solidity": 0.2
            },
            "type": "scatter"
           }
          ],
          "scatter3d": [
           {
            "line": {
             "colorbar": {
              "outlinewidth": 0,
              "ticks": ""
             }
            },
            "marker": {
             "colorbar": {
              "outlinewidth": 0,
              "ticks": ""
             }
            },
            "type": "scatter3d"
           }
          ],
          "scattercarpet": [
           {
            "marker": {
             "colorbar": {
              "outlinewidth": 0,
              "ticks": ""
             }
            },
            "type": "scattercarpet"
           }
          ],
          "scattergeo": [
           {
            "marker": {
             "colorbar": {
              "outlinewidth": 0,
              "ticks": ""
             }
            },
            "type": "scattergeo"
           }
          ],
          "scattergl": [
           {
            "marker": {
             "colorbar": {
              "outlinewidth": 0,
              "ticks": ""
             }
            },
            "type": "scattergl"
           }
          ],
          "scattermapbox": [
           {
            "marker": {
             "colorbar": {
              "outlinewidth": 0,
              "ticks": ""
             }
            },
            "type": "scattermapbox"
           }
          ],
          "scatterpolar": [
           {
            "marker": {
             "colorbar": {
              "outlinewidth": 0,
              "ticks": ""
             }
            },
            "type": "scatterpolar"
           }
          ],
          "scatterpolargl": [
           {
            "marker": {
             "colorbar": {
              "outlinewidth": 0,
              "ticks": ""
             }
            },
            "type": "scatterpolargl"
           }
          ],
          "scatterternary": [
           {
            "marker": {
             "colorbar": {
              "outlinewidth": 0,
              "ticks": ""
             }
            },
            "type": "scatterternary"
           }
          ],
          "surface": [
           {
            "colorbar": {
             "outlinewidth": 0,
             "ticks": ""
            },
            "colorscale": [
             [
              0,
              "#0d0887"
             ],
             [
              0.1111111111111111,
              "#46039f"
             ],
             [
              0.2222222222222222,
              "#7201a8"
             ],
             [
              0.3333333333333333,
              "#9c179e"
             ],
             [
              0.4444444444444444,
              "#bd3786"
             ],
             [
              0.5555555555555556,
              "#d8576b"
             ],
             [
              0.6666666666666666,
              "#ed7953"
             ],
             [
              0.7777777777777778,
              "#fb9f3a"
             ],
             [
              0.8888888888888888,
              "#fdca26"
             ],
             [
              1,
              "#f0f921"
             ]
            ],
            "type": "surface"
           }
          ],
          "table": [
           {
            "cells": {
             "fill": {
              "color": "#EBF0F8"
             },
             "line": {
              "color": "white"
             }
            },
            "header": {
             "fill": {
              "color": "#C8D4E3"
             },
             "line": {
              "color": "white"
             }
            },
            "type": "table"
           }
          ]
         },
         "layout": {
          "annotationdefaults": {
           "arrowcolor": "#2a3f5f",
           "arrowhead": 0,
           "arrowwidth": 1
          },
          "autotypenumbers": "strict",
          "coloraxis": {
           "colorbar": {
            "outlinewidth": 0,
            "ticks": ""
           }
          },
          "colorscale": {
           "diverging": [
            [
             0,
             "#8e0152"
            ],
            [
             0.1,
             "#c51b7d"
            ],
            [
             0.2,
             "#de77ae"
            ],
            [
             0.3,
             "#f1b6da"
            ],
            [
             0.4,
             "#fde0ef"
            ],
            [
             0.5,
             "#f7f7f7"
            ],
            [
             0.6,
             "#e6f5d0"
            ],
            [
             0.7,
             "#b8e186"
            ],
            [
             0.8,
             "#7fbc41"
            ],
            [
             0.9,
             "#4d9221"
            ],
            [
             1,
             "#276419"
            ]
           ],
           "sequential": [
            [
             0,
             "#0d0887"
            ],
            [
             0.1111111111111111,
             "#46039f"
            ],
            [
             0.2222222222222222,
             "#7201a8"
            ],
            [
             0.3333333333333333,
             "#9c179e"
            ],
            [
             0.4444444444444444,
             "#bd3786"
            ],
            [
             0.5555555555555556,
             "#d8576b"
            ],
            [
             0.6666666666666666,
             "#ed7953"
            ],
            [
             0.7777777777777778,
             "#fb9f3a"
            ],
            [
             0.8888888888888888,
             "#fdca26"
            ],
            [
             1,
             "#f0f921"
            ]
           ],
           "sequentialminus": [
            [
             0,
             "#0d0887"
            ],
            [
             0.1111111111111111,
             "#46039f"
            ],
            [
             0.2222222222222222,
             "#7201a8"
            ],
            [
             0.3333333333333333,
             "#9c179e"
            ],
            [
             0.4444444444444444,
             "#bd3786"
            ],
            [
             0.5555555555555556,
             "#d8576b"
            ],
            [
             0.6666666666666666,
             "#ed7953"
            ],
            [
             0.7777777777777778,
             "#fb9f3a"
            ],
            [
             0.8888888888888888,
             "#fdca26"
            ],
            [
             1,
             "#f0f921"
            ]
           ]
          },
          "colorway": [
           "#636efa",
           "#EF553B",
           "#00cc96",
           "#ab63fa",
           "#FFA15A",
           "#19d3f3",
           "#FF6692",
           "#B6E880",
           "#FF97FF",
           "#FECB52"
          ],
          "font": {
           "color": "#2a3f5f"
          },
          "geo": {
           "bgcolor": "white",
           "lakecolor": "white",
           "landcolor": "#E5ECF6",
           "showlakes": true,
           "showland": true,
           "subunitcolor": "white"
          },
          "hoverlabel": {
           "align": "left"
          },
          "hovermode": "closest",
          "mapbox": {
           "style": "light"
          },
          "paper_bgcolor": "white",
          "plot_bgcolor": "#E5ECF6",
          "polar": {
           "angularaxis": {
            "gridcolor": "white",
            "linecolor": "white",
            "ticks": ""
           },
           "bgcolor": "#E5ECF6",
           "radialaxis": {
            "gridcolor": "white",
            "linecolor": "white",
            "ticks": ""
           }
          },
          "scene": {
           "xaxis": {
            "backgroundcolor": "#E5ECF6",
            "gridcolor": "white",
            "gridwidth": 2,
            "linecolor": "white",
            "showbackground": true,
            "ticks": "",
            "zerolinecolor": "white"
           },
           "yaxis": {
            "backgroundcolor": "#E5ECF6",
            "gridcolor": "white",
            "gridwidth": 2,
            "linecolor": "white",
            "showbackground": true,
            "ticks": "",
            "zerolinecolor": "white"
           },
           "zaxis": {
            "backgroundcolor": "#E5ECF6",
            "gridcolor": "white",
            "gridwidth": 2,
            "linecolor": "white",
            "showbackground": true,
            "ticks": "",
            "zerolinecolor": "white"
           }
          },
          "shapedefaults": {
           "line": {
            "color": "#2a3f5f"
           }
          },
          "ternary": {
           "aaxis": {
            "gridcolor": "white",
            "linecolor": "white",
            "ticks": ""
           },
           "baxis": {
            "gridcolor": "white",
            "linecolor": "white",
            "ticks": ""
           },
           "bgcolor": "#E5ECF6",
           "caxis": {
            "gridcolor": "white",
            "linecolor": "white",
            "ticks": ""
           }
          },
          "title": {
           "x": 0.05
          },
          "xaxis": {
           "automargin": true,
           "gridcolor": "white",
           "linecolor": "white",
           "ticks": "",
           "title": {
            "standoff": 15
           },
           "zerolinecolor": "white",
           "zerolinewidth": 2
          },
          "yaxis": {
           "automargin": true,
           "gridcolor": "white",
           "linecolor": "white",
           "ticks": "",
           "title": {
            "standoff": 15
           },
           "zerolinecolor": "white",
           "zerolinewidth": 2
          }
         }
        },
        "title": {
         "text": "30 years of GDP vs GHG Emissions for the Top 5 Emitting Countries"
        },
        "width": 1000,
        "xaxis": {
         "anchor": "y",
         "domain": [
          0,
          1
         ],
         "title": {
          "text": "GDP, Purchasing Power Parity (international trillion $)"
         }
        },
        "yaxis": {
         "anchor": "x",
         "domain": [
          0,
          1
         ],
         "title": {
          "text": "Total Greenhouse Gas Emissions (including LUCF)"
         }
        }
       }
      }
     },
     "metadata": {},
     "output_type": "display_data"
    }
   ],
   "source": [
    "fig = px.line(\n",
    "    # Just show the top 5 in this plot\n",
    "    plot_df[plot_df['country'].isin(ghg_top_5[\"country\"])],\n",
    "    x=\"gdp\",\n",
    "    y=\"ghg\",\n",
    "    hover_data=[\"gdp\", \"ghg\", \"country\", \"year\"],\n",
    "    color=\"country\",\n",
    "    markers=True,\n",
    "    title=\"30 years of GDP vs GHG Emissions for the Top 5 Emitting Countries\",\n",
    "    labels={\n",
    "        \"gdp\": \"GDP, Purchasing Power Parity (international trillion $)\",\n",
    "        \"ghg\": \"Total Greenhouse Gas Emissions (including LUCF)\",\n",
    "        \"country\": \"Country\",\n",
    "    },\n",
    "    width=1000,\n",
    "    height=800,\n",
    ")\n",
    "\n",
    "fig.update_layout(legend={\"yanchor\": \"top\", \"y\": 0.98, \"xanchor\": \"left\", \"x\": 0.01})\n",
    "\n",
    "fig.show()\n"
   ]
  },
  {
   "cell_type": "code",
   "execution_count": 5,
   "metadata": {},
   "outputs": [
    {
     "data": {
      "text/html": [
       "<div>\n",
       "<style scoped>\n",
       "    .dataframe tbody tr th:only-of-type {\n",
       "        vertical-align: middle;\n",
       "    }\n",
       "\n",
       "    .dataframe tbody tr th {\n",
       "        vertical-align: top;\n",
       "    }\n",
       "\n",
       "    .dataframe thead th {\n",
       "        text-align: right;\n",
       "    }\n",
       "</style>\n",
       "<table border=\"1\" class=\"dataframe\">\n",
       "  <thead>\n",
       "    <tr style=\"text-align: right;\">\n",
       "      <th></th>\n",
       "      <th>country</th>\n",
       "      <th>last_5_mean</th>\n",
       "    </tr>\n",
       "  </thead>\n",
       "  <tbody>\n",
       "    <tr>\n",
       "      <th>8202</th>\n",
       "      <td>Democratic Republic of the Congo</td>\n",
       "      <td>679.676</td>\n",
       "    </tr>\n",
       "    <tr>\n",
       "      <th>24721</th>\n",
       "      <td>Poland</td>\n",
       "      <td>329.086</td>\n",
       "    </tr>\n",
       "    <tr>\n",
       "      <th>13995</th>\n",
       "      <td>India</td>\n",
       "      <td>3203.756</td>\n",
       "    </tr>\n",
       "    <tr>\n",
       "      <th>25983</th>\n",
       "      <td>Saint Kitts and Nevis</td>\n",
       "      <td>0.342</td>\n",
       "    </tr>\n",
       "    <tr>\n",
       "      <th>20510</th>\n",
       "      <td>Mongolia</td>\n",
       "      <td>53.674</td>\n",
       "    </tr>\n",
       "  </tbody>\n",
       "</table>\n",
       "</div>"
      ],
      "text/plain": [
       "                                country  last_5_mean\n",
       "8202   Democratic Republic of the Congo      679.676\n",
       "24721                            Poland      329.086\n",
       "13995                             India     3203.756\n",
       "25983             Saint Kitts and Nevis        0.342\n",
       "20510                          Mongolia       53.674"
      ]
     },
     "execution_count": 5,
     "metadata": {},
     "output_type": "execute_result"
    }
   ],
   "source": [
    "last_5_years = list(map(str, range(2015, 2020)))\n",
    "\n",
    "emissions_df = df[\n",
    "    # Omit EU and World aggregates, we're going to recalculate the world totals\n",
    "    ~df[\"c_code\"].isin([\"EUU\", \"WLD\"])\n",
    "    # Grab emission totals\n",
    "    & (df[\"gas\"].eq(\"All GHG\") & df[\"indicator\"].eq(\"Total including LUCF\"))\n",
    "]\n",
    "\n",
    "last_5_mean = emissions_df[[*last_5_years]].mean(axis=\"columns\")\n",
    "\n",
    "last_5_mean_df = pd.DataFrame({\"country\": emissions_df['country'], \"last_5_mean\": last_5_mean})\n",
    "\n",
    "last_5_mean_df.sample(5, random_state=42)"
   ]
  },
  {
   "cell_type": "code",
   "execution_count": 6,
   "metadata": {},
   "outputs": [
    {
     "name": "stdout",
     "output_type": "stream",
     "text": [
      "This data is heavily skewed with the top 25 countries emitting 78.53% of the world's greenhouse gas, while the bottom 168 countries make up the remaining 21.47% based on the mean aggregation of total GHG emissions for 2015-2019.\n"
     ]
    }
   ],
   "source": [
    "world_total = last_5_mean_df[\"last_5_mean\"].sum()\n",
    "# print(world_total)\n",
    "# 46558.462\n",
    "\n",
    "groups = last_5_mean_df.groupby(\"last_5_mean\")\n",
    "top_emitters = groups.filter(lambda x: x[\"last_5_mean\"].gt(350))\n",
    "top_emitters_sum = top_emitters[\"last_5_mean\"].sum()\n",
    "remainder = groups.filter(lambda x: x[\"last_5_mean\"].lt(350))\n",
    "remainder_sum = remainder[\"last_5_mean\"].sum()\n",
    "\n",
    "print(\n",
    "    f\"This data is heavily skewed with the top {len(top_emitters)} countries emitting \"\n",
    "    + f\"{round((top_emitters_sum / world_total) * 100, 2)}% of the world's greenhouse gas, \"\n",
    "    + f\"while the bottom {len(remainder)} countries make up the remaining \"\n",
    "    + f\"{round((remainder_sum / world_total) * 100, 2)}% based on the mean aggregation \"\n",
    "    + \"of total GHG emissions for 2015-2019.\"\n",
    ")\n"
   ]
  },
  {
   "cell_type": "code",
   "execution_count": 7,
   "metadata": {},
   "outputs": [
    {
     "name": "stdout",
     "output_type": "stream",
     "text": [
      "Python implementation: CPython\n",
      "Python version       : 3.10.6\n",
      "IPython version      : 8.5.0\n",
      "\n",
      "Compiler    : Clang 13.1.6 (clang-1316.0.21.2.5)\n",
      "OS          : Darwin\n",
      "Release     : 21.5.0\n",
      "Machine     : x86_64\n",
      "Processor   : i386\n",
      "CPU cores   : 8\n",
      "Architecture: 64bit\n",
      "\n",
      "pandas: 1.5.0\n",
      "sys   : 3.10.6 (main, Aug 30 2022, 05:12:36) [Clang 13.1.6 (clang-1316.0.21.2.5)]\n",
      "plotly: 5.10.0\n",
      "\n"
     ]
    }
   ],
   "source": [
    "%reload_ext watermark\n",
    "\n",
    "%watermark -iv -v -m"
   ]
  }
 ],
 "metadata": {
  "kernelspec": {
   "display_name": "Python 3.10.6 ('.venv': pipenv)",
   "language": "python",
   "name": "python3"
  },
  "language_info": {
   "codemirror_mode": {
    "name": "ipython",
    "version": 3
   },
   "file_extension": ".py",
   "mimetype": "text/x-python",
   "name": "python",
   "nbconvert_exporter": "python",
   "pygments_lexer": "ipython3",
   "version": "3.10.6"
  },
  "orig_nbformat": 4,
  "vscode": {
   "interpreter": {
    "hash": "5d1aacbff75353ea0b21d5e0926e0a5a638019dc06de63463aad65420426ff82"
   }
  }
 },
 "nbformat": 4,
 "nbformat_minor": 2
}
