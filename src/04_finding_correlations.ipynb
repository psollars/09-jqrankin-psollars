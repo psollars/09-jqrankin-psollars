{
 "cells": [
  {
   "cell_type": "markdown",
   "metadata": {},
   "source": [
    "# Finding Correlations\n"
   ]
  },
  {
   "cell_type": "code",
   "execution_count": 1,
   "metadata": {},
   "outputs": [],
   "source": [
    "import pandas as pd\n",
    "import numpy as np\n",
    "from scipy import stats\n",
    "from typing import Tuple\n",
    "import plotly.express as px\n",
    "import plotly.graph_objects as go\n",
    "import altair as alt\n",
    "from IPython.display import display\n",
    "from plotly.graph_objects import Figure\n",
    "\n",
    "# 😉 Go Blue!\n",
    "maize = \"#FFCB05\"  # also rgb(255, 203, 5)\n",
    "blue = \"#00274C\"  # also rgb(0, 39, 76)\n",
    "\n",
    "df = pd.read_csv(\"./data/complete_dataset_with_interpolation.csv\")\n"
   ]
  },
  {
   "cell_type": "code",
   "execution_count": 2,
   "metadata": {},
   "outputs": [],
   "source": [
    "def build_correlation_df(\n",
    "    df: pd.DataFrame, years: int, x: str, y: str\n",
    ") -> Tuple[pd.DataFrame, float, float]:\n",
    "    df_corr = df[df[\"indicator\"].eq(x) | (df[\"indicator\"].eq(y))]\n",
    "\n",
    "    # Convert values to x and y\n",
    "    df_corr = df_corr.replace({x: \"x\", y: \"y\"})\n",
    "\n",
    "    # Limit data to the past n `years`\n",
    "    df_corr = df_corr[[\"country\", \"indicator\", *map(str, range((2020 - years), 2020))]]\n",
    "\n",
    "    df_corr = (\n",
    "        df_corr.melt(id_vars=[\"country\", \"indicator\"])\n",
    "        .groupby([\"country\", \"indicator\"])\n",
    "        .mean(numeric_only=True)\n",
    "        .reset_index()\n",
    "        .pivot(index=\"country\", columns=\"indicator\")\n",
    "        .droplevel(0, axis=\"columns\")\n",
    "        .reset_index()\n",
    "        .dropna()\n",
    "    )\n",
    "\n",
    "    p_corr, p_pval = stats.pearsonr(df_corr[\"x\"], df_corr[\"y\"])\n",
    "    s_corr, s_pval = stats.spearmanr(df_corr[\"x\"], df_corr[\"y\"])\n",
    "\n",
    "    return df_corr, p_corr, p_pval, s_corr, s_pval\n"
   ]
  },
  {
   "cell_type": "markdown",
   "metadata": {},
   "source": [
    "Remove the two aggregate sources in our data, the EU and World totals.\n"
   ]
  },
  {
   "cell_type": "code",
   "execution_count": 3,
   "metadata": {},
   "outputs": [],
   "source": [
    "find_corr_df = df[~df[\"c_code\"].isin([\"EUU\", \"WLD\"])]\n"
   ]
  },
  {
   "cell_type": "markdown",
   "metadata": {},
   "source": [
    "Generate list of sectors and gas types to try in our correlation function.\n"
   ]
  },
  {
   "cell_type": "code",
   "execution_count": 4,
   "metadata": {},
   "outputs": [
    {
     "data": {
      "text/plain": [
       "array(['Agriculture', 'Building', 'Bunker Fuels', 'Electricity/Heat',\n",
       "       'Energy', 'Fugitive Emissions', 'Industrial Processes',\n",
       "       'Land-Use Change and Forestry', 'Manufacturing/Construction',\n",
       "       'Other Fuel Combustion', 'Total excluding LUCF',\n",
       "       'Total including LUCF', 'Transportation', 'Waste'], dtype=object)"
      ]
     },
     "execution_count": 4,
     "metadata": {},
     "output_type": "execute_result"
    }
   ],
   "source": [
    "sectors = find_corr_df[find_corr_df[\"gas\"].notna()][\"indicator\"].unique()\n",
    "\n",
    "sectors\n"
   ]
  },
  {
   "cell_type": "code",
   "execution_count": 5,
   "metadata": {},
   "outputs": [
    {
     "data": {
      "text/plain": [
       "array(['All GHG', 'CH4', 'N2O', 'CO2', 'F-Gas'], dtype=object)"
      ]
     },
     "execution_count": 5,
     "metadata": {},
     "output_type": "execute_result"
    }
   ],
   "source": [
    "gases = find_corr_df[find_corr_df[\"gas\"].notna()][\"gas\"].unique()\n",
    "\n",
    "gases\n"
   ]
  },
  {
   "cell_type": "markdown",
   "metadata": {},
   "source": [
    "Generate a list of all correlations for these sectors.\n"
   ]
  },
  {
   "cell_type": "code",
   "execution_count": 6,
   "metadata": {},
   "outputs": [],
   "source": [
    "years = 30\n",
    "corr_sectors = [\"Land-Use Change and Forestry\", \"Total excluding LUCF\", \"Total including LUCF\"]\n",
    "indicators = df[~df[\"indicator\"].isin(sectors)][\"indicator\"].unique()\n",
    "\n",
    "results = []\n",
    "for x in indicators:\n",
    "    for y in corr_sectors:\n",
    "        try:\n",
    "            out_df, p_r, p_p, s_r, s_p = build_correlation_df(find_corr_df, years, x, y)\n",
    "            results.append((x, y, len(out_df), p_r, p_p, s_r, s_p))\n",
    "        except:\n",
    "            # The correlation doesn't work if there are singular data points or if the indicators are identical.\n",
    "            continue\n",
    "\n",
    "# Sort by Pearson's r values\n",
    "results = sorted(results, key=lambda x: x[3], reverse=True)\n"
   ]
  },
  {
   "cell_type": "code",
   "execution_count": 7,
   "metadata": {},
   "outputs": [],
   "source": [
    "correlation_df = pd.DataFrame(\n",
    "    results,\n",
    "    columns=[\n",
    "        \"indicator\",\n",
    "        \"ghg_sector\",\n",
    "        \"n\",\n",
    "        \"pearson_r\",\n",
    "        \"pearson_p_value\",\n",
    "        \"spearman_r\",\n",
    "        \"spearman_p_value\",\n",
    "    ],\n",
    ")\n",
    "\n",
    "# Generate complete correlation output to analyze indicators\n",
    "# correlation_df.to_csv(\"./data/correlations.csv\", index=False)\n"
   ]
  },
  {
   "cell_type": "code",
   "execution_count": 8,
   "metadata": {},
   "outputs": [
    {
     "data": {
      "text/html": [
       "<div>\n",
       "<style scoped>\n",
       "    .dataframe tbody tr th:only-of-type {\n",
       "        vertical-align: middle;\n",
       "    }\n",
       "\n",
       "    .dataframe tbody tr th {\n",
       "        vertical-align: top;\n",
       "    }\n",
       "\n",
       "    .dataframe thead th {\n",
       "        text-align: right;\n",
       "    }\n",
       "</style>\n",
       "<table border=\"1\" class=\"dataframe\">\n",
       "  <thead>\n",
       "    <tr style=\"text-align: right;\">\n",
       "      <th></th>\n",
       "      <th>indicator</th>\n",
       "      <th>ghg_sector</th>\n",
       "      <th>n</th>\n",
       "      <th>pearson_r</th>\n",
       "      <th>pearson_p_value</th>\n",
       "      <th>spearman_r</th>\n",
       "      <th>spearman_p_value</th>\n",
       "    </tr>\n",
       "  </thead>\n",
       "  <tbody>\n",
       "    <tr>\n",
       "      <th>0</th>\n",
       "      <td>Proportion of population living in multidimens...</td>\n",
       "      <td>Land-Use Change and Forestry</td>\n",
       "      <td>2</td>\n",
       "      <td>1.000000</td>\n",
       "      <td>1.000000e+00</td>\n",
       "      <td>1.000000</td>\n",
       "      <td>NaN</td>\n",
       "    </tr>\n",
       "    <tr>\n",
       "      <th>1</th>\n",
       "      <td>Proportion of population living in multidimens...</td>\n",
       "      <td>Total excluding LUCF</td>\n",
       "      <td>2</td>\n",
       "      <td>1.000000</td>\n",
       "      <td>1.000000e+00</td>\n",
       "      <td>1.000000</td>\n",
       "      <td>NaN</td>\n",
       "    </tr>\n",
       "    <tr>\n",
       "      <th>2</th>\n",
       "      <td>Proportion of population living in multidimens...</td>\n",
       "      <td>Total including LUCF</td>\n",
       "      <td>2</td>\n",
       "      <td>1.000000</td>\n",
       "      <td>1.000000e+00</td>\n",
       "      <td>1.000000</td>\n",
       "      <td>NaN</td>\n",
       "    </tr>\n",
       "    <tr>\n",
       "      <th>3</th>\n",
       "      <td>Average share of weighted deprivations of tota...</td>\n",
       "      <td>Land-Use Change and Forestry</td>\n",
       "      <td>3</td>\n",
       "      <td>0.990559</td>\n",
       "      <td>8.754984e-02</td>\n",
       "      <td>1.000000</td>\n",
       "      <td>0.000000e+00</td>\n",
       "    </tr>\n",
       "    <tr>\n",
       "      <th>4</th>\n",
       "      <td>Proportion of households living in multidimens...</td>\n",
       "      <td>Land-Use Change and Forestry</td>\n",
       "      <td>3</td>\n",
       "      <td>0.990559</td>\n",
       "      <td>8.754984e-02</td>\n",
       "      <td>1.000000</td>\n",
       "      <td>0.000000e+00</td>\n",
       "    </tr>\n",
       "    <tr>\n",
       "      <th>5</th>\n",
       "      <td>GDP, PPP (current international $)</td>\n",
       "      <td>Total excluding LUCF</td>\n",
       "      <td>186</td>\n",
       "      <td>0.944926</td>\n",
       "      <td>3.461746e-91</td>\n",
       "      <td>0.954670</td>\n",
       "      <td>9.019016e-99</td>\n",
       "    </tr>\n",
       "    <tr>\n",
       "      <th>6</th>\n",
       "      <td>GDP, PPP (current international $)</td>\n",
       "      <td>Total including LUCF</td>\n",
       "      <td>186</td>\n",
       "      <td>0.944847</td>\n",
       "      <td>3.939432e-91</td>\n",
       "      <td>0.904849</td>\n",
       "      <td>3.740844e-70</td>\n",
       "    </tr>\n",
       "    <tr>\n",
       "      <th>7</th>\n",
       "      <td>GDP, PPP (constant 2017 international $)</td>\n",
       "      <td>Total excluding LUCF</td>\n",
       "      <td>182</td>\n",
       "      <td>0.922108</td>\n",
       "      <td>3.828819e-76</td>\n",
       "      <td>0.953408</td>\n",
       "      <td>1.297847e-95</td>\n",
       "    </tr>\n",
       "    <tr>\n",
       "      <th>8</th>\n",
       "      <td>GDP, PPP (constant 2017 international $)</td>\n",
       "      <td>Total including LUCF</td>\n",
       "      <td>182</td>\n",
       "      <td>0.920276</td>\n",
       "      <td>2.853189e-75</td>\n",
       "      <td>0.902026</td>\n",
       "      <td>1.404674e-67</td>\n",
       "    </tr>\n",
       "    <tr>\n",
       "      <th>9</th>\n",
       "      <td>Average share of weighted deprivations of tota...</td>\n",
       "      <td>Land-Use Change and Forestry</td>\n",
       "      <td>3</td>\n",
       "      <td>0.854712</td>\n",
       "      <td>3.474671e-01</td>\n",
       "      <td>1.000000</td>\n",
       "      <td>0.000000e+00</td>\n",
       "    </tr>\n",
       "  </tbody>\n",
       "</table>\n",
       "</div>"
      ],
      "text/plain": [
       "                                           indicator  \\\n",
       "0  Proportion of population living in multidimens...   \n",
       "1  Proportion of population living in multidimens...   \n",
       "2  Proportion of population living in multidimens...   \n",
       "3  Average share of weighted deprivations of tota...   \n",
       "4  Proportion of households living in multidimens...   \n",
       "5                 GDP, PPP (current international $)   \n",
       "6                 GDP, PPP (current international $)   \n",
       "7           GDP, PPP (constant 2017 international $)   \n",
       "8           GDP, PPP (constant 2017 international $)   \n",
       "9  Average share of weighted deprivations of tota...   \n",
       "\n",
       "                     ghg_sector    n  pearson_r  pearson_p_value  spearman_r  \\\n",
       "0  Land-Use Change and Forestry    2   1.000000     1.000000e+00    1.000000   \n",
       "1          Total excluding LUCF    2   1.000000     1.000000e+00    1.000000   \n",
       "2          Total including LUCF    2   1.000000     1.000000e+00    1.000000   \n",
       "3  Land-Use Change and Forestry    3   0.990559     8.754984e-02    1.000000   \n",
       "4  Land-Use Change and Forestry    3   0.990559     8.754984e-02    1.000000   \n",
       "5          Total excluding LUCF  186   0.944926     3.461746e-91    0.954670   \n",
       "6          Total including LUCF  186   0.944847     3.939432e-91    0.904849   \n",
       "7          Total excluding LUCF  182   0.922108     3.828819e-76    0.953408   \n",
       "8          Total including LUCF  182   0.920276     2.853189e-75    0.902026   \n",
       "9  Land-Use Change and Forestry    3   0.854712     3.474671e-01    1.000000   \n",
       "\n",
       "   spearman_p_value  \n",
       "0               NaN  \n",
       "1               NaN  \n",
       "2               NaN  \n",
       "3      0.000000e+00  \n",
       "4      0.000000e+00  \n",
       "5      9.019016e-99  \n",
       "6      3.740844e-70  \n",
       "7      1.297847e-95  \n",
       "8      1.404674e-67  \n",
       "9      0.000000e+00  "
      ]
     },
     "execution_count": 8,
     "metadata": {},
     "output_type": "execute_result"
    }
   ],
   "source": [
    "correlation_df.head(10)\n"
   ]
  },
  {
   "cell_type": "code",
   "execution_count": 9,
   "metadata": {},
   "outputs": [
    {
     "data": {
      "text/html": [
       "<div>\n",
       "<style scoped>\n",
       "    .dataframe tbody tr th:only-of-type {\n",
       "        vertical-align: middle;\n",
       "    }\n",
       "\n",
       "    .dataframe tbody tr th {\n",
       "        vertical-align: top;\n",
       "    }\n",
       "\n",
       "    .dataframe thead th {\n",
       "        text-align: right;\n",
       "    }\n",
       "</style>\n",
       "<table border=\"1\" class=\"dataframe\">\n",
       "  <thead>\n",
       "    <tr style=\"text-align: right;\">\n",
       "      <th></th>\n",
       "      <th>indicator</th>\n",
       "      <th>ghg_sector</th>\n",
       "      <th>n</th>\n",
       "      <th>pearson_r</th>\n",
       "      <th>pearson_p_value</th>\n",
       "      <th>spearman_r</th>\n",
       "      <th>spearman_p_value</th>\n",
       "    </tr>\n",
       "  </thead>\n",
       "  <tbody>\n",
       "    <tr>\n",
       "      <th>539</th>\n",
       "      <td>Proportion of children living in child-specifi...</td>\n",
       "      <td>Total including LUCF</td>\n",
       "      <td>9</td>\n",
       "      <td>-0.578029</td>\n",
       "      <td>0.103051</td>\n",
       "      <td>-0.200000</td>\n",
       "      <td>0.605901</td>\n",
       "    </tr>\n",
       "    <tr>\n",
       "      <th>540</th>\n",
       "      <td>Average proportion of deprivations for people ...</td>\n",
       "      <td>Total including LUCF</td>\n",
       "      <td>21</td>\n",
       "      <td>-0.598074</td>\n",
       "      <td>0.004187</td>\n",
       "      <td>0.027273</td>\n",
       "      <td>0.906584</td>\n",
       "    </tr>\n",
       "    <tr>\n",
       "      <th>541</th>\n",
       "      <td>Proportion of children living in child-specifi...</td>\n",
       "      <td>Total including LUCF</td>\n",
       "      <td>11</td>\n",
       "      <td>-0.618452</td>\n",
       "      <td>0.042529</td>\n",
       "      <td>-0.290909</td>\n",
       "      <td>0.385457</td>\n",
       "    </tr>\n",
       "    <tr>\n",
       "      <th>542</th>\n",
       "      <td>Average proportion of deprivations for people ...</td>\n",
       "      <td>Total including LUCF</td>\n",
       "      <td>21</td>\n",
       "      <td>-0.637307</td>\n",
       "      <td>0.001887</td>\n",
       "      <td>-0.103896</td>\n",
       "      <td>0.654027</td>\n",
       "    </tr>\n",
       "    <tr>\n",
       "      <th>543</th>\n",
       "      <td>Proportion of children living in child-specifi...</td>\n",
       "      <td>Total excluding LUCF</td>\n",
       "      <td>11</td>\n",
       "      <td>-0.649502</td>\n",
       "      <td>0.030556</td>\n",
       "      <td>-0.290909</td>\n",
       "      <td>0.385457</td>\n",
       "    </tr>\n",
       "    <tr>\n",
       "      <th>544</th>\n",
       "      <td>Average proportion of deprivations for people ...</td>\n",
       "      <td>Total excluding LUCF</td>\n",
       "      <td>21</td>\n",
       "      <td>-0.658548</td>\n",
       "      <td>0.001170</td>\n",
       "      <td>-0.177922</td>\n",
       "      <td>0.440350</td>\n",
       "    </tr>\n",
       "    <tr>\n",
       "      <th>545</th>\n",
       "      <td>Proportion of children living in child-specifi...</td>\n",
       "      <td>Total excluding LUCF</td>\n",
       "      <td>9</td>\n",
       "      <td>-0.658939</td>\n",
       "      <td>0.053573</td>\n",
       "      <td>-0.133333</td>\n",
       "      <td>0.732368</td>\n",
       "    </tr>\n",
       "    <tr>\n",
       "      <th>546</th>\n",
       "      <td>Average proportion of deprivations for people ...</td>\n",
       "      <td>Total excluding LUCF</td>\n",
       "      <td>21</td>\n",
       "      <td>-0.693483</td>\n",
       "      <td>0.000490</td>\n",
       "      <td>-0.294805</td>\n",
       "      <td>0.194527</td>\n",
       "    </tr>\n",
       "    <tr>\n",
       "      <th>547</th>\n",
       "      <td>Average share of weighted deprivations of tota...</td>\n",
       "      <td>Total excluding LUCF</td>\n",
       "      <td>3</td>\n",
       "      <td>-0.897972</td>\n",
       "      <td>0.290081</td>\n",
       "      <td>-0.500000</td>\n",
       "      <td>0.666667</td>\n",
       "    </tr>\n",
       "    <tr>\n",
       "      <th>548</th>\n",
       "      <td>Proportion of households living in multidimens...</td>\n",
       "      <td>Total excluding LUCF</td>\n",
       "      <td>3</td>\n",
       "      <td>-0.897972</td>\n",
       "      <td>0.290081</td>\n",
       "      <td>-0.500000</td>\n",
       "      <td>0.666667</td>\n",
       "    </tr>\n",
       "  </tbody>\n",
       "</table>\n",
       "</div>"
      ],
      "text/plain": [
       "                                             indicator            ghg_sector  \\\n",
       "539  Proportion of children living in child-specifi...  Total including LUCF   \n",
       "540  Average proportion of deprivations for people ...  Total including LUCF   \n",
       "541  Proportion of children living in child-specifi...  Total including LUCF   \n",
       "542  Average proportion of deprivations for people ...  Total including LUCF   \n",
       "543  Proportion of children living in child-specifi...  Total excluding LUCF   \n",
       "544  Average proportion of deprivations for people ...  Total excluding LUCF   \n",
       "545  Proportion of children living in child-specifi...  Total excluding LUCF   \n",
       "546  Average proportion of deprivations for people ...  Total excluding LUCF   \n",
       "547  Average share of weighted deprivations of tota...  Total excluding LUCF   \n",
       "548  Proportion of households living in multidimens...  Total excluding LUCF   \n",
       "\n",
       "      n  pearson_r  pearson_p_value  spearman_r  spearman_p_value  \n",
       "539   9  -0.578029         0.103051   -0.200000          0.605901  \n",
       "540  21  -0.598074         0.004187    0.027273          0.906584  \n",
       "541  11  -0.618452         0.042529   -0.290909          0.385457  \n",
       "542  21  -0.637307         0.001887   -0.103896          0.654027  \n",
       "543  11  -0.649502         0.030556   -0.290909          0.385457  \n",
       "544  21  -0.658548         0.001170   -0.177922          0.440350  \n",
       "545   9  -0.658939         0.053573   -0.133333          0.732368  \n",
       "546  21  -0.693483         0.000490   -0.294805          0.194527  \n",
       "547   3  -0.897972         0.290081   -0.500000          0.666667  \n",
       "548   3  -0.897972         0.290081   -0.500000          0.666667  "
      ]
     },
     "execution_count": 9,
     "metadata": {},
     "output_type": "execute_result"
    }
   ],
   "source": [
    "correlation_df.tail(10)\n"
   ]
  },
  {
   "cell_type": "code",
   "execution_count": 10,
   "metadata": {},
   "outputs": [],
   "source": [
    "def build_correlation_plot(\n",
    "    df: pd.DataFrame, x: str, y: str, corr: float, pval: float, log_scale=False\n",
    ") -> Figure:\n",
    "    df_plt = (df[df[\"x\"].gt(0) & df[\"y\"].gt(0)]) if log_scale else df\n",
    "    x_label = f\"{x} (Log Scaled)\" if log_scale else x\n",
    "    y_label = f\"{y} (Log Scaled)\" if log_scale else y\n",
    "\n",
    "    fig = px.scatter(\n",
    "        df_plt,\n",
    "        x=\"x\",\n",
    "        y=\"y\",\n",
    "        log_x=(True if log_scale else False),\n",
    "        log_y=(True if log_scale else False),\n",
    "        labels={\"x\": x_label, \"y\": y_label},\n",
    "        title=f\"Correlation between {x}<br>and {y}<br>Pearson's r: {corr}, P-value: {pval}, n={len(df_plt)}<br>\",\n",
    "        hover_data=[\"country\"],\n",
    "        color_discrete_sequence=[blue],\n",
    "        trendline=\"ols\",\n",
    "        trendline_options=({\"log_x\": True, \"log_y\": True} if log_scale else None),\n",
    "        trendline_color_override=maize,\n",
    "    )\n",
    "\n",
    "    fig.update_layout(width=800, height=600)\n",
    "\n",
    "    return fig\n"
   ]
  },
  {
   "cell_type": "code",
   "execution_count": 11,
   "metadata": {},
   "outputs": [
    {
     "data": {
      "application/vnd.plotly.v1+json": {
       "config": {
        "plotlyServerURL": "https://plot.ly"
       },
       "data": [
        {
         "customdata": [
          [
           "Afghanistan"
          ],
          [
           "Albania"
          ],
          [
           "Algeria"
          ],
          [
           "Angola"
          ],
          [
           "Antigua and Barbuda"
          ],
          [
           "Argentina"
          ],
          [
           "Armenia"
          ],
          [
           "Australia"
          ],
          [
           "Austria"
          ],
          [
           "Azerbaijan"
          ],
          [
           "Bahamas"
          ],
          [
           "Bahrain"
          ],
          [
           "Bangladesh"
          ],
          [
           "Barbados"
          ],
          [
           "Belarus"
          ],
          [
           "Belgium"
          ],
          [
           "Belize"
          ],
          [
           "Benin"
          ],
          [
           "Bolivia"
          ],
          [
           "Bosnia and Herzegovina"
          ],
          [
           "Botswana"
          ],
          [
           "Brazil"
          ],
          [
           "Brunei"
          ],
          [
           "Bulgaria"
          ],
          [
           "Burkina Faso"
          ],
          [
           "Burundi"
          ],
          [
           "Cambodia"
          ],
          [
           "Cameroon"
          ],
          [
           "Canada"
          ],
          [
           "Cape Verde"
          ],
          [
           "Central African Republic"
          ],
          [
           "Chad"
          ],
          [
           "Chile"
          ],
          [
           "China"
          ],
          [
           "Colombia"
          ],
          [
           "Comoros"
          ],
          [
           "Costa Rica"
          ],
          [
           "Croatia"
          ],
          [
           "Cyprus"
          ],
          [
           "Czech Republic"
          ],
          [
           "Côte d'Ivoire"
          ],
          [
           "Democratic Republic of the Congo"
          ],
          [
           "Denmark"
          ],
          [
           "Djibouti"
          ],
          [
           "Dominica"
          ],
          [
           "Dominican Republic"
          ],
          [
           "Ecuador"
          ],
          [
           "Egypt"
          ],
          [
           "El Salvador"
          ],
          [
           "Equatorial Guinea"
          ],
          [
           "Eritrea"
          ],
          [
           "Estonia"
          ],
          [
           "Eswatini"
          ],
          [
           "Ethiopia"
          ],
          [
           "Finland"
          ],
          [
           "France"
          ],
          [
           "Gabon"
          ],
          [
           "Gambia"
          ],
          [
           "Georgia"
          ],
          [
           "Germany"
          ],
          [
           "Ghana"
          ],
          [
           "Greece"
          ],
          [
           "Grenada"
          ],
          [
           "Guatemala"
          ],
          [
           "Guinea"
          ],
          [
           "Guinea-Bissau"
          ],
          [
           "Guyana"
          ],
          [
           "Haiti"
          ],
          [
           "Honduras"
          ],
          [
           "Hungary"
          ],
          [
           "Iceland"
          ],
          [
           "India"
          ],
          [
           "Indonesia"
          ],
          [
           "Iran"
          ],
          [
           "Iraq"
          ],
          [
           "Ireland"
          ],
          [
           "Israel"
          ],
          [
           "Italy"
          ],
          [
           "Jamaica"
          ],
          [
           "Japan"
          ],
          [
           "Jordan"
          ],
          [
           "Kazakhstan"
          ],
          [
           "Kenya"
          ],
          [
           "Kiribati"
          ],
          [
           "Kuwait"
          ],
          [
           "Kyrgyzstan"
          ],
          [
           "Laos"
          ],
          [
           "Latvia"
          ],
          [
           "Lebanon"
          ],
          [
           "Lesotho"
          ],
          [
           "Liberia"
          ],
          [
           "Libya"
          ],
          [
           "Lithuania"
          ],
          [
           "Luxembourg"
          ],
          [
           "Macedonia"
          ],
          [
           "Madagascar"
          ],
          [
           "Malawi"
          ],
          [
           "Malaysia"
          ],
          [
           "Maldives"
          ],
          [
           "Mali"
          ],
          [
           "Malta"
          ],
          [
           "Marshall Islands"
          ],
          [
           "Mauritania"
          ],
          [
           "Mauritius"
          ],
          [
           "Mexico"
          ],
          [
           "Micronesia"
          ],
          [
           "Moldova"
          ],
          [
           "Mongolia"
          ],
          [
           "Montenegro"
          ],
          [
           "Morocco"
          ],
          [
           "Mozambique"
          ],
          [
           "Myanmar"
          ],
          [
           "Namibia"
          ],
          [
           "Nauru"
          ],
          [
           "Nepal"
          ],
          [
           "Netherlands"
          ],
          [
           "New Zealand"
          ],
          [
           "Nicaragua"
          ],
          [
           "Niger"
          ],
          [
           "Nigeria"
          ],
          [
           "Norway"
          ],
          [
           "Oman"
          ],
          [
           "Pakistan"
          ],
          [
           "Palau"
          ],
          [
           "Panama"
          ],
          [
           "Papua New Guinea"
          ],
          [
           "Paraguay"
          ],
          [
           "Peru"
          ],
          [
           "Philippines"
          ],
          [
           "Poland"
          ],
          [
           "Portugal"
          ],
          [
           "Qatar"
          ],
          [
           "Republic of Congo"
          ],
          [
           "Romania"
          ],
          [
           "Russia"
          ],
          [
           "Rwanda"
          ],
          [
           "Saint Kitts and Nevis"
          ],
          [
           "Saint Lucia"
          ],
          [
           "Saint Vincent and the Grenadines"
          ],
          [
           "Samoa"
          ],
          [
           "Sao Tome and Principe"
          ],
          [
           "Saudi Arabia"
          ],
          [
           "Senegal"
          ],
          [
           "Serbia"
          ],
          [
           "Seychelles"
          ],
          [
           "Sierra Leone"
          ],
          [
           "Singapore"
          ],
          [
           "Slovakia"
          ],
          [
           "Slovenia"
          ],
          [
           "Solomon Islands"
          ],
          [
           "Somalia"
          ],
          [
           "South Africa"
          ],
          [
           "South Korea"
          ],
          [
           "South Sudan"
          ],
          [
           "Spain"
          ],
          [
           "Sri Lanka"
          ],
          [
           "Sudan"
          ],
          [
           "Suriname"
          ],
          [
           "Sweden"
          ],
          [
           "Switzerland"
          ],
          [
           "Tajikistan"
          ],
          [
           "Tanzania"
          ],
          [
           "Thailand"
          ],
          [
           "Timor-Leste"
          ],
          [
           "Togo"
          ],
          [
           "Tonga"
          ],
          [
           "Trinidad and Tobago"
          ],
          [
           "Tunisia"
          ],
          [
           "Turkey"
          ],
          [
           "Turkmenistan"
          ],
          [
           "Tuvalu"
          ],
          [
           "Uganda"
          ],
          [
           "Ukraine"
          ],
          [
           "United Arab Emirates"
          ],
          [
           "United Kingdom"
          ],
          [
           "United States"
          ],
          [
           "Uruguay"
          ],
          [
           "Uzbekistan"
          ],
          [
           "Vanuatu"
          ],
          [
           "Venezuela"
          ],
          [
           "Vietnam"
          ],
          [
           "Yemen"
          ],
          [
           "Zambia"
          ],
          [
           "Zimbabwe"
          ]
         ],
         "hovertemplate": "GDP, PPP (current international $) (Log Scaled)=%{x}<br>Total including LUCF (Log Scaled)=%{y}<br>country=%{customdata[0]}<extra></extra>",
         "legendgroup": "",
         "marker": {
          "color": "#00274C",
          "symbol": "circle"
         },
         "mode": "markers",
         "name": "",
         "orientation": "v",
         "showlegend": false,
         "type": "scatter",
         "x": [
          44603079104.79237,
          19874452242.93934,
          352144684547.2972,
          111285416068.58745,
          1486293144.7720478,
          586647601859.6467,
          17680730911.55777,
          711301930075.522,
          301623930771.37537,
          78810017476.24666,
          9586083979.597836,
          42401504367.90435,
          323488675312.5126,
          3762756882.9580126,
          104061501470.61765,
          363570410297.61115,
          1816503173.272004,
          18283594969.98269,
          45700821554.19094,
          27881937111.105183,
          20243138624.84337,
          2111646140017.1858,
          24935060308.02718,
          90391737250.8729,
          18680226887.644714,
          5084543585.470639,
          30308661627.47185,
          48404444833.793304,
          1235617070157.1953,
          1957871301.804279,
          3061214633.111702,
          13903125175.276268,
          239555794878.5371,
          8836760859560.84,
          401278624154.2093,
          1360755342.5586638,
          49410589988.0132,
          74586812191.42656,
          20337373497.242985,
          242401722092.39734,
          67008864077.03498,
          40027660505.46856,
          195858088778.1281,
          4131673506.030574,
          570468066.2302378,
          88455787118.14415,
          113806155409.27821,
          609505762586.5598,
          33304360639.836315,
          17361040738.258717,
          4002579342.4202695,
          25875878852.320347,
          6459135474.591191,
          79507502109.61873,
          170716160887.4616,
          1969028627134.6453,
          21217350151.639534,
          3179972833.402953,
          25580104022.239304,
          2816514633787.5605,
          68672043211.11992,
          248367399928.26566,
          1021188861.9678402,
          78038515846.74052,
          14647202481.290968,
          1862610075.7253087,
          5823226129.571346,
          23169008603.89124,
          26585766534.428696,
          179041773853.6011,
          12151191920.52283,
          4007520487442.206,
          1626618254908.242,
          950293545088.9863,
          275986406951.0235,
          175986202062.24377,
          209688226761.06024,
          1789037141182.0654,
          20201969041.108437,
          3989579399491.5757,
          51551394175.90382,
          242125714783.0922,
          98535422667.8091,
          159577493.2418207,
          170869290093.64682,
          15498436884.548063,
          20709452640.5724,
          34053836993.411945,
          55380849588.130875,
          3545308159.100709,
          4209167956.268438,
          139982925418.46268,
          56230160569.94747,
          36205911970.110306,
          18561758732.507046,
          26436145362.447075,
          15595568105.81612,
          455444454402.51685,
          4533214408.298341,
          21182793823.421635,
          10045612596.135803,
          155697141.12924492,
          12082236243.88255,
          15344259656.162485,
          1460781861255.7507,
          296974984.2378883,
          17533329531.91647,
          17592486859.247658,
          7415997241.054306,
          158399795789.08612,
          17208334786.31184,
          103389016251.41985,
          14301040472.375841,
          80114708.1797461,
          49345559023.62887,
          618125787432.4745,
          115075946120.61621,
          19955554147.821274,
          14095292333.950356,
          541815432274.11664,
          217249994983.61914,
          114990766616.5783,
          623611490490.4315,
          251493348.02048227,
          50345380433.5312,
          18714645419.30248,
          50333229855.4465,
          214662333558.85535,
          437606267027.54944,
          619857230766.5454,
          232508205070.70667,
          168117669436.35196,
          16189799581.89965,
          263579237289.70676,
          2131557922320.2512,
          10740075113.120089,
          884073003.5843818,
          1813206591.16809,
          966598801.032898,
          792389067.0581107,
          500140692.7332938,
          1117420433196.3384,
          27799151351.173923,
          77513383323.46153,
          1501384221.4784591,
          6371179699.592793,
          281874740421.9709,
          102294803382.25716,
          51125071705.32697,
          978843076.8121419,
          13519902956.939837,
          520910366909.8801,
          1217210714033.093,
          20619231510.807827,
          1171302491782.2556,
          135020894055.67546,
          119572269908.98608,
          5826334287.907072,
          331998407963.9572,
          358893210699.9284,
          15039327755.636265,
          68725502631.75787,
          703369072510.3672,
          2157046703.7902107,
          7037587575.4551325,
          433069522.2939157,
          26977409826.442635,
          83133687638.25755,
          1090700151510.3583,
          39730747714.61453,
          29286210.79721604,
          47024608731.063866,
          353553404781.86884,
          425747913079.95966,
          1962979294970.2593,
          12712046368999.998,
          45529028018.24589,
          118322474859.7603,
          532089229.9223436,
          349434443355.0089,
          382666787466.6045,
          63472339582.79539,
          31345314505.04047,
          26050456225.898544
         ],
         "xaxis": "x",
         "y": [
          7.245799999999999,
          3.2143333333333333,
          76.1834,
          41.958733333333335,
          0.3297333333333333,
          151.73846666666668,
          3.6349333333333336,
          238.63340000000002,
          28.53213333333333,
          18.257466666666666,
          1.0925333333333334,
          13.1546,
          65.47253333333333,
          1.5139333333333334,
          25.814266666666665,
          49.26806666666667,
          3.1161333333333334,
          8.479333333333335,
          45.35993333333333,
          8.713733333333334,
          21.997466666666664,
          685.9992000000001,
          3.583066666666667,
          16.31373333333333,
          14.002133333333335,
          2.4052000000000002,
          18.496333333333332,
          48.169266666666665,
          321.8827333333333,
          0.11606666666666667,
          20.297133333333335,
          24.7058,
          15.641066666666665,
          2829.693,
          93.15006666666667,
          0.17626666666666668,
          4.286733333333333,
          9.597066666666667,
          3.1557333333333335,
          52.81046666666666,
          24.191,
          202.8288,
          26.401,
          0.49633333333333335,
          0.09793333333333333,
          10.0552,
          35.19186666666666,
          94.7628,
          4.8262,
          5.642666666666667,
          2.2842,
          7.632066666666666,
          0.9028666666666667,
          51.61713333333333,
          17.5994,
          172.53433333333334,
          7.003666666666667,
          1.2858666666666667,
          3.9576666666666664,
          361.99493333333334,
          16.867533333333334,
          41.99133333333333,
          0.8660666666666667,
          13.753266666666665,
          10.904866666666667,
          1.4658,
          5.714466666666667,
          3.249333333333333,
          8.864466666666667,
          28.23793333333333,
          1.2808666666666666,
          816.6525333333334,
          578.0530666666667,
          246.24633333333333,
          71.01133333333334,
          25.123333333333335,
          29.78646666666667,
          179.56886666666668,
          3.933333333333333,
          473.9480666666667,
          10.591000000000001,
          97.067,
          20.585866666666668,
          0.027866666666666665,
          34.51233333333334,
          5.379266666666666,
          9.930466666666666,
          1.2292,
          8.8254,
          0.8865333333333333,
          5.922133333333334,
          44.311933333333336,
          8.953999999999999,
          4.2192,
          4.766733333333334,
          19.465866666666667,
          5.5675333333333334,
          109.41660000000002,
          0.3900666666666667,
          10.697866666666668,
          1.0726666666666667,
          0.0612,
          4.0492,
          1.8850666666666667,
          223.9236666666667,
          0.06359999999999999,
          6.011266666666666,
          15.277266666666668,
          0.9878666666666667,
          22.817733333333333,
          36.22,
          87.71426666666666,
          8.617702702702703,
          0.0312,
          11.7174,
          80.48833333333333,
          23.066266666666667,
          13.2444,
          11.001666666666667,
          120.70153333333333,
          11.804866666666667,
          21.749133333333333,
          115.60839999999999,
          0.08993333333333334,
          7.197933333333333,
          20.354666666666667,
          35.599666666666664,
          56.592866666666666,
          61.3168,
          135.27286666666666,
          28.204866666666664,
          23.777,
          9.009933333333333,
          31.07633333333333,
          709.4770666666667,
          2.3324000000000003,
          0.126,
          0.2968,
          0.11833333333333333,
          0.23813333333333334,
          0.07026666666666667,
          186.7586,
          10.0666,
          20.823866666666667,
          0.18760000000000002,
          3.2263333333333333,
          21.056266666666666,
          15.449799999999998,
          4.098733333333334,
          2.2894,
          16.9018,
          183.66740000000001,
          196.399,
          24.744133333333334,
          126.69286666666667,
          11.611066666666668,
          41.8986,
          3.4116,
          21.5488,
          20.110533333333333,
          4.019,
          47.525133333333336,
          119.01740000000001,
          1.7312666666666667,
          2.728266666666667,
          0.10486666666666666,
          9.412466666666665,
          12.7838,
          116.91853333333333,
          44.49746666666667,
          0.0082,
          16.940133333333332,
          148.35726666666667,
          63.154333333333334,
          248.10406666666668,
          2370.4154,
          10.069066666666666,
          66.25313333333332,
          0.2582,
          174.55540000000002,
          69.9266,
          14.191466666666665,
          26.78813333333333,
          20.2682
         ],
         "yaxis": "y"
        },
        {
         "hovertemplate": "<b>OLS trendline</b><br>log10(y) = 0.898446 * log10(x) + -8.49508<br>R<sup>2</sup>=0.872441<br><br>GDP, PPP (current international $) (Log Scaled)=%{x}<br>Total including LUCF (Log Scaled)=%{y} <b>(trend)</b><extra></extra>",
         "legendgroup": "",
         "line": {
          "color": "#FFCB05"
         },
         "marker": {
          "color": "#00274C",
          "symbol": "circle"
         },
         "mode": "lines",
         "name": "",
         "showlegend": false,
         "type": "scatter",
         "x": [
          29286210.79721604,
          80114708.1797461,
          155697141.12924492,
          159577493.2418207,
          251493348.02048227,
          296974984.2378883,
          433069522.2939157,
          500140692.7332938,
          532089229.9223436,
          570468066.2302378,
          792389067.0581107,
          884073003.5843818,
          966598801.032898,
          978843076.8121419,
          1021188861.9678402,
          1360755342.5586638,
          1486293144.7720478,
          1501384221.4784591,
          1813206591.16809,
          1816503173.272004,
          1862610075.7253087,
          1957871301.804279,
          2157046703.7902107,
          3061214633.111702,
          3179972833.402953,
          3545308159.100709,
          3762756882.9580126,
          4002579342.4202695,
          4131673506.030574,
          4209167956.268438,
          4533214408.298341,
          5084543585.470639,
          5823226129.571346,
          5826334287.907072,
          6371179699.592793,
          6459135474.591191,
          7037587575.4551325,
          7415997241.054306,
          9586083979.597836,
          10045612596.135803,
          10740075113.120089,
          12082236243.88255,
          12151191920.52283,
          13519902956.939837,
          13903125175.276268,
          14095292333.950356,
          14301040472.375841,
          14647202481.290968,
          15039327755.636265,
          15344259656.162485,
          15498436884.548063,
          15595568105.81612,
          16189799581.89965,
          17208334786.31184,
          17361040738.258717,
          17533329531.91647,
          17592486859.247658,
          17680730911.55777,
          18283594969.98269,
          18561758732.507046,
          18680226887.644714,
          18714645419.30248,
          19874452242.93934,
          19955554147.821274,
          20201969041.108437,
          20243138624.84337,
          20337373497.242985,
          20619231510.807827,
          20709452640.5724,
          21182793823.421635,
          21217350151.639534,
          23169008603.89124,
          24935060308.02718,
          25580104022.239304,
          25875878852.320347,
          26050456225.898544,
          26436145362.447075,
          26585766534.428696,
          26977409826.442635,
          27799151351.173923,
          27881937111.105183,
          30308661627.47185,
          31345314505.04047,
          33304360639.836315,
          34053836993.411945,
          36205911970.110306,
          39730747714.61453,
          40027660505.46856,
          42401504367.90435,
          44603079104.79237,
          45529028018.24589,
          45700821554.19094,
          47024608731.063866,
          48404444833.793304,
          49345559023.62887,
          49410589988.0132,
          50333229855.4465,
          50345380433.5312,
          51125071705.32697,
          51551394175.90382,
          55380849588.130875,
          56230160569.94747,
          63472339582.79539,
          67008864077.03498,
          68672043211.11992,
          68725502631.75787,
          74586812191.42656,
          77513383323.46153,
          78038515846.74052,
          78810017476.24666,
          79507502109.61873,
          83133687638.25755,
          88455787118.14415,
          90391737250.8729,
          98535422667.8091,
          102294803382.25716,
          103389016251.41985,
          104061501470.61765,
          111285416068.58745,
          113806155409.27821,
          114990766616.5783,
          115075946120.61621,
          118322474859.7603,
          119572269908.98608,
          135020894055.67546,
          139982925418.46268,
          158399795789.08612,
          168117669436.35196,
          170716160887.4616,
          170869290093.64682,
          175986202062.24377,
          179041773853.6011,
          195858088778.1281,
          209688226761.06024,
          214662333558.85535,
          217249994983.61914,
          232508205070.70667,
          239555794878.5371,
          242125714783.0922,
          242401722092.39734,
          248367399928.26566,
          263579237289.70676,
          275986406951.0235,
          281874740421.9709,
          301623930771.37537,
          323488675312.5126,
          331998407963.9572,
          349434443355.0089,
          352144684547.2972,
          353553404781.86884,
          358893210699.9284,
          363570410297.61115,
          382666787466.6045,
          401278624154.2093,
          425747913079.95966,
          437606267027.54944,
          455444454402.51685,
          520910366909.8801,
          541815432274.11664,
          586647601859.6467,
          609505762586.5598,
          618125787432.4745,
          619857230766.5454,
          623611490490.4315,
          703369072510.3672,
          711301930075.522,
          950293545088.9863,
          1090700151510.3583,
          1117420433196.3384,
          1171302491782.2556,
          1217210714033.093,
          1235617070157.1953,
          1460781861255.7507,
          1626618254908.242,
          1789037141182.0654,
          1962979294970.2593,
          1969028627134.6453,
          2111646140017.1858,
          2131557922320.2512,
          2816514633787.5605,
          3989579399491.5757,
          4007520487442.206,
          8836760859560.84,
          12712046368999.998
         ],
         "xaxis": "x",
         "y": [
          0.01634237135089343,
          0.040362672899374966,
          0.07332345681279977,
          0.07496321676156958,
          0.11280816260195597,
          0.13097920252252013,
          0.18382376667656694,
          0.20921151026575135,
          0.2211804943499197,
          0.2354626316749916,
          0.3163272470407331,
          0.34902568047568966,
          0.37816336189522415,
          0.38246446621517455,
          0.3972978360406532,
          0.5141963570248691,
          0.5566233367097918,
          0.5616984512200582,
          0.6654811182836393,
          0.666568054588648,
          0.681749431346583,
          0.7129959902736054,
          0.7778387149826574,
          1.0653297429136153,
          1.1023893930822684,
          1.215539667702887,
          1.2823184915420485,
          1.3555158746175617,
          1.394731536788469,
          1.418212507971983,
          1.5159338500552115,
          1.6805982864752276,
          1.8984224475811513,
          1.899332805950958,
          2.058177061212025,
          2.0836873894145067,
          2.2506042886297815,
          2.359038127831209,
          2.9708874471234545,
          3.0985340133918706,
          3.2903261403074784,
          3.6575095028847175,
          3.6762583414892864,
          4.04625451345979,
          4.149151585858303,
          4.200640588817377,
          4.2556895170665285,
          4.348126146182078,
          4.45256908039205,
          4.533596659601766,
          4.574502768623598,
          4.6002522658153335,
          4.757432671403762,
          5.025497966956833,
          5.065547083274736,
          5.110689140094132,
          5.126178772611978,
          5.14927459062336,
          5.306750360566295,
          5.379231609453192,
          5.410067331616691,
          5.419022300355166,
          5.719822573962138,
          5.740788806512288,
          5.804438363566133,
          5.815064854777147,
          5.8393800457374025,
          5.912039125734706,
          5.935275510339045,
          6.0570168936393065,
          6.065893746051599,
          6.564929615089715,
          7.012827578922601,
          7.175606517986439,
          7.250106361304198,
          7.294038323738075,
          7.390990391878411,
          7.428562434627664,
          7.526808432117029,
          7.732479324151718,
          7.753164969867589,
          8.35684071029405,
          8.613203476836128,
          9.095349790348756,
          9.279035585021429,
          9.80423175193471,
          10.657697218016919,
          10.729228001968735,
          11.299221834901882,
          11.824957352759801,
          12.045279929362582,
          12.086106608249851,
          12.40018630254428,
          12.726609984591324,
          12.948703407084759,
          12.96403407843052,
          13.181321698104128,
          13.184180523261574,
          13.36748297684911,
          13.467589501344236,
          14.363119698007113,
          14.560867330629765,
          16.235255511225507,
          17.045725924875274,
          17.42536537280143,
          17.437552485493693,
          18.768086199476166,
          19.428406965953137,
          19.546621855165686,
          19.720151667202938,
          19.876884762173418,
          20.68951243958463,
          21.875735000778217,
          22.305413200646765,
          24.10290157521435,
          24.92752274988875,
          25.166955832970523,
          25.313979660894347,
          26.887379075532092,
          27.433934600105523,
          27.690360135866676,
          27.708788052065657,
          28.41012677929083,
          28.679593074651258,
          31.987803316966094,
          33.04203079202951,
          36.92282249475126,
          38.95180330422767,
          39.492294042502174,
          39.52411899769671,
          40.585922661770525,
          41.21848085178644,
          44.68068355153465,
          47.50540566763245,
          48.51665206408449,
          49.04178530018265,
          52.125605133076455,
          53.54297649551992,
          54.058764840924184,
          54.1141269307409,
          55.309183206051934,
          58.34344412714674,
          60.80507921503928,
          61.969390957702714,
          65.85673381789496,
          70.13049497595775,
          71.78580976199677,
          75.164156803183,
          75.6877261973792,
          75.95970358264647,
          76.98964891360052,
          77.89051180653588,
          81.55658217231584,
          85.11178299216022,
          89.76056630691588,
          92.00362597922862,
          95.3662421835513,
          107.59667071519046,
          111.46840977849516,
          119.72131453528516,
          123.90423158805623,
          125.47748353472002,
          125.79322187868554,
          126.47752483139827,
          140.92055911961538,
          142.34769328652953,
          184.66232773300692,
          209.000881223082,
          213.59539776445658,
          222.82674367649864,
          230.65793027438116,
          233.78927228365936,
          271.7333218803008,
          299.2957549460081,
          326.01430305916284,
          354.3567793389879,
          355.33775083814953,
          378.37840893590175,
          381.58246334442504,
          490.13272003361624,
          670.1503483151411,
          672.8573386890624,
          1369.193485178842,
          1898.2328696778102
         ],
         "yaxis": "y"
        }
       ],
       "layout": {
        "height": 600,
        "legend": {
         "tracegroupgap": 0
        },
        "template": {
         "data": {
          "bar": [
           {
            "error_x": {
             "color": "#2a3f5f"
            },
            "error_y": {
             "color": "#2a3f5f"
            },
            "marker": {
             "line": {
              "color": "#E5ECF6",
              "width": 0.5
             },
             "pattern": {
              "fillmode": "overlay",
              "size": 10,
              "solidity": 0.2
             }
            },
            "type": "bar"
           }
          ],
          "barpolar": [
           {
            "marker": {
             "line": {
              "color": "#E5ECF6",
              "width": 0.5
             },
             "pattern": {
              "fillmode": "overlay",
              "size": 10,
              "solidity": 0.2
             }
            },
            "type": "barpolar"
           }
          ],
          "carpet": [
           {
            "aaxis": {
             "endlinecolor": "#2a3f5f",
             "gridcolor": "white",
             "linecolor": "white",
             "minorgridcolor": "white",
             "startlinecolor": "#2a3f5f"
            },
            "baxis": {
             "endlinecolor": "#2a3f5f",
             "gridcolor": "white",
             "linecolor": "white",
             "minorgridcolor": "white",
             "startlinecolor": "#2a3f5f"
            },
            "type": "carpet"
           }
          ],
          "choropleth": [
           {
            "colorbar": {
             "outlinewidth": 0,
             "ticks": ""
            },
            "type": "choropleth"
           }
          ],
          "contour": [
           {
            "colorbar": {
             "outlinewidth": 0,
             "ticks": ""
            },
            "colorscale": [
             [
              0,
              "#0d0887"
             ],
             [
              0.1111111111111111,
              "#46039f"
             ],
             [
              0.2222222222222222,
              "#7201a8"
             ],
             [
              0.3333333333333333,
              "#9c179e"
             ],
             [
              0.4444444444444444,
              "#bd3786"
             ],
             [
              0.5555555555555556,
              "#d8576b"
             ],
             [
              0.6666666666666666,
              "#ed7953"
             ],
             [
              0.7777777777777778,
              "#fb9f3a"
             ],
             [
              0.8888888888888888,
              "#fdca26"
             ],
             [
              1,
              "#f0f921"
             ]
            ],
            "type": "contour"
           }
          ],
          "contourcarpet": [
           {
            "colorbar": {
             "outlinewidth": 0,
             "ticks": ""
            },
            "type": "contourcarpet"
           }
          ],
          "heatmap": [
           {
            "colorbar": {
             "outlinewidth": 0,
             "ticks": ""
            },
            "colorscale": [
             [
              0,
              "#0d0887"
             ],
             [
              0.1111111111111111,
              "#46039f"
             ],
             [
              0.2222222222222222,
              "#7201a8"
             ],
             [
              0.3333333333333333,
              "#9c179e"
             ],
             [
              0.4444444444444444,
              "#bd3786"
             ],
             [
              0.5555555555555556,
              "#d8576b"
             ],
             [
              0.6666666666666666,
              "#ed7953"
             ],
             [
              0.7777777777777778,
              "#fb9f3a"
             ],
             [
              0.8888888888888888,
              "#fdca26"
             ],
             [
              1,
              "#f0f921"
             ]
            ],
            "type": "heatmap"
           }
          ],
          "heatmapgl": [
           {
            "colorbar": {
             "outlinewidth": 0,
             "ticks": ""
            },
            "colorscale": [
             [
              0,
              "#0d0887"
             ],
             [
              0.1111111111111111,
              "#46039f"
             ],
             [
              0.2222222222222222,
              "#7201a8"
             ],
             [
              0.3333333333333333,
              "#9c179e"
             ],
             [
              0.4444444444444444,
              "#bd3786"
             ],
             [
              0.5555555555555556,
              "#d8576b"
             ],
             [
              0.6666666666666666,
              "#ed7953"
             ],
             [
              0.7777777777777778,
              "#fb9f3a"
             ],
             [
              0.8888888888888888,
              "#fdca26"
             ],
             [
              1,
              "#f0f921"
             ]
            ],
            "type": "heatmapgl"
           }
          ],
          "histogram": [
           {
            "marker": {
             "pattern": {
              "fillmode": "overlay",
              "size": 10,
              "solidity": 0.2
             }
            },
            "type": "histogram"
           }
          ],
          "histogram2d": [
           {
            "colorbar": {
             "outlinewidth": 0,
             "ticks": ""
            },
            "colorscale": [
             [
              0,
              "#0d0887"
             ],
             [
              0.1111111111111111,
              "#46039f"
             ],
             [
              0.2222222222222222,
              "#7201a8"
             ],
             [
              0.3333333333333333,
              "#9c179e"
             ],
             [
              0.4444444444444444,
              "#bd3786"
             ],
             [
              0.5555555555555556,
              "#d8576b"
             ],
             [
              0.6666666666666666,
              "#ed7953"
             ],
             [
              0.7777777777777778,
              "#fb9f3a"
             ],
             [
              0.8888888888888888,
              "#fdca26"
             ],
             [
              1,
              "#f0f921"
             ]
            ],
            "type": "histogram2d"
           }
          ],
          "histogram2dcontour": [
           {
            "colorbar": {
             "outlinewidth": 0,
             "ticks": ""
            },
            "colorscale": [
             [
              0,
              "#0d0887"
             ],
             [
              0.1111111111111111,
              "#46039f"
             ],
             [
              0.2222222222222222,
              "#7201a8"
             ],
             [
              0.3333333333333333,
              "#9c179e"
             ],
             [
              0.4444444444444444,
              "#bd3786"
             ],
             [
              0.5555555555555556,
              "#d8576b"
             ],
             [
              0.6666666666666666,
              "#ed7953"
             ],
             [
              0.7777777777777778,
              "#fb9f3a"
             ],
             [
              0.8888888888888888,
              "#fdca26"
             ],
             [
              1,
              "#f0f921"
             ]
            ],
            "type": "histogram2dcontour"
           }
          ],
          "mesh3d": [
           {
            "colorbar": {
             "outlinewidth": 0,
             "ticks": ""
            },
            "type": "mesh3d"
           }
          ],
          "parcoords": [
           {
            "line": {
             "colorbar": {
              "outlinewidth": 0,
              "ticks": ""
             }
            },
            "type": "parcoords"
           }
          ],
          "pie": [
           {
            "automargin": true,
            "type": "pie"
           }
          ],
          "scatter": [
           {
            "fillpattern": {
             "fillmode": "overlay",
             "size": 10,
             "solidity": 0.2
            },
            "type": "scatter"
           }
          ],
          "scatter3d": [
           {
            "line": {
             "colorbar": {
              "outlinewidth": 0,
              "ticks": ""
             }
            },
            "marker": {
             "colorbar": {
              "outlinewidth": 0,
              "ticks": ""
             }
            },
            "type": "scatter3d"
           }
          ],
          "scattercarpet": [
           {
            "marker": {
             "colorbar": {
              "outlinewidth": 0,
              "ticks": ""
             }
            },
            "type": "scattercarpet"
           }
          ],
          "scattergeo": [
           {
            "marker": {
             "colorbar": {
              "outlinewidth": 0,
              "ticks": ""
             }
            },
            "type": "scattergeo"
           }
          ],
          "scattergl": [
           {
            "marker": {
             "colorbar": {
              "outlinewidth": 0,
              "ticks": ""
             }
            },
            "type": "scattergl"
           }
          ],
          "scattermapbox": [
           {
            "marker": {
             "colorbar": {
              "outlinewidth": 0,
              "ticks": ""
             }
            },
            "type": "scattermapbox"
           }
          ],
          "scatterpolar": [
           {
            "marker": {
             "colorbar": {
              "outlinewidth": 0,
              "ticks": ""
             }
            },
            "type": "scatterpolar"
           }
          ],
          "scatterpolargl": [
           {
            "marker": {
             "colorbar": {
              "outlinewidth": 0,
              "ticks": ""
             }
            },
            "type": "scatterpolargl"
           }
          ],
          "scatterternary": [
           {
            "marker": {
             "colorbar": {
              "outlinewidth": 0,
              "ticks": ""
             }
            },
            "type": "scatterternary"
           }
          ],
          "surface": [
           {
            "colorbar": {
             "outlinewidth": 0,
             "ticks": ""
            },
            "colorscale": [
             [
              0,
              "#0d0887"
             ],
             [
              0.1111111111111111,
              "#46039f"
             ],
             [
              0.2222222222222222,
              "#7201a8"
             ],
             [
              0.3333333333333333,
              "#9c179e"
             ],
             [
              0.4444444444444444,
              "#bd3786"
             ],
             [
              0.5555555555555556,
              "#d8576b"
             ],
             [
              0.6666666666666666,
              "#ed7953"
             ],
             [
              0.7777777777777778,
              "#fb9f3a"
             ],
             [
              0.8888888888888888,
              "#fdca26"
             ],
             [
              1,
              "#f0f921"
             ]
            ],
            "type": "surface"
           }
          ],
          "table": [
           {
            "cells": {
             "fill": {
              "color": "#EBF0F8"
             },
             "line": {
              "color": "white"
             }
            },
            "header": {
             "fill": {
              "color": "#C8D4E3"
             },
             "line": {
              "color": "white"
             }
            },
            "type": "table"
           }
          ]
         },
         "layout": {
          "annotationdefaults": {
           "arrowcolor": "#2a3f5f",
           "arrowhead": 0,
           "arrowwidth": 1
          },
          "autotypenumbers": "strict",
          "coloraxis": {
           "colorbar": {
            "outlinewidth": 0,
            "ticks": ""
           }
          },
          "colorscale": {
           "diverging": [
            [
             0,
             "#8e0152"
            ],
            [
             0.1,
             "#c51b7d"
            ],
            [
             0.2,
             "#de77ae"
            ],
            [
             0.3,
             "#f1b6da"
            ],
            [
             0.4,
             "#fde0ef"
            ],
            [
             0.5,
             "#f7f7f7"
            ],
            [
             0.6,
             "#e6f5d0"
            ],
            [
             0.7,
             "#b8e186"
            ],
            [
             0.8,
             "#7fbc41"
            ],
            [
             0.9,
             "#4d9221"
            ],
            [
             1,
             "#276419"
            ]
           ],
           "sequential": [
            [
             0,
             "#0d0887"
            ],
            [
             0.1111111111111111,
             "#46039f"
            ],
            [
             0.2222222222222222,
             "#7201a8"
            ],
            [
             0.3333333333333333,
             "#9c179e"
            ],
            [
             0.4444444444444444,
             "#bd3786"
            ],
            [
             0.5555555555555556,
             "#d8576b"
            ],
            [
             0.6666666666666666,
             "#ed7953"
            ],
            [
             0.7777777777777778,
             "#fb9f3a"
            ],
            [
             0.8888888888888888,
             "#fdca26"
            ],
            [
             1,
             "#f0f921"
            ]
           ],
           "sequentialminus": [
            [
             0,
             "#0d0887"
            ],
            [
             0.1111111111111111,
             "#46039f"
            ],
            [
             0.2222222222222222,
             "#7201a8"
            ],
            [
             0.3333333333333333,
             "#9c179e"
            ],
            [
             0.4444444444444444,
             "#bd3786"
            ],
            [
             0.5555555555555556,
             "#d8576b"
            ],
            [
             0.6666666666666666,
             "#ed7953"
            ],
            [
             0.7777777777777778,
             "#fb9f3a"
            ],
            [
             0.8888888888888888,
             "#fdca26"
            ],
            [
             1,
             "#f0f921"
            ]
           ]
          },
          "colorway": [
           "#636efa",
           "#EF553B",
           "#00cc96",
           "#ab63fa",
           "#FFA15A",
           "#19d3f3",
           "#FF6692",
           "#B6E880",
           "#FF97FF",
           "#FECB52"
          ],
          "font": {
           "color": "#2a3f5f"
          },
          "geo": {
           "bgcolor": "white",
           "lakecolor": "white",
           "landcolor": "#E5ECF6",
           "showlakes": true,
           "showland": true,
           "subunitcolor": "white"
          },
          "hoverlabel": {
           "align": "left"
          },
          "hovermode": "closest",
          "mapbox": {
           "style": "light"
          },
          "paper_bgcolor": "white",
          "plot_bgcolor": "#E5ECF6",
          "polar": {
           "angularaxis": {
            "gridcolor": "white",
            "linecolor": "white",
            "ticks": ""
           },
           "bgcolor": "#E5ECF6",
           "radialaxis": {
            "gridcolor": "white",
            "linecolor": "white",
            "ticks": ""
           }
          },
          "scene": {
           "xaxis": {
            "backgroundcolor": "#E5ECF6",
            "gridcolor": "white",
            "gridwidth": 2,
            "linecolor": "white",
            "showbackground": true,
            "ticks": "",
            "zerolinecolor": "white"
           },
           "yaxis": {
            "backgroundcolor": "#E5ECF6",
            "gridcolor": "white",
            "gridwidth": 2,
            "linecolor": "white",
            "showbackground": true,
            "ticks": "",
            "zerolinecolor": "white"
           },
           "zaxis": {
            "backgroundcolor": "#E5ECF6",
            "gridcolor": "white",
            "gridwidth": 2,
            "linecolor": "white",
            "showbackground": true,
            "ticks": "",
            "zerolinecolor": "white"
           }
          },
          "shapedefaults": {
           "line": {
            "color": "#2a3f5f"
           }
          },
          "ternary": {
           "aaxis": {
            "gridcolor": "white",
            "linecolor": "white",
            "ticks": ""
           },
           "baxis": {
            "gridcolor": "white",
            "linecolor": "white",
            "ticks": ""
           },
           "bgcolor": "#E5ECF6",
           "caxis": {
            "gridcolor": "white",
            "linecolor": "white",
            "ticks": ""
           }
          },
          "title": {
           "x": 0.05
          },
          "xaxis": {
           "automargin": true,
           "gridcolor": "white",
           "linecolor": "white",
           "ticks": "",
           "title": {
            "standoff": 15
           },
           "zerolinecolor": "white",
           "zerolinewidth": 2
          },
          "yaxis": {
           "automargin": true,
           "gridcolor": "white",
           "linecolor": "white",
           "ticks": "",
           "title": {
            "standoff": 15
           },
           "zerolinecolor": "white",
           "zerolinewidth": 2
          }
         }
        },
        "title": {
         "text": "Correlation between GDP, PPP (current international $)<br>and Total including LUCF<br>Pearson's r: 0.9448465562106727, P-value: 3.9394319136727964e-91, n=184<br>"
        },
        "width": 800,
        "xaxis": {
         "anchor": "y",
         "domain": [
          0,
          1
         ],
         "title": {
          "text": "GDP, PPP (current international $) (Log Scaled)"
         },
         "type": "log"
        },
        "yaxis": {
         "anchor": "x",
         "domain": [
          0,
          1
         ],
         "title": {
          "text": "Total including LUCF (Log Scaled)"
         },
         "type": "log"
        }
       }
      }
     },
     "metadata": {},
     "output_type": "display_data"
    }
   ],
   "source": [
    "years = 30\n",
    "x = \"GDP, PPP (current international $)\"\n",
    "y = \"Total including LUCF\"\n",
    "\n",
    "df_xy, p_corr, p_pval, s_corr, s_pval = build_correlation_df(find_corr_df, years, x, y)\n",
    "build_correlation_plot(df_xy, x, y, p_corr, p_pval, log_scale=True).show()\n"
   ]
  },
  {
   "cell_type": "markdown",
   "metadata": {},
   "source": [
    "Recreate the plot above without log scaling to use as an inset.\n"
   ]
  },
  {
   "cell_type": "code",
   "execution_count": 12,
   "metadata": {},
   "outputs": [
    {
     "data": {
      "application/vnd.plotly.v1+json": {
       "config": {
        "plotlyServerURL": "https://plot.ly"
       },
       "data": [
        {
         "customdata": [
          [
           "Afghanistan"
          ],
          [
           "Albania"
          ],
          [
           "Algeria"
          ],
          [
           "Angola"
          ],
          [
           "Antigua and Barbuda"
          ],
          [
           "Argentina"
          ],
          [
           "Armenia"
          ],
          [
           "Australia"
          ],
          [
           "Austria"
          ],
          [
           "Azerbaijan"
          ],
          [
           "Bahamas"
          ],
          [
           "Bahrain"
          ],
          [
           "Bangladesh"
          ],
          [
           "Barbados"
          ],
          [
           "Belarus"
          ],
          [
           "Belgium"
          ],
          [
           "Belize"
          ],
          [
           "Benin"
          ],
          [
           "Bhutan"
          ],
          [
           "Bolivia"
          ],
          [
           "Bosnia and Herzegovina"
          ],
          [
           "Botswana"
          ],
          [
           "Brazil"
          ],
          [
           "Brunei"
          ],
          [
           "Bulgaria"
          ],
          [
           "Burkina Faso"
          ],
          [
           "Burundi"
          ],
          [
           "Cambodia"
          ],
          [
           "Cameroon"
          ],
          [
           "Canada"
          ],
          [
           "Cape Verde"
          ],
          [
           "Central African Republic"
          ],
          [
           "Chad"
          ],
          [
           "Chile"
          ],
          [
           "China"
          ],
          [
           "Colombia"
          ],
          [
           "Comoros"
          ],
          [
           "Costa Rica"
          ],
          [
           "Croatia"
          ],
          [
           "Cyprus"
          ],
          [
           "Czech Republic"
          ],
          [
           "Côte d'Ivoire"
          ],
          [
           "Democratic Republic of the Congo"
          ],
          [
           "Denmark"
          ],
          [
           "Djibouti"
          ],
          [
           "Dominica"
          ],
          [
           "Dominican Republic"
          ],
          [
           "Ecuador"
          ],
          [
           "Egypt"
          ],
          [
           "El Salvador"
          ],
          [
           "Equatorial Guinea"
          ],
          [
           "Eritrea"
          ],
          [
           "Estonia"
          ],
          [
           "Eswatini"
          ],
          [
           "Ethiopia"
          ],
          [
           "Fiji"
          ],
          [
           "Finland"
          ],
          [
           "France"
          ],
          [
           "Gabon"
          ],
          [
           "Gambia"
          ],
          [
           "Georgia"
          ],
          [
           "Germany"
          ],
          [
           "Ghana"
          ],
          [
           "Greece"
          ],
          [
           "Grenada"
          ],
          [
           "Guatemala"
          ],
          [
           "Guinea"
          ],
          [
           "Guinea-Bissau"
          ],
          [
           "Guyana"
          ],
          [
           "Haiti"
          ],
          [
           "Honduras"
          ],
          [
           "Hungary"
          ],
          [
           "Iceland"
          ],
          [
           "India"
          ],
          [
           "Indonesia"
          ],
          [
           "Iran"
          ],
          [
           "Iraq"
          ],
          [
           "Ireland"
          ],
          [
           "Israel"
          ],
          [
           "Italy"
          ],
          [
           "Jamaica"
          ],
          [
           "Japan"
          ],
          [
           "Jordan"
          ],
          [
           "Kazakhstan"
          ],
          [
           "Kenya"
          ],
          [
           "Kiribati"
          ],
          [
           "Kuwait"
          ],
          [
           "Kyrgyzstan"
          ],
          [
           "Laos"
          ],
          [
           "Latvia"
          ],
          [
           "Lebanon"
          ],
          [
           "Lesotho"
          ],
          [
           "Liberia"
          ],
          [
           "Libya"
          ],
          [
           "Lithuania"
          ],
          [
           "Luxembourg"
          ],
          [
           "Macedonia"
          ],
          [
           "Madagascar"
          ],
          [
           "Malawi"
          ],
          [
           "Malaysia"
          ],
          [
           "Maldives"
          ],
          [
           "Mali"
          ],
          [
           "Malta"
          ],
          [
           "Marshall Islands"
          ],
          [
           "Mauritania"
          ],
          [
           "Mauritius"
          ],
          [
           "Mexico"
          ],
          [
           "Micronesia"
          ],
          [
           "Moldova"
          ],
          [
           "Mongolia"
          ],
          [
           "Montenegro"
          ],
          [
           "Morocco"
          ],
          [
           "Mozambique"
          ],
          [
           "Myanmar"
          ],
          [
           "Namibia"
          ],
          [
           "Nauru"
          ],
          [
           "Nepal"
          ],
          [
           "Netherlands"
          ],
          [
           "New Zealand"
          ],
          [
           "Nicaragua"
          ],
          [
           "Niger"
          ],
          [
           "Nigeria"
          ],
          [
           "Norway"
          ],
          [
           "Oman"
          ],
          [
           "Pakistan"
          ],
          [
           "Palau"
          ],
          [
           "Panama"
          ],
          [
           "Papua New Guinea"
          ],
          [
           "Paraguay"
          ],
          [
           "Peru"
          ],
          [
           "Philippines"
          ],
          [
           "Poland"
          ],
          [
           "Portugal"
          ],
          [
           "Qatar"
          ],
          [
           "Republic of Congo"
          ],
          [
           "Romania"
          ],
          [
           "Russia"
          ],
          [
           "Rwanda"
          ],
          [
           "Saint Kitts and Nevis"
          ],
          [
           "Saint Lucia"
          ],
          [
           "Saint Vincent and the Grenadines"
          ],
          [
           "Samoa"
          ],
          [
           "Sao Tome and Principe"
          ],
          [
           "Saudi Arabia"
          ],
          [
           "Senegal"
          ],
          [
           "Serbia"
          ],
          [
           "Seychelles"
          ],
          [
           "Sierra Leone"
          ],
          [
           "Singapore"
          ],
          [
           "Slovakia"
          ],
          [
           "Slovenia"
          ],
          [
           "Solomon Islands"
          ],
          [
           "Somalia"
          ],
          [
           "South Africa"
          ],
          [
           "South Korea"
          ],
          [
           "South Sudan"
          ],
          [
           "Spain"
          ],
          [
           "Sri Lanka"
          ],
          [
           "Sudan"
          ],
          [
           "Suriname"
          ],
          [
           "Sweden"
          ],
          [
           "Switzerland"
          ],
          [
           "Tajikistan"
          ],
          [
           "Tanzania"
          ],
          [
           "Thailand"
          ],
          [
           "Timor-Leste"
          ],
          [
           "Togo"
          ],
          [
           "Tonga"
          ],
          [
           "Trinidad and Tobago"
          ],
          [
           "Tunisia"
          ],
          [
           "Turkey"
          ],
          [
           "Turkmenistan"
          ],
          [
           "Tuvalu"
          ],
          [
           "Uganda"
          ],
          [
           "Ukraine"
          ],
          [
           "United Arab Emirates"
          ],
          [
           "United Kingdom"
          ],
          [
           "United States"
          ],
          [
           "Uruguay"
          ],
          [
           "Uzbekistan"
          ],
          [
           "Vanuatu"
          ],
          [
           "Venezuela"
          ],
          [
           "Vietnam"
          ],
          [
           "Yemen"
          ],
          [
           "Zambia"
          ],
          [
           "Zimbabwe"
          ]
         ],
         "hovertemplate": "GDP, PPP (current international $)=%{x}<br>Total including LUCF=%{y}<br>country=%{customdata[0]}<extra></extra>",
         "legendgroup": "",
         "marker": {
          "color": "#00274C",
          "symbol": "circle"
         },
         "mode": "markers",
         "name": "",
         "orientation": "v",
         "showlegend": false,
         "type": "scatter",
         "x": [
          44603079104.79237,
          19874452242.93934,
          352144684547.2972,
          111285416068.58745,
          1486293144.7720478,
          586647601859.6467,
          17680730911.55777,
          711301930075.522,
          301623930771.37537,
          78810017476.24666,
          9586083979.597836,
          42401504367.90435,
          323488675312.5126,
          3762756882.9580126,
          104061501470.61765,
          363570410297.61115,
          1816503173.272004,
          18283594969.98269,
          3535509642.2613525,
          45700821554.19094,
          27881937111.105183,
          20243138624.84337,
          2111646140017.1858,
          24935060308.02718,
          90391737250.8729,
          18680226887.644714,
          5084543585.470639,
          30308661627.47185,
          48404444833.793304,
          1235617070157.1953,
          1957871301.804279,
          3061214633.111702,
          13903125175.276268,
          239555794878.5371,
          8836760859560.84,
          401278624154.2093,
          1360755342.5586638,
          49410589988.0132,
          74586812191.42656,
          20337373497.242985,
          242401722092.39734,
          67008864077.03498,
          40027660505.46856,
          195858088778.1281,
          4131673506.030574,
          570468066.2302378,
          88455787118.14415,
          113806155409.27821,
          609505762586.5598,
          33304360639.836315,
          17361040738.258717,
          4002579342.4202695,
          25875878852.320347,
          6459135474.591191,
          79507502109.61873,
          6469243230.196956,
          170716160887.4616,
          1969028627134.6453,
          21217350151.639534,
          3179972833.402953,
          25580104022.239304,
          2816514633787.5605,
          68672043211.11992,
          248367399928.26566,
          1021188861.9678402,
          78038515846.74052,
          14647202481.290968,
          1862610075.7253087,
          5823226129.571346,
          23169008603.89124,
          26585766534.428696,
          179041773853.6011,
          12151191920.52283,
          4007520487442.206,
          1626618254908.242,
          950293545088.9863,
          275986406951.0235,
          175986202062.24377,
          209688226761.06024,
          1789037141182.0654,
          20201969041.108437,
          3989579399491.5757,
          51551394175.90382,
          242125714783.0922,
          98535422667.8091,
          159577493.2418207,
          170869290093.64682,
          15498436884.548063,
          20709452640.5724,
          34053836993.411945,
          55380849588.130875,
          3545308159.100709,
          4209167956.268438,
          139982925418.46268,
          56230160569.94747,
          36205911970.110306,
          18561758732.507046,
          26436145362.447075,
          15595568105.81612,
          455444454402.51685,
          4533214408.298341,
          21182793823.421635,
          10045612596.135803,
          155697141.12924492,
          12082236243.88255,
          15344259656.162485,
          1460781861255.7507,
          296974984.2378883,
          17533329531.91647,
          17592486859.247658,
          7415997241.054306,
          158399795789.08612,
          17208334786.31184,
          103389016251.41985,
          14301040472.375841,
          80114708.1797461,
          49345559023.62887,
          618125787432.4745,
          115075946120.61621,
          19955554147.821274,
          14095292333.950356,
          541815432274.11664,
          217249994983.61914,
          114990766616.5783,
          623611490490.4315,
          251493348.02048227,
          50345380433.5312,
          18714645419.30248,
          50333229855.4465,
          214662333558.85535,
          437606267027.54944,
          619857230766.5454,
          232508205070.70667,
          168117669436.35196,
          16189799581.89965,
          263579237289.70676,
          2131557922320.2512,
          10740075113.120089,
          884073003.5843818,
          1813206591.16809,
          966598801.032898,
          792389067.0581107,
          500140692.7332938,
          1117420433196.3384,
          27799151351.173923,
          77513383323.46153,
          1501384221.4784591,
          6371179699.592793,
          281874740421.9709,
          102294803382.25716,
          51125071705.32697,
          978843076.8121419,
          13519902956.939837,
          520910366909.8801,
          1217210714033.093,
          20619231510.807827,
          1171302491782.2556,
          135020894055.67546,
          119572269908.98608,
          5826334287.907072,
          331998407963.9572,
          358893210699.9284,
          15039327755.636265,
          68725502631.75787,
          703369072510.3672,
          2157046703.7902107,
          7037587575.4551325,
          433069522.2939157,
          26977409826.442635,
          83133687638.25755,
          1090700151510.3583,
          39730747714.61453,
          29286210.79721604,
          47024608731.063866,
          353553404781.86884,
          425747913079.95966,
          1962979294970.2593,
          12712046368999.998,
          45529028018.24589,
          118322474859.7603,
          532089229.9223436,
          349434443355.0089,
          382666787466.6045,
          63472339582.79539,
          31345314505.04047,
          26050456225.898544
         ],
         "xaxis": "x",
         "y": [
          7.245799999999999,
          3.2143333333333333,
          76.1834,
          41.958733333333335,
          0.3297333333333333,
          151.73846666666668,
          3.6349333333333336,
          238.63340000000002,
          28.53213333333333,
          18.257466666666666,
          1.0925333333333334,
          13.1546,
          65.47253333333333,
          1.5139333333333334,
          25.814266666666665,
          49.26806666666667,
          3.1161333333333334,
          8.479333333333335,
          -1.5743333333333334,
          45.35993333333333,
          8.713733333333334,
          21.997466666666664,
          685.9992000000001,
          3.583066666666667,
          16.31373333333333,
          14.002133333333335,
          2.4052000000000002,
          18.496333333333332,
          48.169266666666665,
          321.8827333333333,
          0.11606666666666667,
          20.297133333333335,
          24.7058,
          15.641066666666665,
          2829.693,
          93.15006666666667,
          0.17626666666666668,
          4.286733333333333,
          9.597066666666667,
          3.1557333333333335,
          52.81046666666666,
          24.191,
          202.8288,
          26.401,
          0.49633333333333335,
          0.09793333333333333,
          10.0552,
          35.19186666666666,
          94.7628,
          4.8262,
          5.642666666666667,
          2.2842,
          7.632066666666666,
          0.9028666666666667,
          51.61713333333333,
          -0.1726,
          17.5994,
          172.53433333333334,
          7.003666666666667,
          1.2858666666666667,
          3.9576666666666664,
          361.99493333333334,
          16.867533333333334,
          41.99133333333333,
          0.8660666666666667,
          13.753266666666665,
          10.904866666666667,
          1.4658,
          5.714466666666667,
          3.249333333333333,
          8.864466666666667,
          28.23793333333333,
          1.2808666666666666,
          816.6525333333334,
          578.0530666666667,
          246.24633333333333,
          71.01133333333334,
          25.123333333333335,
          29.78646666666667,
          179.56886666666668,
          3.933333333333333,
          473.9480666666667,
          10.591000000000001,
          97.067,
          20.585866666666668,
          0.027866666666666665,
          34.51233333333334,
          5.379266666666666,
          9.930466666666666,
          1.2292,
          8.8254,
          0.8865333333333333,
          5.922133333333334,
          44.311933333333336,
          8.953999999999999,
          4.2192,
          4.766733333333334,
          19.465866666666667,
          5.5675333333333334,
          109.41660000000002,
          0.3900666666666667,
          10.697866666666668,
          1.0726666666666667,
          0.0612,
          4.0492,
          1.8850666666666667,
          223.9236666666667,
          0.06359999999999999,
          6.011266666666666,
          15.277266666666668,
          0.9878666666666667,
          22.817733333333333,
          36.22,
          87.71426666666666,
          8.617702702702703,
          0.0312,
          11.7174,
          80.48833333333333,
          23.066266666666667,
          13.2444,
          11.001666666666667,
          120.70153333333333,
          11.804866666666667,
          21.749133333333333,
          115.60839999999999,
          0.08993333333333334,
          7.197933333333333,
          20.354666666666667,
          35.599666666666664,
          56.592866666666666,
          61.3168,
          135.27286666666666,
          28.204866666666664,
          23.777,
          9.009933333333333,
          31.07633333333333,
          709.4770666666667,
          2.3324000000000003,
          0.126,
          0.2968,
          0.11833333333333333,
          0.23813333333333334,
          0.07026666666666667,
          186.7586,
          10.0666,
          20.823866666666667,
          0.18760000000000002,
          3.2263333333333333,
          21.056266666666666,
          15.449799999999998,
          4.098733333333334,
          2.2894,
          16.9018,
          183.66740000000001,
          196.399,
          24.744133333333334,
          126.69286666666667,
          11.611066666666668,
          41.8986,
          3.4116,
          21.5488,
          20.110533333333333,
          4.019,
          47.525133333333336,
          119.01740000000001,
          1.7312666666666667,
          2.728266666666667,
          0.10486666666666666,
          9.412466666666665,
          12.7838,
          116.91853333333333,
          44.49746666666667,
          0.0082,
          16.940133333333332,
          148.35726666666667,
          63.154333333333334,
          248.10406666666668,
          2370.4154,
          10.069066666666666,
          66.25313333333332,
          0.2582,
          174.55540000000002,
          69.9266,
          14.191466666666665,
          26.78813333333333,
          20.2682
         ],
         "yaxis": "y"
        },
        {
         "hovertemplate": "<b>OLS trendline</b><br>y = 2.1802e-10 * x + 0.0763908<br>R<sup>2</sup>=0.892735<br><br>GDP, PPP (current international $)=%{x}<br>Total including LUCF=%{y} <b>(trend)</b><extra></extra>",
         "legendgroup": "",
         "line": {
          "color": "#FFCB05"
         },
         "marker": {
          "color": "#00274C",
          "symbol": "circle"
         },
         "mode": "lines",
         "name": "",
         "showlegend": false,
         "type": "scatter",
         "x": [
          29286210.79721604,
          80114708.1797461,
          155697141.12924492,
          159577493.2418207,
          251493348.02048227,
          296974984.2378883,
          433069522.2939157,
          500140692.7332938,
          532089229.9223436,
          570468066.2302378,
          792389067.0581107,
          884073003.5843818,
          966598801.032898,
          978843076.8121419,
          1021188861.9678402,
          1360755342.5586638,
          1486293144.7720478,
          1501384221.4784591,
          1813206591.16809,
          1816503173.272004,
          1862610075.7253087,
          1957871301.804279,
          2157046703.7902107,
          3061214633.111702,
          3179972833.402953,
          3535509642.2613525,
          3545308159.100709,
          3762756882.9580126,
          4002579342.4202695,
          4131673506.030574,
          4209167956.268438,
          4533214408.298341,
          5084543585.470639,
          5823226129.571346,
          5826334287.907072,
          6371179699.592793,
          6459135474.591191,
          6469243230.196956,
          7037587575.4551325,
          7415997241.054306,
          9586083979.597836,
          10045612596.135803,
          10740075113.120089,
          12082236243.88255,
          12151191920.52283,
          13519902956.939837,
          13903125175.276268,
          14095292333.950356,
          14301040472.375841,
          14647202481.290968,
          15039327755.636265,
          15344259656.162485,
          15498436884.548063,
          15595568105.81612,
          16189799581.89965,
          17208334786.31184,
          17361040738.258717,
          17533329531.91647,
          17592486859.247658,
          17680730911.55777,
          18283594969.98269,
          18561758732.507046,
          18680226887.644714,
          18714645419.30248,
          19874452242.93934,
          19955554147.821274,
          20201969041.108437,
          20243138624.84337,
          20337373497.242985,
          20619231510.807827,
          20709452640.5724,
          21182793823.421635,
          21217350151.639534,
          23169008603.89124,
          24935060308.02718,
          25580104022.239304,
          25875878852.320347,
          26050456225.898544,
          26436145362.447075,
          26585766534.428696,
          26977409826.442635,
          27799151351.173923,
          27881937111.105183,
          30308661627.47185,
          31345314505.04047,
          33304360639.836315,
          34053836993.411945,
          36205911970.110306,
          39730747714.61453,
          40027660505.46856,
          42401504367.90435,
          44603079104.79237,
          45529028018.24589,
          45700821554.19094,
          47024608731.063866,
          48404444833.793304,
          49345559023.62887,
          49410589988.0132,
          50333229855.4465,
          50345380433.5312,
          51125071705.32697,
          51551394175.90382,
          55380849588.130875,
          56230160569.94747,
          63472339582.79539,
          67008864077.03498,
          68672043211.11992,
          68725502631.75787,
          74586812191.42656,
          77513383323.46153,
          78038515846.74052,
          78810017476.24666,
          79507502109.61873,
          83133687638.25755,
          88455787118.14415,
          90391737250.8729,
          98535422667.8091,
          102294803382.25716,
          103389016251.41985,
          104061501470.61765,
          111285416068.58745,
          113806155409.27821,
          114990766616.5783,
          115075946120.61621,
          118322474859.7603,
          119572269908.98608,
          135020894055.67546,
          139982925418.46268,
          158399795789.08612,
          168117669436.35196,
          170716160887.4616,
          170869290093.64682,
          175986202062.24377,
          179041773853.6011,
          195858088778.1281,
          209688226761.06024,
          214662333558.85535,
          217249994983.61914,
          232508205070.70667,
          239555794878.5371,
          242125714783.0922,
          242401722092.39734,
          248367399928.26566,
          263579237289.70676,
          275986406951.0235,
          281874740421.9709,
          301623930771.37537,
          323488675312.5126,
          331998407963.9572,
          349434443355.0089,
          352144684547.2972,
          353553404781.86884,
          358893210699.9284,
          363570410297.61115,
          382666787466.6045,
          401278624154.2093,
          425747913079.95966,
          437606267027.54944,
          455444454402.51685,
          520910366909.8801,
          541815432274.11664,
          586647601859.6467,
          609505762586.5598,
          618125787432.4745,
          619857230766.5454,
          623611490490.4315,
          703369072510.3672,
          711301930075.522,
          950293545088.9863,
          1090700151510.3583,
          1117420433196.3384,
          1171302491782.2556,
          1217210714033.093,
          1235617070157.1953,
          1460781861255.7507,
          1626618254908.242,
          1789037141182.0654,
          1962979294970.2593,
          1969028627134.6453,
          2111646140017.1858,
          2131557922320.2512,
          2816514633787.5605,
          3989579399491.5757,
          4007520487442.206,
          8836760859560.84,
          12712046368999.998
         ],
         "xaxis": "x",
         "y": [
          0.08277579358843827,
          0.0938574191084339,
          0.1103358959662684,
          0.11118189006823193,
          0.13122137843519505,
          0.14113728164997696,
          0.17080860352092497,
          0.18543145550892115,
          0.19239687339991685,
          0.20076422466463223,
          0.24914742607405216,
          0.26913635163950456,
          0.2871286203501233,
          0.2897981165173614,
          0.299030341698327,
          0.37306260255252466,
          0.4004323455976957,
          0.40372250110820385,
          0.4717059928028804,
          0.472424713407516,
          0.48247693712424744,
          0.5032457831131045,
          0.5466699906200001,
          0.7437966206780121,
          0.7696882753762012,
          0.847202386106085,
          0.8493386580766674,
          0.8967468139671029,
          0.9490328901625895,
          0.9771779908760749,
          0.9940733256122362,
          1.0647219109019685,
          1.1849226603691487,
          1.3459701780692328,
          1.3466478185368262,
          1.4654349778964537,
          1.4846110899408016,
          1.486814782126068,
          1.6107251773745987,
          1.6932260267653994,
          2.1663481889545464,
          2.2665345864762187,
          2.417941256891357,
          2.7105591347457487,
          2.725592846646666,
          3.023999133114452,
          3.1075492149235973,
          3.1494454857033776,
          3.1943026807589034,
          3.2697728982468846,
          3.3552640237176456,
          3.421745255796986,
          3.455358964575775,
          3.476535506787751,
          3.6060898125267835,
          3.8281507880713304,
          3.8614437292616666,
          3.899006120261311,
          3.911903596716583,
          3.9311425589606976,
          4.0625789397108765,
          4.1232241841754,
          4.14905260324906,
          4.156556529165047,
          4.409417533462545,
          4.427099365213267,
          4.4808227233799895,
          4.489798513207714,
          4.510343593637654,
          4.571794258461144,
          4.591464262996543,
          4.694662075279892,
          4.702196043592487,
          5.127696485756278,
          5.512730957401137,
          5.653363343818736,
          5.717848152026444,
          5.7559094990636845,
          5.839997418212565,
          5.872617815886038,
          5.9580038596019085,
          6.137159890573468,
          6.155208836286779,
          6.6842831492294,
          6.91029413863531,
          7.337405242841668,
          7.50080602614461,
          7.970001265249226,
          8.738485712981811,
          8.803218619319349,
          9.32076389571178,
          9.800751069144557,
          10.002626387872068,
          10.04008080281909,
          10.328692792504231,
          10.629524565167914,
          10.834706216414135,
          10.848884262817668,
          11.050038143558364,
          11.05268721176065,
          11.22267544946566,
          11.315622245317934,
          12.150519852155439,
          12.335686574273534,
          13.914625946908542,
          14.685658775058307,
          15.048264976022544,
          15.059920195250594,
          16.33780250422759,
          16.975853342102408,
          17.090342698881,
          17.25854543133462,
          17.410610983357753,
          18.201191704089705,
          19.36151546838295,
          19.783591183799622,
          21.55907692094349,
          22.378696846968012,
          22.617257061801126,
          22.76387224325726,
          24.338829609410787,
          24.888401027916988,
          25.146669882242815,
          25.165240711882404,
          25.873048685357215,
          26.14552891643768,
          29.513636895400168,
          30.595458633451013,
          34.61070345097139,
          36.72939359833442,
          37.295916526631814,
          37.329301745682216,
          38.444890542809716,
          39.11106609559956,
          42.7773579243242,
          45.792603660653945,
          46.87705808421861,
          47.44121985091343,
          50.76781376963586,
          52.304328817113095,
          52.86462257878646,
          52.924797673467744,
          54.2254343468775,
          57.541918087128835,
          60.2469283673859,
          61.53070242765002,
          65.83641955574345,
          70.60336966390324,
          72.45866099405774,
          76.2600642364726,
          76.8509508356922,
          77.15807992480292,
          78.3222640455346,
          79.34198678165484,
          83.5053776248418,
          87.5631289854445,
          92.89792168204977,
          95.48327919796795,
          99.37235958838777,
          113.64523335193017,
          118.20295427163461,
          127.97726081579262,
          132.9607954527733,
          134.8401326796164,
          135.2176218367887,
          136.03612528480147,
          153.42486785717276,
          155.15438892050295,
          207.25932446613731,
          237.8707631869254,
          243.69631717102962,
          255.44367989556343,
          265.4525873681531,
          269.4655398703667,
          318.55595221255487,
          354.7115914047361,
          390.12214587215755,
          428.0450023342642,
          429.363877318651,
          460.45733771476074,
          464.7985031294615,
          614.1327184764859,
          869.884218395924,
          873.795733162806,
          1926.6663885179762,
          2771.555870012473
         ],
         "yaxis": "y"
        }
       ],
       "layout": {
        "height": 600,
        "legend": {
         "tracegroupgap": 0
        },
        "template": {
         "data": {
          "bar": [
           {
            "error_x": {
             "color": "#2a3f5f"
            },
            "error_y": {
             "color": "#2a3f5f"
            },
            "marker": {
             "line": {
              "color": "#E5ECF6",
              "width": 0.5
             },
             "pattern": {
              "fillmode": "overlay",
              "size": 10,
              "solidity": 0.2
             }
            },
            "type": "bar"
           }
          ],
          "barpolar": [
           {
            "marker": {
             "line": {
              "color": "#E5ECF6",
              "width": 0.5
             },
             "pattern": {
              "fillmode": "overlay",
              "size": 10,
              "solidity": 0.2
             }
            },
            "type": "barpolar"
           }
          ],
          "carpet": [
           {
            "aaxis": {
             "endlinecolor": "#2a3f5f",
             "gridcolor": "white",
             "linecolor": "white",
             "minorgridcolor": "white",
             "startlinecolor": "#2a3f5f"
            },
            "baxis": {
             "endlinecolor": "#2a3f5f",
             "gridcolor": "white",
             "linecolor": "white",
             "minorgridcolor": "white",
             "startlinecolor": "#2a3f5f"
            },
            "type": "carpet"
           }
          ],
          "choropleth": [
           {
            "colorbar": {
             "outlinewidth": 0,
             "ticks": ""
            },
            "type": "choropleth"
           }
          ],
          "contour": [
           {
            "colorbar": {
             "outlinewidth": 0,
             "ticks": ""
            },
            "colorscale": [
             [
              0,
              "#0d0887"
             ],
             [
              0.1111111111111111,
              "#46039f"
             ],
             [
              0.2222222222222222,
              "#7201a8"
             ],
             [
              0.3333333333333333,
              "#9c179e"
             ],
             [
              0.4444444444444444,
              "#bd3786"
             ],
             [
              0.5555555555555556,
              "#d8576b"
             ],
             [
              0.6666666666666666,
              "#ed7953"
             ],
             [
              0.7777777777777778,
              "#fb9f3a"
             ],
             [
              0.8888888888888888,
              "#fdca26"
             ],
             [
              1,
              "#f0f921"
             ]
            ],
            "type": "contour"
           }
          ],
          "contourcarpet": [
           {
            "colorbar": {
             "outlinewidth": 0,
             "ticks": ""
            },
            "type": "contourcarpet"
           }
          ],
          "heatmap": [
           {
            "colorbar": {
             "outlinewidth": 0,
             "ticks": ""
            },
            "colorscale": [
             [
              0,
              "#0d0887"
             ],
             [
              0.1111111111111111,
              "#46039f"
             ],
             [
              0.2222222222222222,
              "#7201a8"
             ],
             [
              0.3333333333333333,
              "#9c179e"
             ],
             [
              0.4444444444444444,
              "#bd3786"
             ],
             [
              0.5555555555555556,
              "#d8576b"
             ],
             [
              0.6666666666666666,
              "#ed7953"
             ],
             [
              0.7777777777777778,
              "#fb9f3a"
             ],
             [
              0.8888888888888888,
              "#fdca26"
             ],
             [
              1,
              "#f0f921"
             ]
            ],
            "type": "heatmap"
           }
          ],
          "heatmapgl": [
           {
            "colorbar": {
             "outlinewidth": 0,
             "ticks": ""
            },
            "colorscale": [
             [
              0,
              "#0d0887"
             ],
             [
              0.1111111111111111,
              "#46039f"
             ],
             [
              0.2222222222222222,
              "#7201a8"
             ],
             [
              0.3333333333333333,
              "#9c179e"
             ],
             [
              0.4444444444444444,
              "#bd3786"
             ],
             [
              0.5555555555555556,
              "#d8576b"
             ],
             [
              0.6666666666666666,
              "#ed7953"
             ],
             [
              0.7777777777777778,
              "#fb9f3a"
             ],
             [
              0.8888888888888888,
              "#fdca26"
             ],
             [
              1,
              "#f0f921"
             ]
            ],
            "type": "heatmapgl"
           }
          ],
          "histogram": [
           {
            "marker": {
             "pattern": {
              "fillmode": "overlay",
              "size": 10,
              "solidity": 0.2
             }
            },
            "type": "histogram"
           }
          ],
          "histogram2d": [
           {
            "colorbar": {
             "outlinewidth": 0,
             "ticks": ""
            },
            "colorscale": [
             [
              0,
              "#0d0887"
             ],
             [
              0.1111111111111111,
              "#46039f"
             ],
             [
              0.2222222222222222,
              "#7201a8"
             ],
             [
              0.3333333333333333,
              "#9c179e"
             ],
             [
              0.4444444444444444,
              "#bd3786"
             ],
             [
              0.5555555555555556,
              "#d8576b"
             ],
             [
              0.6666666666666666,
              "#ed7953"
             ],
             [
              0.7777777777777778,
              "#fb9f3a"
             ],
             [
              0.8888888888888888,
              "#fdca26"
             ],
             [
              1,
              "#f0f921"
             ]
            ],
            "type": "histogram2d"
           }
          ],
          "histogram2dcontour": [
           {
            "colorbar": {
             "outlinewidth": 0,
             "ticks": ""
            },
            "colorscale": [
             [
              0,
              "#0d0887"
             ],
             [
              0.1111111111111111,
              "#46039f"
             ],
             [
              0.2222222222222222,
              "#7201a8"
             ],
             [
              0.3333333333333333,
              "#9c179e"
             ],
             [
              0.4444444444444444,
              "#bd3786"
             ],
             [
              0.5555555555555556,
              "#d8576b"
             ],
             [
              0.6666666666666666,
              "#ed7953"
             ],
             [
              0.7777777777777778,
              "#fb9f3a"
             ],
             [
              0.8888888888888888,
              "#fdca26"
             ],
             [
              1,
              "#f0f921"
             ]
            ],
            "type": "histogram2dcontour"
           }
          ],
          "mesh3d": [
           {
            "colorbar": {
             "outlinewidth": 0,
             "ticks": ""
            },
            "type": "mesh3d"
           }
          ],
          "parcoords": [
           {
            "line": {
             "colorbar": {
              "outlinewidth": 0,
              "ticks": ""
             }
            },
            "type": "parcoords"
           }
          ],
          "pie": [
           {
            "automargin": true,
            "type": "pie"
           }
          ],
          "scatter": [
           {
            "fillpattern": {
             "fillmode": "overlay",
             "size": 10,
             "solidity": 0.2
            },
            "type": "scatter"
           }
          ],
          "scatter3d": [
           {
            "line": {
             "colorbar": {
              "outlinewidth": 0,
              "ticks": ""
             }
            },
            "marker": {
             "colorbar": {
              "outlinewidth": 0,
              "ticks": ""
             }
            },
            "type": "scatter3d"
           }
          ],
          "scattercarpet": [
           {
            "marker": {
             "colorbar": {
              "outlinewidth": 0,
              "ticks": ""
             }
            },
            "type": "scattercarpet"
           }
          ],
          "scattergeo": [
           {
            "marker": {
             "colorbar": {
              "outlinewidth": 0,
              "ticks": ""
             }
            },
            "type": "scattergeo"
           }
          ],
          "scattergl": [
           {
            "marker": {
             "colorbar": {
              "outlinewidth": 0,
              "ticks": ""
             }
            },
            "type": "scattergl"
           }
          ],
          "scattermapbox": [
           {
            "marker": {
             "colorbar": {
              "outlinewidth": 0,
              "ticks": ""
             }
            },
            "type": "scattermapbox"
           }
          ],
          "scatterpolar": [
           {
            "marker": {
             "colorbar": {
              "outlinewidth": 0,
              "ticks": ""
             }
            },
            "type": "scatterpolar"
           }
          ],
          "scatterpolargl": [
           {
            "marker": {
             "colorbar": {
              "outlinewidth": 0,
              "ticks": ""
             }
            },
            "type": "scatterpolargl"
           }
          ],
          "scatterternary": [
           {
            "marker": {
             "colorbar": {
              "outlinewidth": 0,
              "ticks": ""
             }
            },
            "type": "scatterternary"
           }
          ],
          "surface": [
           {
            "colorbar": {
             "outlinewidth": 0,
             "ticks": ""
            },
            "colorscale": [
             [
              0,
              "#0d0887"
             ],
             [
              0.1111111111111111,
              "#46039f"
             ],
             [
              0.2222222222222222,
              "#7201a8"
             ],
             [
              0.3333333333333333,
              "#9c179e"
             ],
             [
              0.4444444444444444,
              "#bd3786"
             ],
             [
              0.5555555555555556,
              "#d8576b"
             ],
             [
              0.6666666666666666,
              "#ed7953"
             ],
             [
              0.7777777777777778,
              "#fb9f3a"
             ],
             [
              0.8888888888888888,
              "#fdca26"
             ],
             [
              1,
              "#f0f921"
             ]
            ],
            "type": "surface"
           }
          ],
          "table": [
           {
            "cells": {
             "fill": {
              "color": "#EBF0F8"
             },
             "line": {
              "color": "white"
             }
            },
            "header": {
             "fill": {
              "color": "#C8D4E3"
             },
             "line": {
              "color": "white"
             }
            },
            "type": "table"
           }
          ]
         },
         "layout": {
          "annotationdefaults": {
           "arrowcolor": "#2a3f5f",
           "arrowhead": 0,
           "arrowwidth": 1
          },
          "autotypenumbers": "strict",
          "coloraxis": {
           "colorbar": {
            "outlinewidth": 0,
            "ticks": ""
           }
          },
          "colorscale": {
           "diverging": [
            [
             0,
             "#8e0152"
            ],
            [
             0.1,
             "#c51b7d"
            ],
            [
             0.2,
             "#de77ae"
            ],
            [
             0.3,
             "#f1b6da"
            ],
            [
             0.4,
             "#fde0ef"
            ],
            [
             0.5,
             "#f7f7f7"
            ],
            [
             0.6,
             "#e6f5d0"
            ],
            [
             0.7,
             "#b8e186"
            ],
            [
             0.8,
             "#7fbc41"
            ],
            [
             0.9,
             "#4d9221"
            ],
            [
             1,
             "#276419"
            ]
           ],
           "sequential": [
            [
             0,
             "#0d0887"
            ],
            [
             0.1111111111111111,
             "#46039f"
            ],
            [
             0.2222222222222222,
             "#7201a8"
            ],
            [
             0.3333333333333333,
             "#9c179e"
            ],
            [
             0.4444444444444444,
             "#bd3786"
            ],
            [
             0.5555555555555556,
             "#d8576b"
            ],
            [
             0.6666666666666666,
             "#ed7953"
            ],
            [
             0.7777777777777778,
             "#fb9f3a"
            ],
            [
             0.8888888888888888,
             "#fdca26"
            ],
            [
             1,
             "#f0f921"
            ]
           ],
           "sequentialminus": [
            [
             0,
             "#0d0887"
            ],
            [
             0.1111111111111111,
             "#46039f"
            ],
            [
             0.2222222222222222,
             "#7201a8"
            ],
            [
             0.3333333333333333,
             "#9c179e"
            ],
            [
             0.4444444444444444,
             "#bd3786"
            ],
            [
             0.5555555555555556,
             "#d8576b"
            ],
            [
             0.6666666666666666,
             "#ed7953"
            ],
            [
             0.7777777777777778,
             "#fb9f3a"
            ],
            [
             0.8888888888888888,
             "#fdca26"
            ],
            [
             1,
             "#f0f921"
            ]
           ]
          },
          "colorway": [
           "#636efa",
           "#EF553B",
           "#00cc96",
           "#ab63fa",
           "#FFA15A",
           "#19d3f3",
           "#FF6692",
           "#B6E880",
           "#FF97FF",
           "#FECB52"
          ],
          "font": {
           "color": "#2a3f5f"
          },
          "geo": {
           "bgcolor": "white",
           "lakecolor": "white",
           "landcolor": "#E5ECF6",
           "showlakes": true,
           "showland": true,
           "subunitcolor": "white"
          },
          "hoverlabel": {
           "align": "left"
          },
          "hovermode": "closest",
          "mapbox": {
           "style": "light"
          },
          "paper_bgcolor": "white",
          "plot_bgcolor": "#E5ECF6",
          "polar": {
           "angularaxis": {
            "gridcolor": "white",
            "linecolor": "white",
            "ticks": ""
           },
           "bgcolor": "#E5ECF6",
           "radialaxis": {
            "gridcolor": "white",
            "linecolor": "white",
            "ticks": ""
           }
          },
          "scene": {
           "xaxis": {
            "backgroundcolor": "#E5ECF6",
            "gridcolor": "white",
            "gridwidth": 2,
            "linecolor": "white",
            "showbackground": true,
            "ticks": "",
            "zerolinecolor": "white"
           },
           "yaxis": {
            "backgroundcolor": "#E5ECF6",
            "gridcolor": "white",
            "gridwidth": 2,
            "linecolor": "white",
            "showbackground": true,
            "ticks": "",
            "zerolinecolor": "white"
           },
           "zaxis": {
            "backgroundcolor": "#E5ECF6",
            "gridcolor": "white",
            "gridwidth": 2,
            "linecolor": "white",
            "showbackground": true,
            "ticks": "",
            "zerolinecolor": "white"
           }
          },
          "shapedefaults": {
           "line": {
            "color": "#2a3f5f"
           }
          },
          "ternary": {
           "aaxis": {
            "gridcolor": "white",
            "linecolor": "white",
            "ticks": ""
           },
           "baxis": {
            "gridcolor": "white",
            "linecolor": "white",
            "ticks": ""
           },
           "bgcolor": "#E5ECF6",
           "caxis": {
            "gridcolor": "white",
            "linecolor": "white",
            "ticks": ""
           }
          },
          "title": {
           "x": 0.05
          },
          "xaxis": {
           "automargin": true,
           "gridcolor": "white",
           "linecolor": "white",
           "ticks": "",
           "title": {
            "standoff": 15
           },
           "zerolinecolor": "white",
           "zerolinewidth": 2
          },
          "yaxis": {
           "automargin": true,
           "gridcolor": "white",
           "linecolor": "white",
           "ticks": "",
           "title": {
            "standoff": 15
           },
           "zerolinecolor": "white",
           "zerolinewidth": 2
          }
         }
        },
        "title": {
         "text": "Correlation between GDP, PPP (current international $)<br>and Total including LUCF<br>Pearson's r: 0.9448465562106727, P-value: 3.9394319136727964e-91, n=186<br>"
        },
        "width": 600,
        "xaxis": {
         "anchor": "y",
         "domain": [
          0,
          1
         ],
         "title": {
          "text": "GDP, PPP (current international $)"
         }
        },
        "yaxis": {
         "anchor": "x",
         "domain": [
          0,
          1
         ],
         "title": {
          "text": "Total including LUCF"
         }
        }
       }
      }
     },
     "metadata": {},
     "output_type": "display_data"
    }
   ],
   "source": [
    "build_correlation_plot(df_xy, x, y, p_corr, p_pval).update_layout(\n",
    "    width=600, height=600\n",
    ").show()\n"
   ]
  },
  {
   "cell_type": "markdown",
   "metadata": {},
   "source": [
    "We also created correlation plots for various poverty indicators and Land Use Change and Forestry (LUCF), but these ultimately didn't make it into the report because of their low Pearson r values and relevance to our data narrative.\n"
   ]
  },
  {
   "cell_type": "code",
   "execution_count": 13,
   "metadata": {},
   "outputs": [
    {
     "data": {
      "application/vnd.plotly.v1+json": {
       "config": {
        "plotlyServerURL": "https://plot.ly"
       },
       "data": [
        {
         "customdata": [
          [
           "Albania"
          ],
          [
           "Algeria"
          ],
          [
           "Angola"
          ],
          [
           "Argentina"
          ],
          [
           "Armenia"
          ],
          [
           "Australia"
          ],
          [
           "Austria"
          ],
          [
           "Azerbaijan"
          ],
          [
           "Bangladesh"
          ],
          [
           "Belarus"
          ],
          [
           "Belgium"
          ],
          [
           "Belize"
          ],
          [
           "Benin"
          ],
          [
           "Bolivia"
          ],
          [
           "Bosnia and Herzegovina"
          ],
          [
           "Botswana"
          ],
          [
           "Brazil"
          ],
          [
           "Bulgaria"
          ],
          [
           "Burkina Faso"
          ],
          [
           "Burundi"
          ],
          [
           "Cameroon"
          ],
          [
           "Canada"
          ],
          [
           "Cape Verde"
          ],
          [
           "Central African Republic"
          ],
          [
           "Chad"
          ],
          [
           "Chile"
          ],
          [
           "China"
          ],
          [
           "Colombia"
          ],
          [
           "Comoros"
          ],
          [
           "Costa Rica"
          ],
          [
           "Croatia"
          ],
          [
           "Cyprus"
          ],
          [
           "Czech Republic"
          ],
          [
           "Côte d'Ivoire"
          ],
          [
           "Democratic Republic of the Congo"
          ],
          [
           "Denmark"
          ],
          [
           "Djibouti"
          ],
          [
           "Dominican Republic"
          ],
          [
           "Ecuador"
          ],
          [
           "Egypt"
          ],
          [
           "El Salvador"
          ],
          [
           "Estonia"
          ],
          [
           "Eswatini"
          ],
          [
           "Ethiopia"
          ],
          [
           "Finland"
          ],
          [
           "France"
          ],
          [
           "Gabon"
          ],
          [
           "Gambia"
          ],
          [
           "Georgia"
          ],
          [
           "Germany"
          ],
          [
           "Ghana"
          ],
          [
           "Greece"
          ],
          [
           "Guatemala"
          ],
          [
           "Guinea"
          ],
          [
           "Guinea-Bissau"
          ],
          [
           "Guyana"
          ],
          [
           "Haiti"
          ],
          [
           "Honduras"
          ],
          [
           "Hungary"
          ],
          [
           "Iceland"
          ],
          [
           "India"
          ],
          [
           "Indonesia"
          ],
          [
           "Iran"
          ],
          [
           "Iraq"
          ],
          [
           "Ireland"
          ],
          [
           "Israel"
          ],
          [
           "Italy"
          ],
          [
           "Jamaica"
          ],
          [
           "Japan"
          ],
          [
           "Jordan"
          ],
          [
           "Kazakhstan"
          ],
          [
           "Kenya"
          ],
          [
           "Kiribati"
          ],
          [
           "Kyrgyzstan"
          ],
          [
           "Laos"
          ],
          [
           "Latvia"
          ],
          [
           "Lesotho"
          ],
          [
           "Liberia"
          ],
          [
           "Lithuania"
          ],
          [
           "Luxembourg"
          ],
          [
           "Macedonia"
          ],
          [
           "Madagascar"
          ],
          [
           "Malawi"
          ],
          [
           "Malaysia"
          ],
          [
           "Maldives"
          ],
          [
           "Mali"
          ],
          [
           "Malta"
          ],
          [
           "Marshall Islands"
          ],
          [
           "Mauritania"
          ],
          [
           "Mauritius"
          ],
          [
           "Mexico"
          ],
          [
           "Moldova"
          ],
          [
           "Mongolia"
          ],
          [
           "Montenegro"
          ],
          [
           "Morocco"
          ],
          [
           "Mozambique"
          ],
          [
           "Myanmar"
          ],
          [
           "Namibia"
          ],
          [
           "Nauru"
          ],
          [
           "Nepal"
          ],
          [
           "Netherlands"
          ],
          [
           "Nicaragua"
          ],
          [
           "Niger"
          ],
          [
           "Nigeria"
          ],
          [
           "Norway"
          ],
          [
           "Pakistan"
          ],
          [
           "Panama"
          ],
          [
           "Papua New Guinea"
          ],
          [
           "Paraguay"
          ],
          [
           "Peru"
          ],
          [
           "Philippines"
          ],
          [
           "Poland"
          ],
          [
           "Portugal"
          ],
          [
           "Republic of Congo"
          ],
          [
           "Romania"
          ],
          [
           "Russia"
          ],
          [
           "Rwanda"
          ],
          [
           "Saint Lucia"
          ],
          [
           "Samoa"
          ],
          [
           "Sao Tome and Principe"
          ],
          [
           "Senegal"
          ],
          [
           "Serbia"
          ],
          [
           "Seychelles"
          ],
          [
           "Sierra Leone"
          ],
          [
           "Slovakia"
          ],
          [
           "Slovenia"
          ],
          [
           "Solomon Islands"
          ],
          [
           "Somalia"
          ],
          [
           "South Africa"
          ],
          [
           "South Korea"
          ],
          [
           "South Sudan"
          ],
          [
           "Spain"
          ],
          [
           "Sri Lanka"
          ],
          [
           "Sudan"
          ],
          [
           "Suriname"
          ],
          [
           "Sweden"
          ],
          [
           "Switzerland"
          ],
          [
           "Syria"
          ],
          [
           "Tajikistan"
          ],
          [
           "Tanzania"
          ],
          [
           "Thailand"
          ],
          [
           "Timor-Leste"
          ],
          [
           "Togo"
          ],
          [
           "Tonga"
          ],
          [
           "Trinidad and Tobago"
          ],
          [
           "Tunisia"
          ],
          [
           "Turkey"
          ],
          [
           "Turkmenistan"
          ],
          [
           "Tuvalu"
          ],
          [
           "Uganda"
          ],
          [
           "Ukraine"
          ],
          [
           "United Kingdom"
          ],
          [
           "United States"
          ],
          [
           "Uruguay"
          ],
          [
           "Uzbekistan"
          ],
          [
           "Vanuatu"
          ],
          [
           "Venezuela"
          ],
          [
           "Vietnam"
          ],
          [
           "Yemen"
          ],
          [
           "Zambia"
          ],
          [
           "Zimbabwe"
          ]
         ],
         "hovertemplate": "Proportion of population below international poverty line (%)PERCENTALLAGEALLAREABOTHSEX (Log Scaled)=%{x}<br>Total including LUCF (Log Scaled)=%{y}<br>country=%{customdata[0]}<extra></extra>",
         "legendgroup": "",
         "marker": {
          "color": "#00274C",
          "symbol": "circle"
         },
         "mode": "markers",
         "name": "",
         "orientation": "v",
         "showlegend": false,
         "type": "scatter",
         "x": [
          0.8384615384615385,
          2.48,
          39.18260869565217,
          3.779310344827586,
          5.34,
          0.5596153846153846,
          0.39615384615384613,
          2.565625,
          25.210185185185182,
          3.25,
          0.2611111111111111,
          13.118181818181819,
          47.01428571428571,
          14.134615384615385,
          0.17894736842105263,
          22.69074074074074,
          9.486206896551725,
          2.822222222222222,
          58.10192307692307,
          78.76333333333334,
          32.548,
          0.25,
          9.22608695652174,
          71.5875,
          45.79761904761905,
          2.4214285714285713,
          23.21607142857143,
          10.619444444444445,
          17.05,
          4.41,
          0.7533333333333334,
          0.05,
          0.0071428571428571435,
          25.18148148148148,
          85.75,
          0.1580246913580247,
          19.288095238095238,
          4.071296296296296,
          11.557692307692308,
          3.8025925925925925,
          9.242592592592592,
          1.019047619047619,
          46.25,
          43.25961538461539,
          0.040740740740740744,
          0.03461538461538461,
          5.9875,
          38.33461538461538,
          9.623076923076923,
          0.020689655172413796,
          23.567460317460316,
          0.8923076923076922,
          10.585999999999999,
          48.90185185185185,
          51.033928571428575,
          16.36,
          24.5,
          22.625,
          0.28500000000000003,
          0.0380952380952381,
          35.99285714285715,
          24.849999999999998,
          1.4833333333333332,
          1.6,
          0.22692307692307695,
          0.3333333333333333,
          1.1071428571428572,
          3.4294117647058826,
          0.4964285714285714,
          0.8768181818181818,
          2.8461538461538463,
          37.66346153846154,
          8.757142857142858,
          13.058333333333335,
          26.87148148148148,
          1.365,
          47.19,
          56.39117647058824,
          1.56,
          0.059259259259259255,
          7.086666666666667,
          72.3625,
          68.96346153846153,
          0.5882716049382716,
          3.477272727272727,
          50.07692307692308,
          0.23333333333333334,
          0.8,
          15.101923076923075,
          0.40555555555555556,
          6.72962962962963,
          9.261538461538462,
          6.707692307692308,
          2.9166666666666665,
          3.345,
          73.03,
          3.4777777777777774,
          23.285714285714285,
          0.8999999999999999,
          40.82142857142857,
          0.2642857142857143,
          13.782692307692308,
          63.95,
          53.575,
          0.18518518518518517,
          16.26851851851852,
          8.86111111111111,
          43.64375,
          5.976666666666667,
          10.46923076923077,
          10.5875,
          0.785,
          0.5,
          47.35,
          4.783333333333333,
          0.26,
          66.6875,
          17.500000000000004,
          1.3,
          31,
          38.888888888888886,
          5.233333333333333,
          0.9454545454545454,
          59.32142857142857,
          0.33,
          0.01,
          36.65,
          68.6,
          24.98076923076923,
          0.23333333333333334,
          59.64666666666666,
          0.8170370370370371,
          5.205925925925926,
          13.95,
          21.1,
          0.34074074074074073,
          0.07083333333333333,
          1.4142857142857144,
          19.736,
          64.93765432098765,
          1.3839285714285714,
          32.175000000000004,
          49.675,
          1.59375,
          3.2,
          4.29925925925926,
          1.4596153846153848,
          49.8,
          3.3,
          52.87407407407407,
          1.282142857142857,
          0.23703703703703705,
          0.8551724137931035,
          0.25,
          52.621428571428574,
          11.492857142857144,
          9.916666666666666,
          19.977037037037036,
          11.835999999999999,
          56.228571428571435,
          27.334615384615383
         ],
         "xaxis": "x",
         "y": [
          3.2143333333333333,
          76.1834,
          41.958733333333335,
          151.73846666666668,
          3.6349333333333336,
          238.63340000000002,
          28.53213333333333,
          18.257466666666666,
          65.47253333333333,
          25.814266666666665,
          49.26806666666667,
          3.1161333333333334,
          8.479333333333335,
          45.35993333333333,
          8.713733333333334,
          21.997466666666664,
          685.9992000000001,
          16.31373333333333,
          14.002133333333335,
          2.4052000000000002,
          48.169266666666665,
          321.8827333333333,
          0.11606666666666667,
          20.297133333333335,
          24.7058,
          15.641066666666665,
          2829.693,
          93.15006666666667,
          0.17626666666666668,
          4.286733333333333,
          9.597066666666667,
          3.1557333333333335,
          52.81046666666666,
          24.191,
          202.8288,
          26.401,
          0.49633333333333335,
          10.0552,
          35.19186666666666,
          94.7628,
          4.8262,
          7.632066666666666,
          0.9028666666666667,
          51.61713333333333,
          17.5994,
          172.53433333333334,
          7.003666666666667,
          1.2858666666666667,
          3.9576666666666664,
          361.99493333333334,
          16.867533333333334,
          41.99133333333333,
          13.753266666666665,
          10.904866666666667,
          1.4658,
          5.714466666666667,
          3.249333333333333,
          8.864466666666667,
          28.23793333333333,
          1.2808666666666666,
          816.6525333333334,
          578.0530666666667,
          246.24633333333333,
          71.01133333333334,
          25.123333333333335,
          29.78646666666667,
          179.56886666666668,
          3.933333333333333,
          473.9480666666667,
          10.591000000000001,
          97.067,
          20.585866666666668,
          0.027866666666666665,
          5.379266666666666,
          9.930466666666666,
          1.2292,
          0.8865333333333333,
          5.922133333333334,
          8.953999999999999,
          4.2192,
          4.766733333333334,
          19.465866666666667,
          5.5675333333333334,
          109.41660000000002,
          0.3900666666666667,
          10.697866666666668,
          1.0726666666666667,
          0.0612,
          4.0492,
          1.8850666666666667,
          223.9236666666667,
          6.011266666666666,
          15.277266666666668,
          0.9878666666666667,
          22.817733333333333,
          36.22,
          87.71426666666666,
          8.617702702702703,
          0.0312,
          11.7174,
          80.48833333333333,
          13.2444,
          11.001666666666667,
          120.70153333333333,
          11.804866666666667,
          115.60839999999999,
          7.197933333333333,
          20.354666666666667,
          35.599666666666664,
          56.592866666666666,
          61.3168,
          135.27286666666666,
          28.204866666666664,
          9.009933333333333,
          31.07633333333333,
          709.4770666666667,
          2.3324000000000003,
          0.2968,
          0.23813333333333334,
          0.07026666666666667,
          10.0666,
          20.823866666666667,
          0.18760000000000002,
          3.2263333333333333,
          15.449799999999998,
          4.098733333333334,
          2.2894,
          16.9018,
          183.66740000000001,
          196.399,
          24.744133333333334,
          126.69286666666667,
          11.611066666666668,
          41.8986,
          3.4116,
          21.5488,
          20.110533333333333,
          32.218199999999996,
          4.019,
          47.525133333333336,
          119.01740000000001,
          1.7312666666666667,
          2.728266666666667,
          0.10486666666666666,
          9.412466666666665,
          12.7838,
          116.91853333333333,
          44.49746666666667,
          0.0082,
          16.940133333333332,
          148.35726666666667,
          248.10406666666668,
          2370.4154,
          10.069066666666666,
          66.25313333333332,
          0.2582,
          174.55540000000002,
          69.9266,
          14.191466666666665,
          26.78813333333333,
          20.2682
         ],
         "yaxis": "y"
        },
        {
         "hovertemplate": "<b>OLS trendline</b><br>log10(y) = -0.1055 * log10(x) + 1.21378<br>R<sup>2</sup>=0.010784<br><br>Proportion of population below international poverty line (%)PERCENTALLAGEALLAREABOTHSEX (Log Scaled)=%{x}<br>Total including LUCF (Log Scaled)=%{y} <b>(trend)</b><extra></extra>",
         "legendgroup": "",
         "line": {
          "color": "#FFCB05"
         },
         "marker": {
          "color": "#00274C",
          "symbol": "circle"
         },
         "mode": "lines",
         "name": "",
         "showlegend": false,
         "type": "scatter",
         "x": [
          0.0071428571428571435,
          0.01,
          0.020689655172413796,
          0.03461538461538461,
          0.0380952380952381,
          0.040740740740740744,
          0.05,
          0.059259259259259255,
          0.07083333333333333,
          0.1580246913580247,
          0.17894736842105263,
          0.18518518518518517,
          0.22692307692307695,
          0.23333333333333334,
          0.23333333333333334,
          0.23703703703703705,
          0.25,
          0.25,
          0.26,
          0.2611111111111111,
          0.2642857142857143,
          0.28500000000000003,
          0.33,
          0.3333333333333333,
          0.34074074074074073,
          0.39615384615384613,
          0.40555555555555556,
          0.4964285714285714,
          0.5,
          0.5596153846153846,
          0.5882716049382716,
          0.7533333333333334,
          0.785,
          0.8,
          0.8170370370370371,
          0.8384615384615385,
          0.8551724137931035,
          0.8768181818181818,
          0.8923076923076922,
          0.8999999999999999,
          0.9454545454545454,
          1.019047619047619,
          1.1071428571428572,
          1.282142857142857,
          1.3,
          1.365,
          1.3839285714285714,
          1.4142857142857144,
          1.4596153846153848,
          1.4833333333333332,
          1.56,
          1.59375,
          1.6,
          2.4214285714285713,
          2.48,
          2.565625,
          2.822222222222222,
          2.8461538461538463,
          2.9166666666666665,
          3.2,
          3.25,
          3.3,
          3.345,
          3.4294117647058826,
          3.477272727272727,
          3.4777777777777774,
          3.779310344827586,
          3.8025925925925925,
          4.071296296296296,
          4.29925925925926,
          4.41,
          4.783333333333333,
          5.205925925925926,
          5.233333333333333,
          5.34,
          5.976666666666667,
          5.9875,
          6.707692307692308,
          6.72962962962963,
          7.086666666666667,
          8.757142857142858,
          8.86111111111111,
          9.22608695652174,
          9.242592592592592,
          9.261538461538462,
          9.486206896551725,
          9.623076923076923,
          9.916666666666666,
          10.46923076923077,
          10.585999999999999,
          10.5875,
          10.619444444444445,
          11.492857142857144,
          11.557692307692308,
          11.835999999999999,
          13.058333333333335,
          13.118181818181819,
          13.782692307692308,
          13.95,
          14.134615384615385,
          15.101923076923075,
          16.26851851851852,
          16.36,
          17.05,
          17.500000000000004,
          19.288095238095238,
          19.736,
          19.977037037037036,
          21.1,
          22.625,
          22.69074074074074,
          23.21607142857143,
          23.285714285714285,
          23.567460317460316,
          24.5,
          24.849999999999998,
          24.98076923076923,
          25.18148148148148,
          25.210185185185182,
          26.87148148148148,
          27.334615384615383,
          31,
          32.175000000000004,
          32.548,
          35.99285714285715,
          36.65,
          37.66346153846154,
          38.33461538461538,
          38.888888888888886,
          39.18260869565217,
          40.82142857142857,
          43.25961538461539,
          43.64375,
          45.79761904761905,
          46.25,
          47.01428571428571,
          47.19,
          47.35,
          48.90185185185185,
          49.675,
          49.8,
          50.07692307692308,
          51.033928571428575,
          52.621428571428574,
          52.87407407407407,
          53.575,
          56.228571428571435,
          56.39117647058824,
          58.10192307692307,
          59.32142857142857,
          59.64666666666666,
          63.95,
          64.93765432098765,
          66.6875,
          68.6,
          68.96346153846153,
          71.5875,
          72.3625,
          73.03,
          78.76333333333334,
          85.75
         ],
         "xaxis": "x",
         "y": [
          27.55477921021767,
          26.593802374242173,
          24.630231236459643,
          23.32854082901455,
          23.093971006134115,
          22.930969937432405,
          22.44084191593859,
          22.04218816705675,
          21.6311902143921,
          19.875361272268094,
          19.616340728660788,
          19.545557388810614,
          19.130896620578426,
          19.074755233748814,
          19.074755233748814,
          19.043089781811265,
          18.936419050173413,
          18.936419050173413,
          18.858226146716472,
          18.84974385592272,
          18.825726891656874,
          18.676452924250107,
          18.38981302488996,
          18.37032445990591,
          18.327777190726266,
          18.038727599608176,
          17.99414548919126,
          17.614391976005706,
          17.60107568455136,
          17.39314795921356,
          17.301752030594514,
          16.8561508528743,
          16.783085599091155,
          16.749604831226463,
          16.712409000513293,
          16.666833173468277,
          16.63216930684327,
          16.588365823178123,
          16.55774796929895,
          16.542760318192425,
          16.45699262691937,
          16.327362992791734,
          16.18516315115179,
          15.936512217932647,
          15.913274296697619,
          15.831573410208357,
          15.808588010666606,
          15.772440762255648,
          15.720031829456923,
          15.693322054279987,
          15.61010888412975,
          15.574899294192617,
          15.568469494661109,
          14.902565157223751,
          14.865035067496587,
          14.81189794184687,
          14.663688340520167,
          14.65063119996598,
          14.612853747524856,
          14.470624522097797,
          14.446974403747458,
          14.423723142309681,
          14.403127587815176,
          14.365307541899703,
          14.34431821974447,
          14.344098437148753,
          14.218820688517553,
          14.209610826340507,
          14.107621629954,
          14.026766813748205,
          13.989182477019718,
          13.86976253234294,
          13.746434709393782,
          13.738821789689698,
          13.709607114856265,
          13.547656814400133,
          13.545068692889885,
          13.383729564817015,
          13.37912004360765,
          13.30635139128263,
          13.01251935935138,
          12.996326775631,
          12.941102471316313,
          12.938662363279459,
          12.935867435143269,
          12.903197928934906,
          12.883711925138673,
          12.842927945271903,
          12.769668463545345,
          12.754734310362311,
          12.75454365502453,
          12.7504904770793,
          12.644611143889241,
          12.637108932719961,
          12.6054255274451,
          12.475399987816093,
          12.469383071008668,
          12.404546592104973,
          12.388766270760625,
          12.371594512763982,
          12.28549721635023,
          12.189430852675226,
          12.182221867436832,
          12.129243689087396,
          12.095954112123312,
          11.97243869419317,
          11.943477869678398,
          11.928191971995785,
          11.85956748988499,
          11.772577438437885,
          11.7689743651642,
          11.740590523845086,
          11.736881063009058,
          11.721998305004092,
          11.674105995609906,
          11.656649017095285,
          11.650196269867559,
          11.64036450915931,
          11.638965559984811,
          11.560866648224724,
          11.540043318726752,
          11.387856920377631,
          11.34324869974317,
          11.329463577555764,
          11.209851069730703,
          11.188474090721652,
          11.156323051206122,
          11.135553387316042,
          11.11870155056663,
          11.109878745746318,
          11.061956932227218,
          10.994461173415035,
          10.984211658620954,
          10.928529917451154,
          10.917202940322976,
          10.89834178701751,
          10.894053399033968,
          10.89016385269175,
          10.853176194541547,
          10.835229832990764,
          10.832357339589077,
          10.826021951183096,
          10.80442228086368,
          10.769561420225378,
          10.764120793347528,
          10.749175804218076,
          10.6944931944928,
          10.691235607616342,
          10.65757946731132,
          10.634249727259617,
          10.628117252403396,
          10.550292561666636,
          10.533247531089742,
          10.503740744262831,
          10.472454653640574,
          10.466617972025924,
          10.425463201877193,
          10.413626652176411,
          10.403543735550462,
          10.320921986387244,
          10.228795319126002
         ],
         "yaxis": "y"
        }
       ],
       "layout": {
        "height": 600,
        "legend": {
         "tracegroupgap": 0
        },
        "template": {
         "data": {
          "bar": [
           {
            "error_x": {
             "color": "#2a3f5f"
            },
            "error_y": {
             "color": "#2a3f5f"
            },
            "marker": {
             "line": {
              "color": "#E5ECF6",
              "width": 0.5
             },
             "pattern": {
              "fillmode": "overlay",
              "size": 10,
              "solidity": 0.2
             }
            },
            "type": "bar"
           }
          ],
          "barpolar": [
           {
            "marker": {
             "line": {
              "color": "#E5ECF6",
              "width": 0.5
             },
             "pattern": {
              "fillmode": "overlay",
              "size": 10,
              "solidity": 0.2
             }
            },
            "type": "barpolar"
           }
          ],
          "carpet": [
           {
            "aaxis": {
             "endlinecolor": "#2a3f5f",
             "gridcolor": "white",
             "linecolor": "white",
             "minorgridcolor": "white",
             "startlinecolor": "#2a3f5f"
            },
            "baxis": {
             "endlinecolor": "#2a3f5f",
             "gridcolor": "white",
             "linecolor": "white",
             "minorgridcolor": "white",
             "startlinecolor": "#2a3f5f"
            },
            "type": "carpet"
           }
          ],
          "choropleth": [
           {
            "colorbar": {
             "outlinewidth": 0,
             "ticks": ""
            },
            "type": "choropleth"
           }
          ],
          "contour": [
           {
            "colorbar": {
             "outlinewidth": 0,
             "ticks": ""
            },
            "colorscale": [
             [
              0,
              "#0d0887"
             ],
             [
              0.1111111111111111,
              "#46039f"
             ],
             [
              0.2222222222222222,
              "#7201a8"
             ],
             [
              0.3333333333333333,
              "#9c179e"
             ],
             [
              0.4444444444444444,
              "#bd3786"
             ],
             [
              0.5555555555555556,
              "#d8576b"
             ],
             [
              0.6666666666666666,
              "#ed7953"
             ],
             [
              0.7777777777777778,
              "#fb9f3a"
             ],
             [
              0.8888888888888888,
              "#fdca26"
             ],
             [
              1,
              "#f0f921"
             ]
            ],
            "type": "contour"
           }
          ],
          "contourcarpet": [
           {
            "colorbar": {
             "outlinewidth": 0,
             "ticks": ""
            },
            "type": "contourcarpet"
           }
          ],
          "heatmap": [
           {
            "colorbar": {
             "outlinewidth": 0,
             "ticks": ""
            },
            "colorscale": [
             [
              0,
              "#0d0887"
             ],
             [
              0.1111111111111111,
              "#46039f"
             ],
             [
              0.2222222222222222,
              "#7201a8"
             ],
             [
              0.3333333333333333,
              "#9c179e"
             ],
             [
              0.4444444444444444,
              "#bd3786"
             ],
             [
              0.5555555555555556,
              "#d8576b"
             ],
             [
              0.6666666666666666,
              "#ed7953"
             ],
             [
              0.7777777777777778,
              "#fb9f3a"
             ],
             [
              0.8888888888888888,
              "#fdca26"
             ],
             [
              1,
              "#f0f921"
             ]
            ],
            "type": "heatmap"
           }
          ],
          "heatmapgl": [
           {
            "colorbar": {
             "outlinewidth": 0,
             "ticks": ""
            },
            "colorscale": [
             [
              0,
              "#0d0887"
             ],
             [
              0.1111111111111111,
              "#46039f"
             ],
             [
              0.2222222222222222,
              "#7201a8"
             ],
             [
              0.3333333333333333,
              "#9c179e"
             ],
             [
              0.4444444444444444,
              "#bd3786"
             ],
             [
              0.5555555555555556,
              "#d8576b"
             ],
             [
              0.6666666666666666,
              "#ed7953"
             ],
             [
              0.7777777777777778,
              "#fb9f3a"
             ],
             [
              0.8888888888888888,
              "#fdca26"
             ],
             [
              1,
              "#f0f921"
             ]
            ],
            "type": "heatmapgl"
           }
          ],
          "histogram": [
           {
            "marker": {
             "pattern": {
              "fillmode": "overlay",
              "size": 10,
              "solidity": 0.2
             }
            },
            "type": "histogram"
           }
          ],
          "histogram2d": [
           {
            "colorbar": {
             "outlinewidth": 0,
             "ticks": ""
            },
            "colorscale": [
             [
              0,
              "#0d0887"
             ],
             [
              0.1111111111111111,
              "#46039f"
             ],
             [
              0.2222222222222222,
              "#7201a8"
             ],
             [
              0.3333333333333333,
              "#9c179e"
             ],
             [
              0.4444444444444444,
              "#bd3786"
             ],
             [
              0.5555555555555556,
              "#d8576b"
             ],
             [
              0.6666666666666666,
              "#ed7953"
             ],
             [
              0.7777777777777778,
              "#fb9f3a"
             ],
             [
              0.8888888888888888,
              "#fdca26"
             ],
             [
              1,
              "#f0f921"
             ]
            ],
            "type": "histogram2d"
           }
          ],
          "histogram2dcontour": [
           {
            "colorbar": {
             "outlinewidth": 0,
             "ticks": ""
            },
            "colorscale": [
             [
              0,
              "#0d0887"
             ],
             [
              0.1111111111111111,
              "#46039f"
             ],
             [
              0.2222222222222222,
              "#7201a8"
             ],
             [
              0.3333333333333333,
              "#9c179e"
             ],
             [
              0.4444444444444444,
              "#bd3786"
             ],
             [
              0.5555555555555556,
              "#d8576b"
             ],
             [
              0.6666666666666666,
              "#ed7953"
             ],
             [
              0.7777777777777778,
              "#fb9f3a"
             ],
             [
              0.8888888888888888,
              "#fdca26"
             ],
             [
              1,
              "#f0f921"
             ]
            ],
            "type": "histogram2dcontour"
           }
          ],
          "mesh3d": [
           {
            "colorbar": {
             "outlinewidth": 0,
             "ticks": ""
            },
            "type": "mesh3d"
           }
          ],
          "parcoords": [
           {
            "line": {
             "colorbar": {
              "outlinewidth": 0,
              "ticks": ""
             }
            },
            "type": "parcoords"
           }
          ],
          "pie": [
           {
            "automargin": true,
            "type": "pie"
           }
          ],
          "scatter": [
           {
            "fillpattern": {
             "fillmode": "overlay",
             "size": 10,
             "solidity": 0.2
            },
            "type": "scatter"
           }
          ],
          "scatter3d": [
           {
            "line": {
             "colorbar": {
              "outlinewidth": 0,
              "ticks": ""
             }
            },
            "marker": {
             "colorbar": {
              "outlinewidth": 0,
              "ticks": ""
             }
            },
            "type": "scatter3d"
           }
          ],
          "scattercarpet": [
           {
            "marker": {
             "colorbar": {
              "outlinewidth": 0,
              "ticks": ""
             }
            },
            "type": "scattercarpet"
           }
          ],
          "scattergeo": [
           {
            "marker": {
             "colorbar": {
              "outlinewidth": 0,
              "ticks": ""
             }
            },
            "type": "scattergeo"
           }
          ],
          "scattergl": [
           {
            "marker": {
             "colorbar": {
              "outlinewidth": 0,
              "ticks": ""
             }
            },
            "type": "scattergl"
           }
          ],
          "scattermapbox": [
           {
            "marker": {
             "colorbar": {
              "outlinewidth": 0,
              "ticks": ""
             }
            },
            "type": "scattermapbox"
           }
          ],
          "scatterpolar": [
           {
            "marker": {
             "colorbar": {
              "outlinewidth": 0,
              "ticks": ""
             }
            },
            "type": "scatterpolar"
           }
          ],
          "scatterpolargl": [
           {
            "marker": {
             "colorbar": {
              "outlinewidth": 0,
              "ticks": ""
             }
            },
            "type": "scatterpolargl"
           }
          ],
          "scatterternary": [
           {
            "marker": {
             "colorbar": {
              "outlinewidth": 0,
              "ticks": ""
             }
            },
            "type": "scatterternary"
           }
          ],
          "surface": [
           {
            "colorbar": {
             "outlinewidth": 0,
             "ticks": ""
            },
            "colorscale": [
             [
              0,
              "#0d0887"
             ],
             [
              0.1111111111111111,
              "#46039f"
             ],
             [
              0.2222222222222222,
              "#7201a8"
             ],
             [
              0.3333333333333333,
              "#9c179e"
             ],
             [
              0.4444444444444444,
              "#bd3786"
             ],
             [
              0.5555555555555556,
              "#d8576b"
             ],
             [
              0.6666666666666666,
              "#ed7953"
             ],
             [
              0.7777777777777778,
              "#fb9f3a"
             ],
             [
              0.8888888888888888,
              "#fdca26"
             ],
             [
              1,
              "#f0f921"
             ]
            ],
            "type": "surface"
           }
          ],
          "table": [
           {
            "cells": {
             "fill": {
              "color": "#EBF0F8"
             },
             "line": {
              "color": "white"
             }
            },
            "header": {
             "fill": {
              "color": "#C8D4E3"
             },
             "line": {
              "color": "white"
             }
            },
            "type": "table"
           }
          ]
         },
         "layout": {
          "annotationdefaults": {
           "arrowcolor": "#2a3f5f",
           "arrowhead": 0,
           "arrowwidth": 1
          },
          "autotypenumbers": "strict",
          "coloraxis": {
           "colorbar": {
            "outlinewidth": 0,
            "ticks": ""
           }
          },
          "colorscale": {
           "diverging": [
            [
             0,
             "#8e0152"
            ],
            [
             0.1,
             "#c51b7d"
            ],
            [
             0.2,
             "#de77ae"
            ],
            [
             0.3,
             "#f1b6da"
            ],
            [
             0.4,
             "#fde0ef"
            ],
            [
             0.5,
             "#f7f7f7"
            ],
            [
             0.6,
             "#e6f5d0"
            ],
            [
             0.7,
             "#b8e186"
            ],
            [
             0.8,
             "#7fbc41"
            ],
            [
             0.9,
             "#4d9221"
            ],
            [
             1,
             "#276419"
            ]
           ],
           "sequential": [
            [
             0,
             "#0d0887"
            ],
            [
             0.1111111111111111,
             "#46039f"
            ],
            [
             0.2222222222222222,
             "#7201a8"
            ],
            [
             0.3333333333333333,
             "#9c179e"
            ],
            [
             0.4444444444444444,
             "#bd3786"
            ],
            [
             0.5555555555555556,
             "#d8576b"
            ],
            [
             0.6666666666666666,
             "#ed7953"
            ],
            [
             0.7777777777777778,
             "#fb9f3a"
            ],
            [
             0.8888888888888888,
             "#fdca26"
            ],
            [
             1,
             "#f0f921"
            ]
           ],
           "sequentialminus": [
            [
             0,
             "#0d0887"
            ],
            [
             0.1111111111111111,
             "#46039f"
            ],
            [
             0.2222222222222222,
             "#7201a8"
            ],
            [
             0.3333333333333333,
             "#9c179e"
            ],
            [
             0.4444444444444444,
             "#bd3786"
            ],
            [
             0.5555555555555556,
             "#d8576b"
            ],
            [
             0.6666666666666666,
             "#ed7953"
            ],
            [
             0.7777777777777778,
             "#fb9f3a"
            ],
            [
             0.8888888888888888,
             "#fdca26"
            ],
            [
             1,
             "#f0f921"
            ]
           ]
          },
          "colorway": [
           "#636efa",
           "#EF553B",
           "#00cc96",
           "#ab63fa",
           "#FFA15A",
           "#19d3f3",
           "#FF6692",
           "#B6E880",
           "#FF97FF",
           "#FECB52"
          ],
          "font": {
           "color": "#2a3f5f"
          },
          "geo": {
           "bgcolor": "white",
           "lakecolor": "white",
           "landcolor": "#E5ECF6",
           "showlakes": true,
           "showland": true,
           "subunitcolor": "white"
          },
          "hoverlabel": {
           "align": "left"
          },
          "hovermode": "closest",
          "mapbox": {
           "style": "light"
          },
          "paper_bgcolor": "white",
          "plot_bgcolor": "#E5ECF6",
          "polar": {
           "angularaxis": {
            "gridcolor": "white",
            "linecolor": "white",
            "ticks": ""
           },
           "bgcolor": "#E5ECF6",
           "radialaxis": {
            "gridcolor": "white",
            "linecolor": "white",
            "ticks": ""
           }
          },
          "scene": {
           "xaxis": {
            "backgroundcolor": "#E5ECF6",
            "gridcolor": "white",
            "gridwidth": 2,
            "linecolor": "white",
            "showbackground": true,
            "ticks": "",
            "zerolinecolor": "white"
           },
           "yaxis": {
            "backgroundcolor": "#E5ECF6",
            "gridcolor": "white",
            "gridwidth": 2,
            "linecolor": "white",
            "showbackground": true,
            "ticks": "",
            "zerolinecolor": "white"
           },
           "zaxis": {
            "backgroundcolor": "#E5ECF6",
            "gridcolor": "white",
            "gridwidth": 2,
            "linecolor": "white",
            "showbackground": true,
            "ticks": "",
            "zerolinecolor": "white"
           }
          },
          "shapedefaults": {
           "line": {
            "color": "#2a3f5f"
           }
          },
          "ternary": {
           "aaxis": {
            "gridcolor": "white",
            "linecolor": "white",
            "ticks": ""
           },
           "baxis": {
            "gridcolor": "white",
            "linecolor": "white",
            "ticks": ""
           },
           "bgcolor": "#E5ECF6",
           "caxis": {
            "gridcolor": "white",
            "linecolor": "white",
            "ticks": ""
           }
          },
          "title": {
           "x": 0.05
          },
          "xaxis": {
           "automargin": true,
           "gridcolor": "white",
           "linecolor": "white",
           "ticks": "",
           "title": {
            "standoff": 15
           },
           "zerolinecolor": "white",
           "zerolinewidth": 2
          },
          "yaxis": {
           "automargin": true,
           "gridcolor": "white",
           "linecolor": "white",
           "ticks": "",
           "title": {
            "standoff": 15
           },
           "zerolinecolor": "white",
           "zerolinewidth": 2
          }
         }
        },
        "title": {
         "text": "Correlation between Proportion of population below international poverty line (%)PERCENTALLAGEALLAREABOTHSEX<br>and Total including LUCF<br>Pearson's r: -0.059453565216879806, P-value: 0.44811558145438113, n=161<br>"
        },
        "width": 800,
        "xaxis": {
         "anchor": "y",
         "domain": [
          0,
          1
         ],
         "title": {
          "text": "Proportion of population below international poverty line (%)PERCENTALLAGEALLAREABOTHSEX (Log Scaled)"
         },
         "type": "log"
        },
        "yaxis": {
         "anchor": "x",
         "domain": [
          0,
          1
         ],
         "title": {
          "text": "Total including LUCF (Log Scaled)"
         },
         "type": "log"
        }
       }
      }
     },
     "metadata": {},
     "output_type": "display_data"
    }
   ],
   "source": [
    "years = 30\n",
    "x = \"Proportion of population below international poverty line (%)PERCENTALLAGEALLAREABOTHSEX\"\n",
    "y = \"Total including LUCF\"\n",
    "\n",
    "df_xy, p_corr, p_pval, s_corr, s_pval = build_correlation_df(find_corr_df, years, x, y)\n",
    "build_correlation_plot(df_xy, x, y, p_corr, p_pval, log_scale=True).show()\n"
   ]
  },
  {
   "cell_type": "markdown",
   "metadata": {},
   "source": [
    "This multidimensional poverty indicator shows a promising negative correlation, but the low sample size (20) and scatterplot prove that there really isn't much to go on here other than pointing out Mexico as an outlier in this set.\n"
   ]
  },
  {
   "cell_type": "code",
   "execution_count": 14,
   "metadata": {},
   "outputs": [
    {
     "data": {
      "application/vnd.plotly.v1+json": {
       "config": {
        "plotlyServerURL": "https://plot.ly"
       },
       "data": [
        {
         "customdata": [
          [
           "Afghanistan"
          ],
          [
           "Angola"
          ],
          [
           "Colombia"
          ],
          [
           "Costa Rica"
          ],
          [
           "Dominican Republic"
          ],
          [
           "Ecuador"
          ],
          [
           "El Salvador"
          ],
          [
           "Ghana"
          ],
          [
           "Guatemala"
          ],
          [
           "Maldives"
          ],
          [
           "Mali"
          ],
          [
           "Mexico"
          ],
          [
           "Mozambique"
          ],
          [
           "Namibia"
          ],
          [
           "Nepal"
          ],
          [
           "Pakistan"
          ],
          [
           "Paraguay"
          ],
          [
           "Rwanda"
          ],
          [
           "Sri Lanka"
          ],
          [
           "Thailand"
          ]
         ],
         "hovertemplate": "Average proportion of deprivations for people multidimensionally poor (%)PERCENTALLAGEURBANBOTHSEX (Log Scaled)=%{x}<br>Total including LUCF (Log Scaled)=%{y}<br>country=%{customdata[0]}<extra></extra>",
         "legendgroup": "",
         "marker": {
          "color": "#00274C",
          "symbol": "circle"
         },
         "mode": "markers",
         "name": "",
         "orientation": "v",
         "showlegend": false,
         "type": "scatter",
         "x": [
          48.5,
          43.4,
          41.40714285714286,
          26.728571428571428,
          38.06428571428571,
          44.93571428571429,
          41.97,
          46.3,
          44,
          48.7,
          41,
          2.1464285714285714,
          55,
          39.6,
          42.6,
          42.81153846153847,
          37.9875,
          52.24285714285714,
          38.125,
          37.8
         ],
         "xaxis": "x",
         "y": [
          7.245799999999999,
          41.958733333333335,
          93.15006666666667,
          4.286733333333333,
          10.0552,
          35.19186666666666,
          4.8262,
          16.867533333333334,
          13.753266666666665,
          0.3900666666666667,
          10.697866666666668,
          223.9236666666667,
          36.22,
          8.617702702702703,
          11.7174,
          115.60839999999999,
          35.599666666666664,
          2.3324000000000003,
          11.611066666666668,
          119.01740000000001
         ],
         "yaxis": "y"
        },
        {
         "hovertemplate": "<b>OLS trendline</b><br>log10(y) = -0.914843 * log10(x) + 2.64499<br>R<sup>2</sup>=0.171968<br><br>Average proportion of deprivations for people multidimensionally poor (%)PERCENTALLAGEURBANBOTHSEX (Log Scaled)=%{x}<br>Total including LUCF (Log Scaled)=%{y} <b>(trend)</b><extra></extra>",
         "legendgroup": "",
         "line": {
          "color": "#FFCB05"
         },
         "marker": {
          "color": "#00274C",
          "symbol": "circle"
         },
         "mode": "lines",
         "name": "",
         "showlegend": false,
         "type": "scatter",
         "x": [
          2.1464285714285714,
          26.728571428571428,
          37.8,
          37.9875,
          38.06428571428571,
          38.125,
          39.6,
          41,
          41.40714285714286,
          41.97,
          42.6,
          42.81153846153847,
          43.4,
          44,
          44.93571428571429,
          46.3,
          48.5,
          48.7,
          52.24285714285714,
          55
         ],
         "xaxis": "x",
         "y": [
          219.5425287192325,
          21.853886203510008,
          15.915862007977026,
          15.843978613344612,
          15.814736365869948,
          15.791694434075643,
          15.252718136905896,
          14.775544165828489,
          14.642577156011644,
          14.462825751336306,
          14.267029042115167,
          14.202523058075473,
          14.026247467159482,
          13.851166137082705,
          13.587063829515378,
          13.220333512652395,
          12.670638444087336,
          12.623025831901112,
          11.837572056406264,
          11.29350946477952
         ],
         "yaxis": "y"
        }
       ],
       "layout": {
        "height": 600,
        "legend": {
         "tracegroupgap": 0
        },
        "template": {
         "data": {
          "bar": [
           {
            "error_x": {
             "color": "#2a3f5f"
            },
            "error_y": {
             "color": "#2a3f5f"
            },
            "marker": {
             "line": {
              "color": "#E5ECF6",
              "width": 0.5
             },
             "pattern": {
              "fillmode": "overlay",
              "size": 10,
              "solidity": 0.2
             }
            },
            "type": "bar"
           }
          ],
          "barpolar": [
           {
            "marker": {
             "line": {
              "color": "#E5ECF6",
              "width": 0.5
             },
             "pattern": {
              "fillmode": "overlay",
              "size": 10,
              "solidity": 0.2
             }
            },
            "type": "barpolar"
           }
          ],
          "carpet": [
           {
            "aaxis": {
             "endlinecolor": "#2a3f5f",
             "gridcolor": "white",
             "linecolor": "white",
             "minorgridcolor": "white",
             "startlinecolor": "#2a3f5f"
            },
            "baxis": {
             "endlinecolor": "#2a3f5f",
             "gridcolor": "white",
             "linecolor": "white",
             "minorgridcolor": "white",
             "startlinecolor": "#2a3f5f"
            },
            "type": "carpet"
           }
          ],
          "choropleth": [
           {
            "colorbar": {
             "outlinewidth": 0,
             "ticks": ""
            },
            "type": "choropleth"
           }
          ],
          "contour": [
           {
            "colorbar": {
             "outlinewidth": 0,
             "ticks": ""
            },
            "colorscale": [
             [
              0,
              "#0d0887"
             ],
             [
              0.1111111111111111,
              "#46039f"
             ],
             [
              0.2222222222222222,
              "#7201a8"
             ],
             [
              0.3333333333333333,
              "#9c179e"
             ],
             [
              0.4444444444444444,
              "#bd3786"
             ],
             [
              0.5555555555555556,
              "#d8576b"
             ],
             [
              0.6666666666666666,
              "#ed7953"
             ],
             [
              0.7777777777777778,
              "#fb9f3a"
             ],
             [
              0.8888888888888888,
              "#fdca26"
             ],
             [
              1,
              "#f0f921"
             ]
            ],
            "type": "contour"
           }
          ],
          "contourcarpet": [
           {
            "colorbar": {
             "outlinewidth": 0,
             "ticks": ""
            },
            "type": "contourcarpet"
           }
          ],
          "heatmap": [
           {
            "colorbar": {
             "outlinewidth": 0,
             "ticks": ""
            },
            "colorscale": [
             [
              0,
              "#0d0887"
             ],
             [
              0.1111111111111111,
              "#46039f"
             ],
             [
              0.2222222222222222,
              "#7201a8"
             ],
             [
              0.3333333333333333,
              "#9c179e"
             ],
             [
              0.4444444444444444,
              "#bd3786"
             ],
             [
              0.5555555555555556,
              "#d8576b"
             ],
             [
              0.6666666666666666,
              "#ed7953"
             ],
             [
              0.7777777777777778,
              "#fb9f3a"
             ],
             [
              0.8888888888888888,
              "#fdca26"
             ],
             [
              1,
              "#f0f921"
             ]
            ],
            "type": "heatmap"
           }
          ],
          "heatmapgl": [
           {
            "colorbar": {
             "outlinewidth": 0,
             "ticks": ""
            },
            "colorscale": [
             [
              0,
              "#0d0887"
             ],
             [
              0.1111111111111111,
              "#46039f"
             ],
             [
              0.2222222222222222,
              "#7201a8"
             ],
             [
              0.3333333333333333,
              "#9c179e"
             ],
             [
              0.4444444444444444,
              "#bd3786"
             ],
             [
              0.5555555555555556,
              "#d8576b"
             ],
             [
              0.6666666666666666,
              "#ed7953"
             ],
             [
              0.7777777777777778,
              "#fb9f3a"
             ],
             [
              0.8888888888888888,
              "#fdca26"
             ],
             [
              1,
              "#f0f921"
             ]
            ],
            "type": "heatmapgl"
           }
          ],
          "histogram": [
           {
            "marker": {
             "pattern": {
              "fillmode": "overlay",
              "size": 10,
              "solidity": 0.2
             }
            },
            "type": "histogram"
           }
          ],
          "histogram2d": [
           {
            "colorbar": {
             "outlinewidth": 0,
             "ticks": ""
            },
            "colorscale": [
             [
              0,
              "#0d0887"
             ],
             [
              0.1111111111111111,
              "#46039f"
             ],
             [
              0.2222222222222222,
              "#7201a8"
             ],
             [
              0.3333333333333333,
              "#9c179e"
             ],
             [
              0.4444444444444444,
              "#bd3786"
             ],
             [
              0.5555555555555556,
              "#d8576b"
             ],
             [
              0.6666666666666666,
              "#ed7953"
             ],
             [
              0.7777777777777778,
              "#fb9f3a"
             ],
             [
              0.8888888888888888,
              "#fdca26"
             ],
             [
              1,
              "#f0f921"
             ]
            ],
            "type": "histogram2d"
           }
          ],
          "histogram2dcontour": [
           {
            "colorbar": {
             "outlinewidth": 0,
             "ticks": ""
            },
            "colorscale": [
             [
              0,
              "#0d0887"
             ],
             [
              0.1111111111111111,
              "#46039f"
             ],
             [
              0.2222222222222222,
              "#7201a8"
             ],
             [
              0.3333333333333333,
              "#9c179e"
             ],
             [
              0.4444444444444444,
              "#bd3786"
             ],
             [
              0.5555555555555556,
              "#d8576b"
             ],
             [
              0.6666666666666666,
              "#ed7953"
             ],
             [
              0.7777777777777778,
              "#fb9f3a"
             ],
             [
              0.8888888888888888,
              "#fdca26"
             ],
             [
              1,
              "#f0f921"
             ]
            ],
            "type": "histogram2dcontour"
           }
          ],
          "mesh3d": [
           {
            "colorbar": {
             "outlinewidth": 0,
             "ticks": ""
            },
            "type": "mesh3d"
           }
          ],
          "parcoords": [
           {
            "line": {
             "colorbar": {
              "outlinewidth": 0,
              "ticks": ""
             }
            },
            "type": "parcoords"
           }
          ],
          "pie": [
           {
            "automargin": true,
            "type": "pie"
           }
          ],
          "scatter": [
           {
            "fillpattern": {
             "fillmode": "overlay",
             "size": 10,
             "solidity": 0.2
            },
            "type": "scatter"
           }
          ],
          "scatter3d": [
           {
            "line": {
             "colorbar": {
              "outlinewidth": 0,
              "ticks": ""
             }
            },
            "marker": {
             "colorbar": {
              "outlinewidth": 0,
              "ticks": ""
             }
            },
            "type": "scatter3d"
           }
          ],
          "scattercarpet": [
           {
            "marker": {
             "colorbar": {
              "outlinewidth": 0,
              "ticks": ""
             }
            },
            "type": "scattercarpet"
           }
          ],
          "scattergeo": [
           {
            "marker": {
             "colorbar": {
              "outlinewidth": 0,
              "ticks": ""
             }
            },
            "type": "scattergeo"
           }
          ],
          "scattergl": [
           {
            "marker": {
             "colorbar": {
              "outlinewidth": 0,
              "ticks": ""
             }
            },
            "type": "scattergl"
           }
          ],
          "scattermapbox": [
           {
            "marker": {
             "colorbar": {
              "outlinewidth": 0,
              "ticks": ""
             }
            },
            "type": "scattermapbox"
           }
          ],
          "scatterpolar": [
           {
            "marker": {
             "colorbar": {
              "outlinewidth": 0,
              "ticks": ""
             }
            },
            "type": "scatterpolar"
           }
          ],
          "scatterpolargl": [
           {
            "marker": {
             "colorbar": {
              "outlinewidth": 0,
              "ticks": ""
             }
            },
            "type": "scatterpolargl"
           }
          ],
          "scatterternary": [
           {
            "marker": {
             "colorbar": {
              "outlinewidth": 0,
              "ticks": ""
             }
            },
            "type": "scatterternary"
           }
          ],
          "surface": [
           {
            "colorbar": {
             "outlinewidth": 0,
             "ticks": ""
            },
            "colorscale": [
             [
              0,
              "#0d0887"
             ],
             [
              0.1111111111111111,
              "#46039f"
             ],
             [
              0.2222222222222222,
              "#7201a8"
             ],
             [
              0.3333333333333333,
              "#9c179e"
             ],
             [
              0.4444444444444444,
              "#bd3786"
             ],
             [
              0.5555555555555556,
              "#d8576b"
             ],
             [
              0.6666666666666666,
              "#ed7953"
             ],
             [
              0.7777777777777778,
              "#fb9f3a"
             ],
             [
              0.8888888888888888,
              "#fdca26"
             ],
             [
              1,
              "#f0f921"
             ]
            ],
            "type": "surface"
           }
          ],
          "table": [
           {
            "cells": {
             "fill": {
              "color": "#EBF0F8"
             },
             "line": {
              "color": "white"
             }
            },
            "header": {
             "fill": {
              "color": "#C8D4E3"
             },
             "line": {
              "color": "white"
             }
            },
            "type": "table"
           }
          ]
         },
         "layout": {
          "annotationdefaults": {
           "arrowcolor": "#2a3f5f",
           "arrowhead": 0,
           "arrowwidth": 1
          },
          "autotypenumbers": "strict",
          "coloraxis": {
           "colorbar": {
            "outlinewidth": 0,
            "ticks": ""
           }
          },
          "colorscale": {
           "diverging": [
            [
             0,
             "#8e0152"
            ],
            [
             0.1,
             "#c51b7d"
            ],
            [
             0.2,
             "#de77ae"
            ],
            [
             0.3,
             "#f1b6da"
            ],
            [
             0.4,
             "#fde0ef"
            ],
            [
             0.5,
             "#f7f7f7"
            ],
            [
             0.6,
             "#e6f5d0"
            ],
            [
             0.7,
             "#b8e186"
            ],
            [
             0.8,
             "#7fbc41"
            ],
            [
             0.9,
             "#4d9221"
            ],
            [
             1,
             "#276419"
            ]
           ],
           "sequential": [
            [
             0,
             "#0d0887"
            ],
            [
             0.1111111111111111,
             "#46039f"
            ],
            [
             0.2222222222222222,
             "#7201a8"
            ],
            [
             0.3333333333333333,
             "#9c179e"
            ],
            [
             0.4444444444444444,
             "#bd3786"
            ],
            [
             0.5555555555555556,
             "#d8576b"
            ],
            [
             0.6666666666666666,
             "#ed7953"
            ],
            [
             0.7777777777777778,
             "#fb9f3a"
            ],
            [
             0.8888888888888888,
             "#fdca26"
            ],
            [
             1,
             "#f0f921"
            ]
           ],
           "sequentialminus": [
            [
             0,
             "#0d0887"
            ],
            [
             0.1111111111111111,
             "#46039f"
            ],
            [
             0.2222222222222222,
             "#7201a8"
            ],
            [
             0.3333333333333333,
             "#9c179e"
            ],
            [
             0.4444444444444444,
             "#bd3786"
            ],
            [
             0.5555555555555556,
             "#d8576b"
            ],
            [
             0.6666666666666666,
             "#ed7953"
            ],
            [
             0.7777777777777778,
             "#fb9f3a"
            ],
            [
             0.8888888888888888,
             "#fdca26"
            ],
            [
             1,
             "#f0f921"
            ]
           ]
          },
          "colorway": [
           "#636efa",
           "#EF553B",
           "#00cc96",
           "#ab63fa",
           "#FFA15A",
           "#19d3f3",
           "#FF6692",
           "#B6E880",
           "#FF97FF",
           "#FECB52"
          ],
          "font": {
           "color": "#2a3f5f"
          },
          "geo": {
           "bgcolor": "white",
           "lakecolor": "white",
           "landcolor": "#E5ECF6",
           "showlakes": true,
           "showland": true,
           "subunitcolor": "white"
          },
          "hoverlabel": {
           "align": "left"
          },
          "hovermode": "closest",
          "mapbox": {
           "style": "light"
          },
          "paper_bgcolor": "white",
          "plot_bgcolor": "#E5ECF6",
          "polar": {
           "angularaxis": {
            "gridcolor": "white",
            "linecolor": "white",
            "ticks": ""
           },
           "bgcolor": "#E5ECF6",
           "radialaxis": {
            "gridcolor": "white",
            "linecolor": "white",
            "ticks": ""
           }
          },
          "scene": {
           "xaxis": {
            "backgroundcolor": "#E5ECF6",
            "gridcolor": "white",
            "gridwidth": 2,
            "linecolor": "white",
            "showbackground": true,
            "ticks": "",
            "zerolinecolor": "white"
           },
           "yaxis": {
            "backgroundcolor": "#E5ECF6",
            "gridcolor": "white",
            "gridwidth": 2,
            "linecolor": "white",
            "showbackground": true,
            "ticks": "",
            "zerolinecolor": "white"
           },
           "zaxis": {
            "backgroundcolor": "#E5ECF6",
            "gridcolor": "white",
            "gridwidth": 2,
            "linecolor": "white",
            "showbackground": true,
            "ticks": "",
            "zerolinecolor": "white"
           }
          },
          "shapedefaults": {
           "line": {
            "color": "#2a3f5f"
           }
          },
          "ternary": {
           "aaxis": {
            "gridcolor": "white",
            "linecolor": "white",
            "ticks": ""
           },
           "baxis": {
            "gridcolor": "white",
            "linecolor": "white",
            "ticks": ""
           },
           "bgcolor": "#E5ECF6",
           "caxis": {
            "gridcolor": "white",
            "linecolor": "white",
            "ticks": ""
           }
          },
          "title": {
           "x": 0.05
          },
          "xaxis": {
           "automargin": true,
           "gridcolor": "white",
           "linecolor": "white",
           "ticks": "",
           "title": {
            "standoff": 15
           },
           "zerolinecolor": "white",
           "zerolinewidth": 2
          },
          "yaxis": {
           "automargin": true,
           "gridcolor": "white",
           "linecolor": "white",
           "ticks": "",
           "title": {
            "standoff": 15
           },
           "zerolinecolor": "white",
           "zerolinewidth": 2
          }
         }
        },
        "title": {
         "text": "Correlation between Average proportion of deprivations for people multidimensionally poor (%)PERCENTALLAGEURBANBOTHSEX<br>and Total including LUCF<br>Pearson's r: -0.6373067102715791, P-value: 0.001887384391728247, n=20<br>"
        },
        "width": 800,
        "xaxis": {
         "anchor": "y",
         "domain": [
          0,
          1
         ],
         "title": {
          "text": "Average proportion of deprivations for people multidimensionally poor (%)PERCENTALLAGEURBANBOTHSEX (Log Scaled)"
         },
         "type": "log"
        },
        "yaxis": {
         "anchor": "x",
         "domain": [
          0,
          1
         ],
         "title": {
          "text": "Total including LUCF (Log Scaled)"
         },
         "type": "log"
        }
       }
      }
     },
     "metadata": {},
     "output_type": "display_data"
    }
   ],
   "source": [
    "years = 30\n",
    "x = \"Average proportion of deprivations for people multidimensionally poor (%)PERCENTALLAGEURBANBOTHSEX\"\n",
    "y = \"Total including LUCF\"\n",
    "\n",
    "df_xy, p_corr, p_pval, s_corr, s_pval = build_correlation_df(find_corr_df, years, x, y)\n",
    "build_correlation_plot(df_xy, x, y, p_corr, p_pval, log_scale=True).show()\n"
   ]
  },
  {
   "cell_type": "code",
   "execution_count": 15,
   "metadata": {},
   "outputs": [
    {
     "data": {
      "application/vnd.plotly.v1+json": {
       "config": {
        "plotlyServerURL": "https://plot.ly"
       },
       "data": [
        {
         "customdata": [
          [
           "Afghanistan"
          ],
          [
           "Albania"
          ],
          [
           "Angola"
          ],
          [
           "Armenia"
          ],
          [
           "Austria"
          ],
          [
           "Belgium"
          ],
          [
           "Bulgaria"
          ],
          [
           "Burundi"
          ],
          [
           "Chile"
          ],
          [
           "Colombia"
          ],
          [
           "Costa Rica"
          ],
          [
           "Croatia"
          ],
          [
           "Cyprus"
          ],
          [
           "Czech Republic"
          ],
          [
           "Denmark"
          ],
          [
           "Dominican Republic"
          ],
          [
           "Ecuador"
          ],
          [
           "El Salvador"
          ],
          [
           "Estonia"
          ],
          [
           "Finland"
          ],
          [
           "France"
          ],
          [
           "Germany"
          ],
          [
           "Ghana"
          ],
          [
           "Greece"
          ],
          [
           "Guatemala"
          ],
          [
           "Guinea-Bissau"
          ],
          [
           "Honduras"
          ],
          [
           "Hungary"
          ],
          [
           "Iceland"
          ],
          [
           "Ireland"
          ],
          [
           "Italy"
          ],
          [
           "Latvia"
          ],
          [
           "Lithuania"
          ],
          [
           "Luxembourg"
          ],
          [
           "Macedonia"
          ],
          [
           "Maldives"
          ],
          [
           "Mali"
          ],
          [
           "Malta"
          ],
          [
           "Mexico"
          ],
          [
           "Montenegro"
          ],
          [
           "Morocco"
          ],
          [
           "Mozambique"
          ],
          [
           "Namibia"
          ],
          [
           "Nepal"
          ],
          [
           "Netherlands"
          ],
          [
           "Nigeria"
          ],
          [
           "Norway"
          ],
          [
           "Pakistan"
          ],
          [
           "Panama"
          ],
          [
           "Paraguay"
          ],
          [
           "Poland"
          ],
          [
           "Romania"
          ],
          [
           "Rwanda"
          ],
          [
           "Serbia"
          ],
          [
           "Seychelles"
          ],
          [
           "Slovakia"
          ],
          [
           "Slovenia"
          ],
          [
           "South Africa"
          ],
          [
           "Spain"
          ],
          [
           "Sri Lanka"
          ],
          [
           "Sweden"
          ],
          [
           "Thailand"
          ],
          [
           "Turkey"
          ]
         ],
         "hovertemplate": "Proportion of population living in multidimensional poverty (%)PERCENTALLAGEALLAREABOTHSEX (Log Scaled)=%{x}<br>Total including LUCF (Log Scaled)=%{y}<br>country=%{customdata[0]}<extra></extra>",
         "legendgroup": "",
         "marker": {
          "color": "#00274C",
          "symbol": "circle"
         },
         "mode": "markers",
         "name": "",
         "orientation": "v",
         "showlegend": false,
         "type": "scatter",
         "x": [
          51.7,
          50.6,
          54,
          33.107142857142854,
          18.5,
          20.764285714285712,
          44.17142857142857,
          64.8,
          22.207692307692305,
          24.432142857142857,
          27.07857142857143,
          29.38571428571429,
          25.564285714285713,
          14.021428571428572,
          17.742857142857144,
          29.571428571428573,
          40.41428571428571,
          38.655,
          23.228571428571428,
          16.72142857142857,
          18.514285714285712,
          19.55,
          46.971428571428575,
          31.692857142857143,
          61.599999999999994,
          61.449999999999996,
          74.2,
          28.55,
          12.757142857142856,
          26.32857142857143,
          27.164285714285715,
          34.17142857142857,
          31.235714285714288,
          18.642857142857142,
          45.24285714285714,
          28.4,
          39.8,
          21.52857142857143,
          44.864285714285714,
          35.46363636363636,
          9,
          53,
          43.3,
          31.323076923076922,
          15.85,
          53.7,
          14.921428571428573,
          41.603846153846156,
          19.1,
          32.3125,
          24.664285714285715,
          39.24285714285714,
          36.32857142857143,
          39.59090909090909,
          32,
          19.12857142857143,
          18.321428571428573,
          7.538461538461538,
          26.814285714285717,
          5.800000000000001,
          18.04285714285714,
          17.6,
          53.83571428571429
         ],
         "xaxis": "x",
         "y": [
          7.245799999999999,
          3.2143333333333333,
          41.958733333333335,
          3.6349333333333336,
          28.53213333333333,
          49.26806666666667,
          16.31373333333333,
          2.4052000000000002,
          15.641066666666665,
          93.15006666666667,
          4.286733333333333,
          9.597066666666667,
          3.1557333333333335,
          52.81046666666666,
          26.401,
          10.0552,
          35.19186666666666,
          4.8262,
          7.632066666666666,
          17.5994,
          172.53433333333334,
          361.99493333333334,
          16.867533333333334,
          41.99133333333333,
          13.753266666666665,
          1.4658,
          8.864466666666667,
          28.23793333333333,
          1.2808666666666666,
          25.123333333333335,
          179.56886666666668,
          1.2292,
          8.953999999999999,
          4.2192,
          4.766733333333334,
          0.3900666666666667,
          10.697866666666668,
          1.0726666666666667,
          223.9236666666667,
          0.9878666666666667,
          22.817733333333333,
          36.22,
          8.617702702702703,
          11.7174,
          80.48833333333333,
          120.70153333333333,
          11.804866666666667,
          115.60839999999999,
          7.197933333333333,
          35.599666666666664,
          135.27286666666666,
          31.07633333333333,
          2.3324000000000003,
          20.823866666666667,
          0.18760000000000002,
          15.449799999999998,
          4.098733333333334,
          183.66740000000001,
          126.69286666666667,
          11.611066666666668,
          21.5488,
          119.01740000000001,
          116.91853333333333
         ],
         "yaxis": "y"
        },
        {
         "hovertemplate": "<b>OLS trendline</b><br>log10(y) = -0.462802 * log10(x) + 1.85005<br>R<sup>2</sup>=0.021877<br><br>Proportion of population living in multidimensional poverty (%)PERCENTALLAGEALLAREABOTHSEX (Log Scaled)=%{x}<br>Total including LUCF (Log Scaled)=%{y} <b>(trend)</b><extra></extra>",
         "legendgroup": "",
         "line": {
          "color": "#FFCB05"
         },
         "marker": {
          "color": "#00274C",
          "symbol": "circle"
         },
         "mode": "lines",
         "name": "",
         "showlegend": false,
         "type": "scatter",
         "x": [
          5.800000000000001,
          7.538461538461538,
          9,
          12.757142857142856,
          14.021428571428572,
          14.921428571428573,
          15.85,
          16.72142857142857,
          17.6,
          17.742857142857144,
          18.04285714285714,
          18.321428571428573,
          18.5,
          18.514285714285712,
          18.642857142857142,
          19.1,
          19.12857142857143,
          19.55,
          20.764285714285712,
          21.52857142857143,
          22.207692307692305,
          23.228571428571428,
          24.432142857142857,
          24.664285714285715,
          25.564285714285713,
          26.32857142857143,
          26.814285714285717,
          27.07857142857143,
          27.164285714285715,
          28.4,
          28.55,
          29.38571428571429,
          29.571428571428573,
          31.235714285714288,
          31.323076923076922,
          31.692857142857143,
          32,
          32.3125,
          33.107142857142854,
          34.17142857142857,
          35.46363636363636,
          36.32857142857143,
          38.655,
          39.24285714285714,
          39.59090909090909,
          39.8,
          40.41428571428571,
          41.603846153846156,
          43.3,
          44.17142857142857,
          44.864285714285714,
          45.24285714285714,
          46.971428571428575,
          50.6,
          51.7,
          53,
          53.7,
          53.83571428571429,
          54,
          61.449999999999996,
          61.599999999999994,
          64.8,
          74.2
         ],
         "xaxis": "x",
         "y": [
          31.38615392795947,
          27.80007203454984,
          25.61113292713295,
          21.792610748322126,
          20.860101078353868,
          20.268068492819907,
          19.709618829945143,
          19.227410909803204,
          18.77709585770195,
          18.706975519566804,
          18.56237612342579,
          18.431219624663044,
          18.348669162604025,
          18.34211549084944,
          18.283463453855347,
          18.07962332786843,
          18.067120501109372,
          17.885821017683476,
          17.393911165930287,
          17.105354702148354,
          16.86124781936988,
          16.514150951295594,
          16.132542339835542,
          16.062091440936,
          15.797869709213712,
          15.583952327269104,
          15.452667366969562,
          15.382684905748006,
          15.360202091715356,
          15.047195887159273,
          15.010556356454943,
          14.811458220952565,
          14.768336087026157,
          14.398807945145936,
          14.380208129758117,
          14.30231312259042,
          14.238616627906948,
          14.174720485140245,
          14.01623645697178,
          13.812486138909685,
          13.577237949876181,
          13.426665906956002,
          13.046447405075437,
          12.955632749103543,
          12.902796590492056,
          12.871381011812135,
          12.780465271900812,
          12.610027135561015,
          12.378965883477283,
          12.265337065855258,
          12.177307286915797,
          12.130044062881652,
          11.921371749637228,
          11.517811865309838,
          11.40374241461201,
          11.27342630003013,
          11.205176260434534,
          11.192094589920275,
          11.176323278969548,
          10.527439504750186,
          10.515567810626324,
          10.27196967497253,
          9.64778474866365
         ],
         "yaxis": "y"
        }
       ],
       "layout": {
        "height": 600,
        "legend": {
         "tracegroupgap": 0
        },
        "template": {
         "data": {
          "bar": [
           {
            "error_x": {
             "color": "#2a3f5f"
            },
            "error_y": {
             "color": "#2a3f5f"
            },
            "marker": {
             "line": {
              "color": "#E5ECF6",
              "width": 0.5
             },
             "pattern": {
              "fillmode": "overlay",
              "size": 10,
              "solidity": 0.2
             }
            },
            "type": "bar"
           }
          ],
          "barpolar": [
           {
            "marker": {
             "line": {
              "color": "#E5ECF6",
              "width": 0.5
             },
             "pattern": {
              "fillmode": "overlay",
              "size": 10,
              "solidity": 0.2
             }
            },
            "type": "barpolar"
           }
          ],
          "carpet": [
           {
            "aaxis": {
             "endlinecolor": "#2a3f5f",
             "gridcolor": "white",
             "linecolor": "white",
             "minorgridcolor": "white",
             "startlinecolor": "#2a3f5f"
            },
            "baxis": {
             "endlinecolor": "#2a3f5f",
             "gridcolor": "white",
             "linecolor": "white",
             "minorgridcolor": "white",
             "startlinecolor": "#2a3f5f"
            },
            "type": "carpet"
           }
          ],
          "choropleth": [
           {
            "colorbar": {
             "outlinewidth": 0,
             "ticks": ""
            },
            "type": "choropleth"
           }
          ],
          "contour": [
           {
            "colorbar": {
             "outlinewidth": 0,
             "ticks": ""
            },
            "colorscale": [
             [
              0,
              "#0d0887"
             ],
             [
              0.1111111111111111,
              "#46039f"
             ],
             [
              0.2222222222222222,
              "#7201a8"
             ],
             [
              0.3333333333333333,
              "#9c179e"
             ],
             [
              0.4444444444444444,
              "#bd3786"
             ],
             [
              0.5555555555555556,
              "#d8576b"
             ],
             [
              0.6666666666666666,
              "#ed7953"
             ],
             [
              0.7777777777777778,
              "#fb9f3a"
             ],
             [
              0.8888888888888888,
              "#fdca26"
             ],
             [
              1,
              "#f0f921"
             ]
            ],
            "type": "contour"
           }
          ],
          "contourcarpet": [
           {
            "colorbar": {
             "outlinewidth": 0,
             "ticks": ""
            },
            "type": "contourcarpet"
           }
          ],
          "heatmap": [
           {
            "colorbar": {
             "outlinewidth": 0,
             "ticks": ""
            },
            "colorscale": [
             [
              0,
              "#0d0887"
             ],
             [
              0.1111111111111111,
              "#46039f"
             ],
             [
              0.2222222222222222,
              "#7201a8"
             ],
             [
              0.3333333333333333,
              "#9c179e"
             ],
             [
              0.4444444444444444,
              "#bd3786"
             ],
             [
              0.5555555555555556,
              "#d8576b"
             ],
             [
              0.6666666666666666,
              "#ed7953"
             ],
             [
              0.7777777777777778,
              "#fb9f3a"
             ],
             [
              0.8888888888888888,
              "#fdca26"
             ],
             [
              1,
              "#f0f921"
             ]
            ],
            "type": "heatmap"
           }
          ],
          "heatmapgl": [
           {
            "colorbar": {
             "outlinewidth": 0,
             "ticks": ""
            },
            "colorscale": [
             [
              0,
              "#0d0887"
             ],
             [
              0.1111111111111111,
              "#46039f"
             ],
             [
              0.2222222222222222,
              "#7201a8"
             ],
             [
              0.3333333333333333,
              "#9c179e"
             ],
             [
              0.4444444444444444,
              "#bd3786"
             ],
             [
              0.5555555555555556,
              "#d8576b"
             ],
             [
              0.6666666666666666,
              "#ed7953"
             ],
             [
              0.7777777777777778,
              "#fb9f3a"
             ],
             [
              0.8888888888888888,
              "#fdca26"
             ],
             [
              1,
              "#f0f921"
             ]
            ],
            "type": "heatmapgl"
           }
          ],
          "histogram": [
           {
            "marker": {
             "pattern": {
              "fillmode": "overlay",
              "size": 10,
              "solidity": 0.2
             }
            },
            "type": "histogram"
           }
          ],
          "histogram2d": [
           {
            "colorbar": {
             "outlinewidth": 0,
             "ticks": ""
            },
            "colorscale": [
             [
              0,
              "#0d0887"
             ],
             [
              0.1111111111111111,
              "#46039f"
             ],
             [
              0.2222222222222222,
              "#7201a8"
             ],
             [
              0.3333333333333333,
              "#9c179e"
             ],
             [
              0.4444444444444444,
              "#bd3786"
             ],
             [
              0.5555555555555556,
              "#d8576b"
             ],
             [
              0.6666666666666666,
              "#ed7953"
             ],
             [
              0.7777777777777778,
              "#fb9f3a"
             ],
             [
              0.8888888888888888,
              "#fdca26"
             ],
             [
              1,
              "#f0f921"
             ]
            ],
            "type": "histogram2d"
           }
          ],
          "histogram2dcontour": [
           {
            "colorbar": {
             "outlinewidth": 0,
             "ticks": ""
            },
            "colorscale": [
             [
              0,
              "#0d0887"
             ],
             [
              0.1111111111111111,
              "#46039f"
             ],
             [
              0.2222222222222222,
              "#7201a8"
             ],
             [
              0.3333333333333333,
              "#9c179e"
             ],
             [
              0.4444444444444444,
              "#bd3786"
             ],
             [
              0.5555555555555556,
              "#d8576b"
             ],
             [
              0.6666666666666666,
              "#ed7953"
             ],
             [
              0.7777777777777778,
              "#fb9f3a"
             ],
             [
              0.8888888888888888,
              "#fdca26"
             ],
             [
              1,
              "#f0f921"
             ]
            ],
            "type": "histogram2dcontour"
           }
          ],
          "mesh3d": [
           {
            "colorbar": {
             "outlinewidth": 0,
             "ticks": ""
            },
            "type": "mesh3d"
           }
          ],
          "parcoords": [
           {
            "line": {
             "colorbar": {
              "outlinewidth": 0,
              "ticks": ""
             }
            },
            "type": "parcoords"
           }
          ],
          "pie": [
           {
            "automargin": true,
            "type": "pie"
           }
          ],
          "scatter": [
           {
            "fillpattern": {
             "fillmode": "overlay",
             "size": 10,
             "solidity": 0.2
            },
            "type": "scatter"
           }
          ],
          "scatter3d": [
           {
            "line": {
             "colorbar": {
              "outlinewidth": 0,
              "ticks": ""
             }
            },
            "marker": {
             "colorbar": {
              "outlinewidth": 0,
              "ticks": ""
             }
            },
            "type": "scatter3d"
           }
          ],
          "scattercarpet": [
           {
            "marker": {
             "colorbar": {
              "outlinewidth": 0,
              "ticks": ""
             }
            },
            "type": "scattercarpet"
           }
          ],
          "scattergeo": [
           {
            "marker": {
             "colorbar": {
              "outlinewidth": 0,
              "ticks": ""
             }
            },
            "type": "scattergeo"
           }
          ],
          "scattergl": [
           {
            "marker": {
             "colorbar": {
              "outlinewidth": 0,
              "ticks": ""
             }
            },
            "type": "scattergl"
           }
          ],
          "scattermapbox": [
           {
            "marker": {
             "colorbar": {
              "outlinewidth": 0,
              "ticks": ""
             }
            },
            "type": "scattermapbox"
           }
          ],
          "scatterpolar": [
           {
            "marker": {
             "colorbar": {
              "outlinewidth": 0,
              "ticks": ""
             }
            },
            "type": "scatterpolar"
           }
          ],
          "scatterpolargl": [
           {
            "marker": {
             "colorbar": {
              "outlinewidth": 0,
              "ticks": ""
             }
            },
            "type": "scatterpolargl"
           }
          ],
          "scatterternary": [
           {
            "marker": {
             "colorbar": {
              "outlinewidth": 0,
              "ticks": ""
             }
            },
            "type": "scatterternary"
           }
          ],
          "surface": [
           {
            "colorbar": {
             "outlinewidth": 0,
             "ticks": ""
            },
            "colorscale": [
             [
              0,
              "#0d0887"
             ],
             [
              0.1111111111111111,
              "#46039f"
             ],
             [
              0.2222222222222222,
              "#7201a8"
             ],
             [
              0.3333333333333333,
              "#9c179e"
             ],
             [
              0.4444444444444444,
              "#bd3786"
             ],
             [
              0.5555555555555556,
              "#d8576b"
             ],
             [
              0.6666666666666666,
              "#ed7953"
             ],
             [
              0.7777777777777778,
              "#fb9f3a"
             ],
             [
              0.8888888888888888,
              "#fdca26"
             ],
             [
              1,
              "#f0f921"
             ]
            ],
            "type": "surface"
           }
          ],
          "table": [
           {
            "cells": {
             "fill": {
              "color": "#EBF0F8"
             },
             "line": {
              "color": "white"
             }
            },
            "header": {
             "fill": {
              "color": "#C8D4E3"
             },
             "line": {
              "color": "white"
             }
            },
            "type": "table"
           }
          ]
         },
         "layout": {
          "annotationdefaults": {
           "arrowcolor": "#2a3f5f",
           "arrowhead": 0,
           "arrowwidth": 1
          },
          "autotypenumbers": "strict",
          "coloraxis": {
           "colorbar": {
            "outlinewidth": 0,
            "ticks": ""
           }
          },
          "colorscale": {
           "diverging": [
            [
             0,
             "#8e0152"
            ],
            [
             0.1,
             "#c51b7d"
            ],
            [
             0.2,
             "#de77ae"
            ],
            [
             0.3,
             "#f1b6da"
            ],
            [
             0.4,
             "#fde0ef"
            ],
            [
             0.5,
             "#f7f7f7"
            ],
            [
             0.6,
             "#e6f5d0"
            ],
            [
             0.7,
             "#b8e186"
            ],
            [
             0.8,
             "#7fbc41"
            ],
            [
             0.9,
             "#4d9221"
            ],
            [
             1,
             "#276419"
            ]
           ],
           "sequential": [
            [
             0,
             "#0d0887"
            ],
            [
             0.1111111111111111,
             "#46039f"
            ],
            [
             0.2222222222222222,
             "#7201a8"
            ],
            [
             0.3333333333333333,
             "#9c179e"
            ],
            [
             0.4444444444444444,
             "#bd3786"
            ],
            [
             0.5555555555555556,
             "#d8576b"
            ],
            [
             0.6666666666666666,
             "#ed7953"
            ],
            [
             0.7777777777777778,
             "#fb9f3a"
            ],
            [
             0.8888888888888888,
             "#fdca26"
            ],
            [
             1,
             "#f0f921"
            ]
           ],
           "sequentialminus": [
            [
             0,
             "#0d0887"
            ],
            [
             0.1111111111111111,
             "#46039f"
            ],
            [
             0.2222222222222222,
             "#7201a8"
            ],
            [
             0.3333333333333333,
             "#9c179e"
            ],
            [
             0.4444444444444444,
             "#bd3786"
            ],
            [
             0.5555555555555556,
             "#d8576b"
            ],
            [
             0.6666666666666666,
             "#ed7953"
            ],
            [
             0.7777777777777778,
             "#fb9f3a"
            ],
            [
             0.8888888888888888,
             "#fdca26"
            ],
            [
             1,
             "#f0f921"
            ]
           ]
          },
          "colorway": [
           "#636efa",
           "#EF553B",
           "#00cc96",
           "#ab63fa",
           "#FFA15A",
           "#19d3f3",
           "#FF6692",
           "#B6E880",
           "#FF97FF",
           "#FECB52"
          ],
          "font": {
           "color": "#2a3f5f"
          },
          "geo": {
           "bgcolor": "white",
           "lakecolor": "white",
           "landcolor": "#E5ECF6",
           "showlakes": true,
           "showland": true,
           "subunitcolor": "white"
          },
          "hoverlabel": {
           "align": "left"
          },
          "hovermode": "closest",
          "mapbox": {
           "style": "light"
          },
          "paper_bgcolor": "white",
          "plot_bgcolor": "#E5ECF6",
          "polar": {
           "angularaxis": {
            "gridcolor": "white",
            "linecolor": "white",
            "ticks": ""
           },
           "bgcolor": "#E5ECF6",
           "radialaxis": {
            "gridcolor": "white",
            "linecolor": "white",
            "ticks": ""
           }
          },
          "scene": {
           "xaxis": {
            "backgroundcolor": "#E5ECF6",
            "gridcolor": "white",
            "gridwidth": 2,
            "linecolor": "white",
            "showbackground": true,
            "ticks": "",
            "zerolinecolor": "white"
           },
           "yaxis": {
            "backgroundcolor": "#E5ECF6",
            "gridcolor": "white",
            "gridwidth": 2,
            "linecolor": "white",
            "showbackground": true,
            "ticks": "",
            "zerolinecolor": "white"
           },
           "zaxis": {
            "backgroundcolor": "#E5ECF6",
            "gridcolor": "white",
            "gridwidth": 2,
            "linecolor": "white",
            "showbackground": true,
            "ticks": "",
            "zerolinecolor": "white"
           }
          },
          "shapedefaults": {
           "line": {
            "color": "#2a3f5f"
           }
          },
          "ternary": {
           "aaxis": {
            "gridcolor": "white",
            "linecolor": "white",
            "ticks": ""
           },
           "baxis": {
            "gridcolor": "white",
            "linecolor": "white",
            "ticks": ""
           },
           "bgcolor": "#E5ECF6",
           "caxis": {
            "gridcolor": "white",
            "linecolor": "white",
            "ticks": ""
           }
          },
          "title": {
           "x": 0.05
          },
          "xaxis": {
           "automargin": true,
           "gridcolor": "white",
           "linecolor": "white",
           "ticks": "",
           "title": {
            "standoff": 15
           },
           "zerolinecolor": "white",
           "zerolinewidth": 2
          },
          "yaxis": {
           "automargin": true,
           "gridcolor": "white",
           "linecolor": "white",
           "ticks": "",
           "title": {
            "standoff": 15
           },
           "zerolinecolor": "white",
           "zerolinewidth": 2
          }
         }
        },
        "title": {
         "text": "Correlation between Proportion of population living in multidimensional poverty (%)PERCENTALLAGEALLAREABOTHSEX<br>and Total including LUCF<br>Pearson's r: -0.11920170448864917, P-value: 0.3481573833207412, n=63<br>"
        },
        "width": 800,
        "xaxis": {
         "anchor": "y",
         "domain": [
          0,
          1
         ],
         "title": {
          "text": "Proportion of population living in multidimensional poverty (%)PERCENTALLAGEALLAREABOTHSEX (Log Scaled)"
         },
         "type": "log"
        },
        "yaxis": {
         "anchor": "x",
         "domain": [
          0,
          1
         ],
         "title": {
          "text": "Total including LUCF (Log Scaled)"
         },
         "type": "log"
        }
       }
      }
     },
     "metadata": {},
     "output_type": "display_data"
    }
   ],
   "source": [
    "years = 30\n",
    "x = \"Proportion of population living in multidimensional poverty (%)PERCENTALLAGEALLAREABOTHSEX\"\n",
    "y = \"Total including LUCF\"\n",
    "\n",
    "df_xy, p_corr, p_pval, s_corr, s_pval = build_correlation_df(find_corr_df, years, x, y)\n",
    "build_correlation_plot(df_xy, x, y, p_corr, p_pval, log_scale=True).show()\n"
   ]
  },
  {
   "cell_type": "markdown",
   "metadata": {},
   "source": [
    "We also looked for interesting correlations between GDP, Poverty, and LUCF which represents emissions or removals of greenhouse gases from the result of human manipulation of land and forestry. This can mean large carbon sinks for countries with swaths of forests (especially rainforests), but also carbon sources where deforestation has occurred.\n",
    "\n",
    "Unfortunately, with weak correlations, we were unable to add any interesting insights to our analysis.\n"
   ]
  },
  {
   "cell_type": "code",
   "execution_count": 16,
   "metadata": {},
   "outputs": [
    {
     "data": {
      "application/vnd.plotly.v1+json": {
       "config": {
        "plotlyServerURL": "https://plot.ly"
       },
       "data": [
        {
         "customdata": [
          [
           "Afghanistan"
          ],
          [
           "Albania"
          ],
          [
           "Algeria"
          ],
          [
           "Angola"
          ],
          [
           "Antigua and Barbuda"
          ],
          [
           "Argentina"
          ],
          [
           "Armenia"
          ],
          [
           "Australia"
          ],
          [
           "Austria"
          ],
          [
           "Azerbaijan"
          ],
          [
           "Bahamas"
          ],
          [
           "Bahrain"
          ],
          [
           "Bangladesh"
          ],
          [
           "Barbados"
          ],
          [
           "Belarus"
          ],
          [
           "Belgium"
          ],
          [
           "Belize"
          ],
          [
           "Benin"
          ],
          [
           "Bhutan"
          ],
          [
           "Bolivia"
          ],
          [
           "Bosnia and Herzegovina"
          ],
          [
           "Botswana"
          ],
          [
           "Brazil"
          ],
          [
           "Brunei"
          ],
          [
           "Bulgaria"
          ],
          [
           "Burkina Faso"
          ],
          [
           "Burundi"
          ],
          [
           "Cambodia"
          ],
          [
           "Cameroon"
          ],
          [
           "Canada"
          ],
          [
           "Cape Verde"
          ],
          [
           "Central African Republic"
          ],
          [
           "Chad"
          ],
          [
           "Chile"
          ],
          [
           "China"
          ],
          [
           "Colombia"
          ],
          [
           "Comoros"
          ],
          [
           "Costa Rica"
          ],
          [
           "Croatia"
          ],
          [
           "Cyprus"
          ],
          [
           "Czech Republic"
          ],
          [
           "Côte d'Ivoire"
          ],
          [
           "Democratic Republic of the Congo"
          ],
          [
           "Denmark"
          ],
          [
           "Djibouti"
          ],
          [
           "Dominica"
          ],
          [
           "Dominican Republic"
          ],
          [
           "Ecuador"
          ],
          [
           "Egypt"
          ],
          [
           "El Salvador"
          ],
          [
           "Equatorial Guinea"
          ],
          [
           "Eritrea"
          ],
          [
           "Estonia"
          ],
          [
           "Eswatini"
          ],
          [
           "Ethiopia"
          ],
          [
           "Fiji"
          ],
          [
           "Finland"
          ],
          [
           "France"
          ],
          [
           "Gabon"
          ],
          [
           "Gambia"
          ],
          [
           "Georgia"
          ],
          [
           "Germany"
          ],
          [
           "Ghana"
          ],
          [
           "Greece"
          ],
          [
           "Grenada"
          ],
          [
           "Guatemala"
          ],
          [
           "Guinea"
          ],
          [
           "Guinea-Bissau"
          ],
          [
           "Guyana"
          ],
          [
           "Haiti"
          ],
          [
           "Honduras"
          ],
          [
           "Hungary"
          ],
          [
           "Iceland"
          ],
          [
           "India"
          ],
          [
           "Indonesia"
          ],
          [
           "Iran"
          ],
          [
           "Iraq"
          ],
          [
           "Ireland"
          ],
          [
           "Israel"
          ],
          [
           "Italy"
          ],
          [
           "Jamaica"
          ],
          [
           "Japan"
          ],
          [
           "Jordan"
          ],
          [
           "Kazakhstan"
          ],
          [
           "Kenya"
          ],
          [
           "Kiribati"
          ],
          [
           "Kuwait"
          ],
          [
           "Kyrgyzstan"
          ],
          [
           "Laos"
          ],
          [
           "Latvia"
          ],
          [
           "Lebanon"
          ],
          [
           "Lesotho"
          ],
          [
           "Liberia"
          ],
          [
           "Libya"
          ],
          [
           "Lithuania"
          ],
          [
           "Luxembourg"
          ],
          [
           "Macedonia"
          ],
          [
           "Madagascar"
          ],
          [
           "Malawi"
          ],
          [
           "Malaysia"
          ],
          [
           "Maldives"
          ],
          [
           "Mali"
          ],
          [
           "Malta"
          ],
          [
           "Marshall Islands"
          ],
          [
           "Mauritania"
          ],
          [
           "Mauritius"
          ],
          [
           "Mexico"
          ],
          [
           "Micronesia"
          ],
          [
           "Moldova"
          ],
          [
           "Mongolia"
          ],
          [
           "Montenegro"
          ],
          [
           "Morocco"
          ],
          [
           "Mozambique"
          ],
          [
           "Myanmar"
          ],
          [
           "Namibia"
          ],
          [
           "Nauru"
          ],
          [
           "Nepal"
          ],
          [
           "Netherlands"
          ],
          [
           "New Zealand"
          ],
          [
           "Nicaragua"
          ],
          [
           "Niger"
          ],
          [
           "Nigeria"
          ],
          [
           "Norway"
          ],
          [
           "Oman"
          ],
          [
           "Pakistan"
          ],
          [
           "Palau"
          ],
          [
           "Panama"
          ],
          [
           "Papua New Guinea"
          ],
          [
           "Paraguay"
          ],
          [
           "Peru"
          ],
          [
           "Philippines"
          ],
          [
           "Poland"
          ],
          [
           "Portugal"
          ],
          [
           "Qatar"
          ],
          [
           "Republic of Congo"
          ],
          [
           "Romania"
          ],
          [
           "Russia"
          ],
          [
           "Rwanda"
          ],
          [
           "Saint Kitts and Nevis"
          ],
          [
           "Saint Lucia"
          ],
          [
           "Saint Vincent and the Grenadines"
          ],
          [
           "Samoa"
          ],
          [
           "Sao Tome and Principe"
          ],
          [
           "Saudi Arabia"
          ],
          [
           "Senegal"
          ],
          [
           "Serbia"
          ],
          [
           "Seychelles"
          ],
          [
           "Sierra Leone"
          ],
          [
           "Singapore"
          ],
          [
           "Slovakia"
          ],
          [
           "Slovenia"
          ],
          [
           "Solomon Islands"
          ],
          [
           "Somalia"
          ],
          [
           "South Africa"
          ],
          [
           "South Korea"
          ],
          [
           "South Sudan"
          ],
          [
           "Spain"
          ],
          [
           "Sri Lanka"
          ],
          [
           "Sudan"
          ],
          [
           "Suriname"
          ],
          [
           "Sweden"
          ],
          [
           "Switzerland"
          ],
          [
           "Tajikistan"
          ],
          [
           "Tanzania"
          ],
          [
           "Thailand"
          ],
          [
           "Timor-Leste"
          ],
          [
           "Togo"
          ],
          [
           "Tonga"
          ],
          [
           "Trinidad and Tobago"
          ],
          [
           "Tunisia"
          ],
          [
           "Turkey"
          ],
          [
           "Turkmenistan"
          ],
          [
           "Tuvalu"
          ],
          [
           "Uganda"
          ],
          [
           "Ukraine"
          ],
          [
           "United Arab Emirates"
          ],
          [
           "United Kingdom"
          ],
          [
           "United States"
          ],
          [
           "Uruguay"
          ],
          [
           "Uzbekistan"
          ],
          [
           "Vanuatu"
          ],
          [
           "Venezuela"
          ],
          [
           "Vietnam"
          ],
          [
           "Yemen"
          ],
          [
           "Zambia"
          ],
          [
           "Zimbabwe"
          ]
         ],
         "hovertemplate": "GDP, PPP (current international $)=%{x}<br>Land-Use Change and Forestry=%{y}<br>country=%{customdata[0]}<extra></extra>",
         "legendgroup": "",
         "marker": {
          "color": "#00274C",
          "symbol": "circle"
         },
         "mode": "markers",
         "name": "",
         "orientation": "v",
         "showlegend": false,
         "type": "scatter",
         "x": [
          44603079104.79237,
          19874452242.93934,
          352144684547.2972,
          111285416068.58745,
          1486293144.7720478,
          586647601859.6467,
          17680730911.55777,
          711301930075.522,
          301623930771.37537,
          78810017476.24666,
          9586083979.597836,
          42401504367.90435,
          323488675312.5126,
          3762756882.9580126,
          104061501470.61765,
          363570410297.61115,
          1816503173.272004,
          18283594969.98269,
          3535509642.2613525,
          45700821554.19094,
          27881937111.105183,
          20243138624.84337,
          2111646140017.1858,
          24935060308.02718,
          90391737250.8729,
          18680226887.644714,
          5084543585.470639,
          30308661627.47185,
          48404444833.793304,
          1235617070157.1953,
          1957871301.804279,
          3061214633.111702,
          13903125175.276268,
          239555794878.5371,
          8836760859560.84,
          401278624154.2093,
          1360755342.5586638,
          49410589988.0132,
          74586812191.42656,
          20337373497.242985,
          242401722092.39734,
          67008864077.03498,
          40027660505.46856,
          195858088778.1281,
          4131673506.030574,
          570468066.2302378,
          88455787118.14415,
          113806155409.27821,
          609505762586.5598,
          33304360639.836315,
          17361040738.258717,
          4002579342.4202695,
          25875878852.320347,
          6459135474.591191,
          79507502109.61873,
          6469243230.196956,
          170716160887.4616,
          1969028627134.6453,
          21217350151.639534,
          3179972833.402953,
          25580104022.239304,
          2816514633787.5605,
          68672043211.11992,
          248367399928.26566,
          1021188861.9678402,
          78038515846.74052,
          14647202481.290968,
          1862610075.7253087,
          5823226129.571346,
          23169008603.89124,
          26585766534.428696,
          179041773853.6011,
          12151191920.52283,
          4007520487442.206,
          1626618254908.242,
          950293545088.9863,
          275986406951.0235,
          175986202062.24377,
          209688226761.06024,
          1789037141182.0654,
          20201969041.108437,
          3989579399491.5757,
          51551394175.90382,
          242125714783.0922,
          98535422667.8091,
          159577493.2418207,
          170869290093.64682,
          15498436884.548063,
          20709452640.5724,
          34053836993.411945,
          55380849588.130875,
          3545308159.100709,
          4209167956.268438,
          139982925418.46268,
          56230160569.94747,
          36205911970.110306,
          18561758732.507046,
          26436145362.447075,
          15595568105.81612,
          455444454402.51685,
          4533214408.298341,
          21182793823.421635,
          10045612596.135803,
          155697141.12924492,
          12082236243.88255,
          15344259656.162485,
          1460781861255.7507,
          296974984.2378883,
          17533329531.91647,
          17592486859.247658,
          7415997241.054306,
          158399795789.08612,
          17208334786.31184,
          103389016251.41985,
          14301040472.375841,
          80114708.1797461,
          49345559023.62887,
          618125787432.4745,
          115075946120.61621,
          19955554147.821274,
          14095292333.950356,
          541815432274.11664,
          217249994983.61914,
          114990766616.5783,
          623611490490.4315,
          251493348.02048227,
          50345380433.5312,
          18714645419.30248,
          50333229855.4465,
          214662333558.85535,
          437606267027.54944,
          619857230766.5454,
          232508205070.70667,
          168117669436.35196,
          16189799581.89965,
          263579237289.70676,
          2131557922320.2512,
          10740075113.120089,
          884073003.5843818,
          1813206591.16809,
          966598801.032898,
          792389067.0581107,
          500140692.7332938,
          1117420433196.3384,
          27799151351.173923,
          77513383323.46153,
          1501384221.4784591,
          6371179699.592793,
          281874740421.9709,
          102294803382.25716,
          51125071705.32697,
          978843076.8121419,
          13519902956.939837,
          520910366909.8801,
          1217210714033.093,
          20619231510.807827,
          1171302491782.2556,
          135020894055.67546,
          119572269908.98608,
          5826334287.907072,
          331998407963.9572,
          358893210699.9284,
          15039327755.636265,
          68725502631.75787,
          703369072510.3672,
          2157046703.7902107,
          7037587575.4551325,
          433069522.2939157,
          26977409826.442635,
          83133687638.25755,
          1090700151510.3583,
          39730747714.61453,
          29286210.79721604,
          47024608731.063866,
          353553404781.86884,
          425747913079.95966,
          1962979294970.2593,
          12712046368999.998,
          45529028018.24589,
          118322474859.7603,
          532089229.9223436,
          349434443355.0089,
          382666787466.6045,
          63472339582.79539,
          31345314505.04047,
          26050456225.898544
         ],
         "xaxis": "x",
         "y": [
          -0.42900000000000005,
          -0.23358333333333334,
          -0.29500000000000004,
          19.524166666666666,
          0,
          31.890416666666667,
          0.04,
          13.843833333333333,
          -4.56075,
          -0.9558333333333333,
          0.02175,
          0,
          11.213333333333333,
          0,
          -12.946333333333333,
          -1.4068333333333334,
          2.5829999999999997,
          6.284750000000001,
          -2.4998333333333336,
          35.66433333333334,
          0.23749999999999993,
          20.67325,
          426.2930833333333,
          0.622,
          -11.174916666666666,
          7.326333333333333,
          1.71125,
          10.969750000000001,
          22.260083333333334,
          76.59966666666666,
          -0.1125,
          14.856166666666667,
          8.831333333333333,
          -19.7415,
          -221.52625,
          40.77091666666667,
          0.030416666666666665,
          -0.7061666666666667,
          -0.7059166666666666,
          -0.0995,
          -3.5796666666666668,
          19.573,
          231.3765,
          -0.046,
          0,
          0.007833333333333333,
          -1.8505833333333332,
          14.630583333333334,
          -0.014833333333333329,
          0.5427500000000001,
          1.915,
          0.21875,
          -0.923,
          -0.04616666666666667,
          15.46125,
          -1.2704166666666665,
          -12.296583333333333,
          -24.845000000000002,
          2.1800833333333336,
          0.3081666666666667,
          -3.9353333333333333,
          -16.792083333333334,
          10.333499999999999,
          -0.13016666666666668,
          0,
          6.331666666666667,
          5.675666666666667,
          0.8870833333333333,
          5.196916666666667,
          0.12066666666666667,
          2.94575,
          0.9190833333333333,
          -0.013333333333333334,
          -45.31516666666666,
          365.5590833333334,
          -11.111666666666668,
          0.008083333333333333,
          -1.1795,
          -0.004166666666666667,
          -15.849583333333333,
          -0.3035833333333333,
          -36.42958333333333,
          0,
          -1.402,
          1.9155833333333332,
          0,
          -0.007833333333333335,
          -0.46825,
          6.296833333333334,
          -5.079833333333334,
          -0.0085,
          0.0038333333333333336,
          6.773416666666666,
          0,
          -0.4168333333333333,
          -0.24116666666666667,
          0.0006666666666666666,
          10.770583333333333,
          4.256916666666666,
          36.85991666666666,
          0,
          0.4654166666666667,
          0,
          0,
          0.10133333333333333,
          0.0085,
          -3.799333333333334,
          -0.015,
          -0.252,
          2.0030833333333335,
          -0.7458333333333333,
          -1.8991666666666664,
          32.65083333333333,
          67.72483333333334,
          5.285416666666666,
          0,
          -0.23108333333333334,
          0.6618333333333334,
          -10.650416666666667,
          9.792083333333332,
          1.4555,
          24.267583333333334,
          -9.409416666666667,
          0.0013333333333333333,
          3.5753333333333335,
          0,
          2.49725,
          17.839833333333335,
          26.2385,
          35.22091666666667,
          1.2329999999999999,
          -18.806499999999996,
          0.354,
          0,
          4.858916666666667,
          -25.599833333333333,
          -287.7130833333333,
          1.23875,
          0,
          -0.06816666666666667,
          -0.009166666666666667,
          0.055,
          0.0365,
          0,
          2.8575,
          -6.705250000000001,
          0,
          1.7188333333333332,
          -0.01966666666666667,
          -3.83475,
          -3.839833333333333,
          2.540833333333333,
          8.675,
          3.423,
          -25.055666666666664,
          4.79725,
          -12.567,
          1.4479166666666667,
          11.08975,
          2.578333333333333,
          -4.488583333333334,
          -0.994,
          -0.09474999999999999,
          29.954083333333333,
          -1.3878333333333333,
          0.23258333333333334,
          0.8003333333333332,
          0,
          0.05641666666666667,
          -0.3156666666666667,
          -17.1465,
          -0.028333333333333335,
          0,
          8.020416666666668,
          -14.93575,
          0,
          -5.615083333333334,
          -193.18808333333334,
          -4.778666666666667,
          -2.5564166666666663,
          0.00008333333333333333,
          53.315333333333335,
          -12.45125,
          0,
          18.40266666666667,
          10.583583333333333
         ],
         "yaxis": "y"
        },
        {
         "hovertemplate": "<b>OLS trendline</b><br>y = -1.4318e-11 * x + 9.58096<br>R<sup>2</sup>=0.104695<br><br>GDP, PPP (current international $)=%{x}<br>Land-Use Change and Forestry=%{y} <b>(trend)</b><extra></extra>",
         "legendgroup": "",
         "line": {
          "color": "#FFCB05"
         },
         "marker": {
          "color": "#00274C",
          "symbol": "circle"
         },
         "mode": "lines",
         "name": "",
         "showlegend": false,
         "type": "scatter",
         "x": [
          29286210.79721604,
          80114708.1797461,
          155697141.12924492,
          159577493.2418207,
          251493348.02048227,
          296974984.2378883,
          433069522.2939157,
          500140692.7332938,
          532089229.9223436,
          570468066.2302378,
          792389067.0581107,
          884073003.5843818,
          966598801.032898,
          978843076.8121419,
          1021188861.9678402,
          1360755342.5586638,
          1486293144.7720478,
          1501384221.4784591,
          1813206591.16809,
          1816503173.272004,
          1862610075.7253087,
          1957871301.804279,
          2157046703.7902107,
          3061214633.111702,
          3179972833.402953,
          3535509642.2613525,
          3545308159.100709,
          3762756882.9580126,
          4002579342.4202695,
          4131673506.030574,
          4209167956.268438,
          4533214408.298341,
          5084543585.470639,
          5823226129.571346,
          5826334287.907072,
          6371179699.592793,
          6459135474.591191,
          6469243230.196956,
          7037587575.4551325,
          7415997241.054306,
          9586083979.597836,
          10045612596.135803,
          10740075113.120089,
          12082236243.88255,
          12151191920.52283,
          13519902956.939837,
          13903125175.276268,
          14095292333.950356,
          14301040472.375841,
          14647202481.290968,
          15039327755.636265,
          15344259656.162485,
          15498436884.548063,
          15595568105.81612,
          16189799581.89965,
          17208334786.31184,
          17361040738.258717,
          17533329531.91647,
          17592486859.247658,
          17680730911.55777,
          18283594969.98269,
          18561758732.507046,
          18680226887.644714,
          18714645419.30248,
          19874452242.93934,
          19955554147.821274,
          20201969041.108437,
          20243138624.84337,
          20337373497.242985,
          20619231510.807827,
          20709452640.5724,
          21182793823.421635,
          21217350151.639534,
          23169008603.89124,
          24935060308.02718,
          25580104022.239304,
          25875878852.320347,
          26050456225.898544,
          26436145362.447075,
          26585766534.428696,
          26977409826.442635,
          27799151351.173923,
          27881937111.105183,
          30308661627.47185,
          31345314505.04047,
          33304360639.836315,
          34053836993.411945,
          36205911970.110306,
          39730747714.61453,
          40027660505.46856,
          42401504367.90435,
          44603079104.79237,
          45529028018.24589,
          45700821554.19094,
          47024608731.063866,
          48404444833.793304,
          49345559023.62887,
          49410589988.0132,
          50333229855.4465,
          50345380433.5312,
          51125071705.32697,
          51551394175.90382,
          55380849588.130875,
          56230160569.94747,
          63472339582.79539,
          67008864077.03498,
          68672043211.11992,
          68725502631.75787,
          74586812191.42656,
          77513383323.46153,
          78038515846.74052,
          78810017476.24666,
          79507502109.61873,
          83133687638.25755,
          88455787118.14415,
          90391737250.8729,
          98535422667.8091,
          102294803382.25716,
          103389016251.41985,
          104061501470.61765,
          111285416068.58745,
          113806155409.27821,
          114990766616.5783,
          115075946120.61621,
          118322474859.7603,
          119572269908.98608,
          135020894055.67546,
          139982925418.46268,
          158399795789.08612,
          168117669436.35196,
          170716160887.4616,
          170869290093.64682,
          175986202062.24377,
          179041773853.6011,
          195858088778.1281,
          209688226761.06024,
          214662333558.85535,
          217249994983.61914,
          232508205070.70667,
          239555794878.5371,
          242125714783.0922,
          242401722092.39734,
          248367399928.26566,
          263579237289.70676,
          275986406951.0235,
          281874740421.9709,
          301623930771.37537,
          323488675312.5126,
          331998407963.9572,
          349434443355.0089,
          352144684547.2972,
          353553404781.86884,
          358893210699.9284,
          363570410297.61115,
          382666787466.6045,
          401278624154.2093,
          425747913079.95966,
          437606267027.54944,
          455444454402.51685,
          520910366909.8801,
          541815432274.11664,
          586647601859.6467,
          609505762586.5598,
          618125787432.4745,
          619857230766.5454,
          623611490490.4315,
          703369072510.3672,
          711301930075.522,
          950293545088.9863,
          1090700151510.3583,
          1117420433196.3384,
          1171302491782.2556,
          1217210714033.093,
          1235617070157.1953,
          1460781861255.7507,
          1626618254908.242,
          1789037141182.0654,
          1962979294970.2593,
          1969028627134.6453,
          2111646140017.1858,
          2131557922320.2512,
          2816514633787.5605,
          3989579399491.5757,
          4007520487442.206,
          8836760859560.84,
          12712046368999.998
         ],
         "xaxis": "x",
         "y": [
          9.580538511708404,
          9.579810750276433,
          9.578728562478881,
          9.578673003673183,
          9.577356954261154,
          9.576705749082828,
          9.5747571501472,
          9.573796826439898,
          9.573339387908927,
          9.572789880480867,
          9.569612419928932,
          9.568299691117906,
          9.56711808836318,
          9.566942775061914,
          9.566336468937793,
          9.561474562706243,
          9.559677114908055,
          9.559461041166761,
          9.554996374572777,
          9.554949174174652,
          9.554289016446583,
          9.552925068073668,
          9.55007327856134,
          9.537127419823202,
          9.535427042232815,
          9.530336473153303,
          9.53019617818073,
          9.52708275160304,
          9.5236489783163,
          9.521800610605148,
          9.520691046581437,
          9.51605135581545,
          9.5081574354336,
          9.497580993206288,
          9.497536490655994,
          9.48973540470164,
          9.488476055634496,
          9.488331332987311,
          9.480193789761405,
          9.474775727566179,
          9.443704468062679,
          9.437124946313553,
          9.427181645570121,
          9.407964608735261,
          9.40697730270501,
          9.387380124839963,
          9.381893156608717,
          9.379141710987136,
          9.376195813162946,
          9.371239472285772,
          9.36562503027262,
          9.361259021281429,
          9.359051514739127,
          9.357660791811647,
          9.349152597152603,
          9.334569230005268,
          9.332382789170255,
          9.329915961590416,
          9.329068948134044,
          9.327805471517985,
          9.319173675713719,
          9.315190932399197,
          9.31349470766965,
          9.313001903806157,
          9.296395812376218,
          9.295234596887427,
          9.291706433262046,
          9.291116967966877,
          9.28976771490588,
          9.285732077377173,
          9.284440293004769,
          9.277663003201194,
          9.277168226369247,
          9.249224418799228,
          9.22393812502065,
          9.214702401729314,
          9.210467503493762,
          9.207967908071355,
          9.20244561855337,
          9.2003033455376,
          9.194695804538046,
          9.182930125449632,
          9.18174480055716,
          9.14699900636732,
          9.13215623072988,
          9.1041066464656,
          9.093375658685217,
          9.062562291235738,
          9.012093761946344,
          9.00784257041069,
          8.973853920390166,
          8.94233181634187,
          8.929074097898685,
          8.926614361409094,
          8.907660402486867,
          8.887903936139821,
          8.874429081565836,
          8.87349796948895,
          8.860287629902,
          8.860113658162494,
          8.848950053773647,
          8.842845976973308,
          8.7880159092359,
          8.775855491199842,
          8.672162113657695,
          8.621526225078073,
          8.597712858746622,
          8.596947427806906,
          8.513025312103345,
          8.471122723840933,
          8.463603886637458,
          8.452557541386831,
          8.44257097004003,
          8.390651316522497,
          8.314449600201247,
          8.286730704043105,
          8.170129575429083,
          8.116302835844715,
          8.100635917372765,
          8.091007287149447,
          7.987575419142506,
          7.951483522535714,
          7.934522282425339,
          7.933302683951539,
          7.886818948924791,
          7.868924407839881,
          7.647731309283834,
          7.576685041224915,
          7.312992651255273,
          7.173852326330252,
          7.136647176526312,
          7.134454675545388,
          7.061190829999957,
          7.017441212818959,
          6.776665544440261,
          6.578645899140133,
          6.507426735238811,
          6.470376649540395,
          6.25190989576768,
          6.151002642659312,
          6.114206579700449,
          6.110254712440968,
          6.0248382537988805,
          5.807035463805517,
          5.629389851119331,
          5.5450808075823215,
          5.262312286199523,
          4.949253301252507,
          4.827411115489966,
          4.577762301585324,
          4.538957121171575,
          4.518787092389415,
          4.4423318556325135,
          4.375363803218717,
          4.1019422481924215,
          3.8354583343072726,
          3.48510753377273,
          3.3153198537479156,
          3.059913035598486,
          2.1225733799887063,
          1.823255062737581,
          1.1813489349521724,
          0.854066236475651,
          0.730644889228584,
          0.7058541174161022,
          0.6521007000745005,
          -0.4898668002551787,
          -0.6034492998084744,
          -4.025326571971286,
          -6.035665618166416,
          -6.418246089041482,
          -7.189728350635084,
          -7.8470413794486245,
          -8.1105832266421,
          -11.334488304265959,
          -13.70893054695692,
          -16.03444098580257,
          -18.524941343672182,
          -18.611555563354784,
          -20.65355032504405,
          -20.93864683484116,
          -30.745843640692776,
          -47.54176202599435,
          -47.798642172574716,
          -116.94361142278393,
          -172.42987359622734
         ],
         "yaxis": "y"
        }
       ],
       "layout": {
        "height": 600,
        "legend": {
         "tracegroupgap": 0
        },
        "template": {
         "data": {
          "bar": [
           {
            "error_x": {
             "color": "#2a3f5f"
            },
            "error_y": {
             "color": "#2a3f5f"
            },
            "marker": {
             "line": {
              "color": "#E5ECF6",
              "width": 0.5
             },
             "pattern": {
              "fillmode": "overlay",
              "size": 10,
              "solidity": 0.2
             }
            },
            "type": "bar"
           }
          ],
          "barpolar": [
           {
            "marker": {
             "line": {
              "color": "#E5ECF6",
              "width": 0.5
             },
             "pattern": {
              "fillmode": "overlay",
              "size": 10,
              "solidity": 0.2
             }
            },
            "type": "barpolar"
           }
          ],
          "carpet": [
           {
            "aaxis": {
             "endlinecolor": "#2a3f5f",
             "gridcolor": "white",
             "linecolor": "white",
             "minorgridcolor": "white",
             "startlinecolor": "#2a3f5f"
            },
            "baxis": {
             "endlinecolor": "#2a3f5f",
             "gridcolor": "white",
             "linecolor": "white",
             "minorgridcolor": "white",
             "startlinecolor": "#2a3f5f"
            },
            "type": "carpet"
           }
          ],
          "choropleth": [
           {
            "colorbar": {
             "outlinewidth": 0,
             "ticks": ""
            },
            "type": "choropleth"
           }
          ],
          "contour": [
           {
            "colorbar": {
             "outlinewidth": 0,
             "ticks": ""
            },
            "colorscale": [
             [
              0,
              "#0d0887"
             ],
             [
              0.1111111111111111,
              "#46039f"
             ],
             [
              0.2222222222222222,
              "#7201a8"
             ],
             [
              0.3333333333333333,
              "#9c179e"
             ],
             [
              0.4444444444444444,
              "#bd3786"
             ],
             [
              0.5555555555555556,
              "#d8576b"
             ],
             [
              0.6666666666666666,
              "#ed7953"
             ],
             [
              0.7777777777777778,
              "#fb9f3a"
             ],
             [
              0.8888888888888888,
              "#fdca26"
             ],
             [
              1,
              "#f0f921"
             ]
            ],
            "type": "contour"
           }
          ],
          "contourcarpet": [
           {
            "colorbar": {
             "outlinewidth": 0,
             "ticks": ""
            },
            "type": "contourcarpet"
           }
          ],
          "heatmap": [
           {
            "colorbar": {
             "outlinewidth": 0,
             "ticks": ""
            },
            "colorscale": [
             [
              0,
              "#0d0887"
             ],
             [
              0.1111111111111111,
              "#46039f"
             ],
             [
              0.2222222222222222,
              "#7201a8"
             ],
             [
              0.3333333333333333,
              "#9c179e"
             ],
             [
              0.4444444444444444,
              "#bd3786"
             ],
             [
              0.5555555555555556,
              "#d8576b"
             ],
             [
              0.6666666666666666,
              "#ed7953"
             ],
             [
              0.7777777777777778,
              "#fb9f3a"
             ],
             [
              0.8888888888888888,
              "#fdca26"
             ],
             [
              1,
              "#f0f921"
             ]
            ],
            "type": "heatmap"
           }
          ],
          "heatmapgl": [
           {
            "colorbar": {
             "outlinewidth": 0,
             "ticks": ""
            },
            "colorscale": [
             [
              0,
              "#0d0887"
             ],
             [
              0.1111111111111111,
              "#46039f"
             ],
             [
              0.2222222222222222,
              "#7201a8"
             ],
             [
              0.3333333333333333,
              "#9c179e"
             ],
             [
              0.4444444444444444,
              "#bd3786"
             ],
             [
              0.5555555555555556,
              "#d8576b"
             ],
             [
              0.6666666666666666,
              "#ed7953"
             ],
             [
              0.7777777777777778,
              "#fb9f3a"
             ],
             [
              0.8888888888888888,
              "#fdca26"
             ],
             [
              1,
              "#f0f921"
             ]
            ],
            "type": "heatmapgl"
           }
          ],
          "histogram": [
           {
            "marker": {
             "pattern": {
              "fillmode": "overlay",
              "size": 10,
              "solidity": 0.2
             }
            },
            "type": "histogram"
           }
          ],
          "histogram2d": [
           {
            "colorbar": {
             "outlinewidth": 0,
             "ticks": ""
            },
            "colorscale": [
             [
              0,
              "#0d0887"
             ],
             [
              0.1111111111111111,
              "#46039f"
             ],
             [
              0.2222222222222222,
              "#7201a8"
             ],
             [
              0.3333333333333333,
              "#9c179e"
             ],
             [
              0.4444444444444444,
              "#bd3786"
             ],
             [
              0.5555555555555556,
              "#d8576b"
             ],
             [
              0.6666666666666666,
              "#ed7953"
             ],
             [
              0.7777777777777778,
              "#fb9f3a"
             ],
             [
              0.8888888888888888,
              "#fdca26"
             ],
             [
              1,
              "#f0f921"
             ]
            ],
            "type": "histogram2d"
           }
          ],
          "histogram2dcontour": [
           {
            "colorbar": {
             "outlinewidth": 0,
             "ticks": ""
            },
            "colorscale": [
             [
              0,
              "#0d0887"
             ],
             [
              0.1111111111111111,
              "#46039f"
             ],
             [
              0.2222222222222222,
              "#7201a8"
             ],
             [
              0.3333333333333333,
              "#9c179e"
             ],
             [
              0.4444444444444444,
              "#bd3786"
             ],
             [
              0.5555555555555556,
              "#d8576b"
             ],
             [
              0.6666666666666666,
              "#ed7953"
             ],
             [
              0.7777777777777778,
              "#fb9f3a"
             ],
             [
              0.8888888888888888,
              "#fdca26"
             ],
             [
              1,
              "#f0f921"
             ]
            ],
            "type": "histogram2dcontour"
           }
          ],
          "mesh3d": [
           {
            "colorbar": {
             "outlinewidth": 0,
             "ticks": ""
            },
            "type": "mesh3d"
           }
          ],
          "parcoords": [
           {
            "line": {
             "colorbar": {
              "outlinewidth": 0,
              "ticks": ""
             }
            },
            "type": "parcoords"
           }
          ],
          "pie": [
           {
            "automargin": true,
            "type": "pie"
           }
          ],
          "scatter": [
           {
            "fillpattern": {
             "fillmode": "overlay",
             "size": 10,
             "solidity": 0.2
            },
            "type": "scatter"
           }
          ],
          "scatter3d": [
           {
            "line": {
             "colorbar": {
              "outlinewidth": 0,
              "ticks": ""
             }
            },
            "marker": {
             "colorbar": {
              "outlinewidth": 0,
              "ticks": ""
             }
            },
            "type": "scatter3d"
           }
          ],
          "scattercarpet": [
           {
            "marker": {
             "colorbar": {
              "outlinewidth": 0,
              "ticks": ""
             }
            },
            "type": "scattercarpet"
           }
          ],
          "scattergeo": [
           {
            "marker": {
             "colorbar": {
              "outlinewidth": 0,
              "ticks": ""
             }
            },
            "type": "scattergeo"
           }
          ],
          "scattergl": [
           {
            "marker": {
             "colorbar": {
              "outlinewidth": 0,
              "ticks": ""
             }
            },
            "type": "scattergl"
           }
          ],
          "scattermapbox": [
           {
            "marker": {
             "colorbar": {
              "outlinewidth": 0,
              "ticks": ""
             }
            },
            "type": "scattermapbox"
           }
          ],
          "scatterpolar": [
           {
            "marker": {
             "colorbar": {
              "outlinewidth": 0,
              "ticks": ""
             }
            },
            "type": "scatterpolar"
           }
          ],
          "scatterpolargl": [
           {
            "marker": {
             "colorbar": {
              "outlinewidth": 0,
              "ticks": ""
             }
            },
            "type": "scatterpolargl"
           }
          ],
          "scatterternary": [
           {
            "marker": {
             "colorbar": {
              "outlinewidth": 0,
              "ticks": ""
             }
            },
            "type": "scatterternary"
           }
          ],
          "surface": [
           {
            "colorbar": {
             "outlinewidth": 0,
             "ticks": ""
            },
            "colorscale": [
             [
              0,
              "#0d0887"
             ],
             [
              0.1111111111111111,
              "#46039f"
             ],
             [
              0.2222222222222222,
              "#7201a8"
             ],
             [
              0.3333333333333333,
              "#9c179e"
             ],
             [
              0.4444444444444444,
              "#bd3786"
             ],
             [
              0.5555555555555556,
              "#d8576b"
             ],
             [
              0.6666666666666666,
              "#ed7953"
             ],
             [
              0.7777777777777778,
              "#fb9f3a"
             ],
             [
              0.8888888888888888,
              "#fdca26"
             ],
             [
              1,
              "#f0f921"
             ]
            ],
            "type": "surface"
           }
          ],
          "table": [
           {
            "cells": {
             "fill": {
              "color": "#EBF0F8"
             },
             "line": {
              "color": "white"
             }
            },
            "header": {
             "fill": {
              "color": "#C8D4E3"
             },
             "line": {
              "color": "white"
             }
            },
            "type": "table"
           }
          ]
         },
         "layout": {
          "annotationdefaults": {
           "arrowcolor": "#2a3f5f",
           "arrowhead": 0,
           "arrowwidth": 1
          },
          "autotypenumbers": "strict",
          "coloraxis": {
           "colorbar": {
            "outlinewidth": 0,
            "ticks": ""
           }
          },
          "colorscale": {
           "diverging": [
            [
             0,
             "#8e0152"
            ],
            [
             0.1,
             "#c51b7d"
            ],
            [
             0.2,
             "#de77ae"
            ],
            [
             0.3,
             "#f1b6da"
            ],
            [
             0.4,
             "#fde0ef"
            ],
            [
             0.5,
             "#f7f7f7"
            ],
            [
             0.6,
             "#e6f5d0"
            ],
            [
             0.7,
             "#b8e186"
            ],
            [
             0.8,
             "#7fbc41"
            ],
            [
             0.9,
             "#4d9221"
            ],
            [
             1,
             "#276419"
            ]
           ],
           "sequential": [
            [
             0,
             "#0d0887"
            ],
            [
             0.1111111111111111,
             "#46039f"
            ],
            [
             0.2222222222222222,
             "#7201a8"
            ],
            [
             0.3333333333333333,
             "#9c179e"
            ],
            [
             0.4444444444444444,
             "#bd3786"
            ],
            [
             0.5555555555555556,
             "#d8576b"
            ],
            [
             0.6666666666666666,
             "#ed7953"
            ],
            [
             0.7777777777777778,
             "#fb9f3a"
            ],
            [
             0.8888888888888888,
             "#fdca26"
            ],
            [
             1,
             "#f0f921"
            ]
           ],
           "sequentialminus": [
            [
             0,
             "#0d0887"
            ],
            [
             0.1111111111111111,
             "#46039f"
            ],
            [
             0.2222222222222222,
             "#7201a8"
            ],
            [
             0.3333333333333333,
             "#9c179e"
            ],
            [
             0.4444444444444444,
             "#bd3786"
            ],
            [
             0.5555555555555556,
             "#d8576b"
            ],
            [
             0.6666666666666666,
             "#ed7953"
            ],
            [
             0.7777777777777778,
             "#fb9f3a"
            ],
            [
             0.8888888888888888,
             "#fdca26"
            ],
            [
             1,
             "#f0f921"
            ]
           ]
          },
          "colorway": [
           "#636efa",
           "#EF553B",
           "#00cc96",
           "#ab63fa",
           "#FFA15A",
           "#19d3f3",
           "#FF6692",
           "#B6E880",
           "#FF97FF",
           "#FECB52"
          ],
          "font": {
           "color": "#2a3f5f"
          },
          "geo": {
           "bgcolor": "white",
           "lakecolor": "white",
           "landcolor": "#E5ECF6",
           "showlakes": true,
           "showland": true,
           "subunitcolor": "white"
          },
          "hoverlabel": {
           "align": "left"
          },
          "hovermode": "closest",
          "mapbox": {
           "style": "light"
          },
          "paper_bgcolor": "white",
          "plot_bgcolor": "#E5ECF6",
          "polar": {
           "angularaxis": {
            "gridcolor": "white",
            "linecolor": "white",
            "ticks": ""
           },
           "bgcolor": "#E5ECF6",
           "radialaxis": {
            "gridcolor": "white",
            "linecolor": "white",
            "ticks": ""
           }
          },
          "scene": {
           "xaxis": {
            "backgroundcolor": "#E5ECF6",
            "gridcolor": "white",
            "gridwidth": 2,
            "linecolor": "white",
            "showbackground": true,
            "ticks": "",
            "zerolinecolor": "white"
           },
           "yaxis": {
            "backgroundcolor": "#E5ECF6",
            "gridcolor": "white",
            "gridwidth": 2,
            "linecolor": "white",
            "showbackground": true,
            "ticks": "",
            "zerolinecolor": "white"
           },
           "zaxis": {
            "backgroundcolor": "#E5ECF6",
            "gridcolor": "white",
            "gridwidth": 2,
            "linecolor": "white",
            "showbackground": true,
            "ticks": "",
            "zerolinecolor": "white"
           }
          },
          "shapedefaults": {
           "line": {
            "color": "#2a3f5f"
           }
          },
          "ternary": {
           "aaxis": {
            "gridcolor": "white",
            "linecolor": "white",
            "ticks": ""
           },
           "baxis": {
            "gridcolor": "white",
            "linecolor": "white",
            "ticks": ""
           },
           "bgcolor": "#E5ECF6",
           "caxis": {
            "gridcolor": "white",
            "linecolor": "white",
            "ticks": ""
           }
          },
          "title": {
           "x": 0.05
          },
          "xaxis": {
           "automargin": true,
           "gridcolor": "white",
           "linecolor": "white",
           "ticks": "",
           "title": {
            "standoff": 15
           },
           "zerolinecolor": "white",
           "zerolinewidth": 2
          },
          "yaxis": {
           "automargin": true,
           "gridcolor": "white",
           "linecolor": "white",
           "ticks": "",
           "title": {
            "standoff": 15
           },
           "zerolinecolor": "white",
           "zerolinewidth": 2
          }
         }
        },
        "title": {
         "text": "Correlation between GDP, PPP (current international $)<br>and Land-Use Change and Forestry<br>Pearson's r: -0.32356542097605095, P-value: 6.6411368621327994e-06, n=186<br>"
        },
        "width": 800,
        "xaxis": {
         "anchor": "y",
         "domain": [
          0,
          1
         ],
         "title": {
          "text": "GDP, PPP (current international $)"
         }
        },
        "yaxis": {
         "anchor": "x",
         "domain": [
          0,
          1
         ],
         "title": {
          "text": "Land-Use Change and Forestry"
         }
        }
       }
      }
     },
     "metadata": {},
     "output_type": "display_data"
    }
   ],
   "source": [
    "years = 30\n",
    "x = \"GDP, PPP (current international $)\"\n",
    "y = \"Land-Use Change and Forestry\"\n",
    "\n",
    "df_xy, p_corr, p_pval, s_corr, s_pval = build_correlation_df(find_corr_df, years, x, y)\n",
    "build_correlation_plot(df_xy, x, y, p_corr, p_pval).show()\n"
   ]
  },
  {
   "cell_type": "code",
   "execution_count": 17,
   "metadata": {},
   "outputs": [
    {
     "data": {
      "application/vnd.plotly.v1+json": {
       "config": {
        "plotlyServerURL": "https://plot.ly"
       },
       "data": [
        {
         "customdata": [
          [
           "Albania"
          ],
          [
           "Algeria"
          ],
          [
           "Angola"
          ],
          [
           "Argentina"
          ],
          [
           "Armenia"
          ],
          [
           "Australia"
          ],
          [
           "Austria"
          ],
          [
           "Azerbaijan"
          ],
          [
           "Bangladesh"
          ],
          [
           "Belarus"
          ],
          [
           "Belgium"
          ],
          [
           "Belize"
          ],
          [
           "Benin"
          ],
          [
           "Bhutan"
          ],
          [
           "Bolivia"
          ],
          [
           "Bosnia and Herzegovina"
          ],
          [
           "Botswana"
          ],
          [
           "Brazil"
          ],
          [
           "Bulgaria"
          ],
          [
           "Burkina Faso"
          ],
          [
           "Burundi"
          ],
          [
           "Cameroon"
          ],
          [
           "Canada"
          ],
          [
           "Cape Verde"
          ],
          [
           "Central African Republic"
          ],
          [
           "Chad"
          ],
          [
           "Chile"
          ],
          [
           "China"
          ],
          [
           "Colombia"
          ],
          [
           "Comoros"
          ],
          [
           "Costa Rica"
          ],
          [
           "Croatia"
          ],
          [
           "Cyprus"
          ],
          [
           "Czech Republic"
          ],
          [
           "Côte d'Ivoire"
          ],
          [
           "Democratic Republic of the Congo"
          ],
          [
           "Denmark"
          ],
          [
           "Djibouti"
          ],
          [
           "Dominican Republic"
          ],
          [
           "Ecuador"
          ],
          [
           "Egypt"
          ],
          [
           "El Salvador"
          ],
          [
           "Estonia"
          ],
          [
           "Eswatini"
          ],
          [
           "Ethiopia"
          ],
          [
           "Fiji"
          ],
          [
           "Finland"
          ],
          [
           "France"
          ],
          [
           "Gabon"
          ],
          [
           "Gambia"
          ],
          [
           "Georgia"
          ],
          [
           "Germany"
          ],
          [
           "Ghana"
          ],
          [
           "Greece"
          ],
          [
           "Guatemala"
          ],
          [
           "Guinea"
          ],
          [
           "Guinea-Bissau"
          ],
          [
           "Guyana"
          ],
          [
           "Haiti"
          ],
          [
           "Honduras"
          ],
          [
           "Hungary"
          ],
          [
           "Iceland"
          ],
          [
           "India"
          ],
          [
           "Indonesia"
          ],
          [
           "Iran"
          ],
          [
           "Iraq"
          ],
          [
           "Ireland"
          ],
          [
           "Israel"
          ],
          [
           "Italy"
          ],
          [
           "Jamaica"
          ],
          [
           "Japan"
          ],
          [
           "Jordan"
          ],
          [
           "Kazakhstan"
          ],
          [
           "Kenya"
          ],
          [
           "Kiribati"
          ],
          [
           "Kyrgyzstan"
          ],
          [
           "Laos"
          ],
          [
           "Latvia"
          ],
          [
           "Lebanon"
          ],
          [
           "Lesotho"
          ],
          [
           "Liberia"
          ],
          [
           "Lithuania"
          ],
          [
           "Luxembourg"
          ],
          [
           "Macedonia"
          ],
          [
           "Madagascar"
          ],
          [
           "Malawi"
          ],
          [
           "Malaysia"
          ],
          [
           "Maldives"
          ],
          [
           "Mali"
          ],
          [
           "Malta"
          ],
          [
           "Marshall Islands"
          ],
          [
           "Mauritania"
          ],
          [
           "Mauritius"
          ],
          [
           "Mexico"
          ],
          [
           "Moldova"
          ],
          [
           "Mongolia"
          ],
          [
           "Montenegro"
          ],
          [
           "Morocco"
          ],
          [
           "Mozambique"
          ],
          [
           "Myanmar"
          ],
          [
           "Namibia"
          ],
          [
           "Nauru"
          ],
          [
           "Nepal"
          ],
          [
           "Netherlands"
          ],
          [
           "Nicaragua"
          ],
          [
           "Niger"
          ],
          [
           "Nigeria"
          ],
          [
           "Norway"
          ],
          [
           "Pakistan"
          ],
          [
           "Panama"
          ],
          [
           "Papua New Guinea"
          ],
          [
           "Paraguay"
          ],
          [
           "Peru"
          ],
          [
           "Philippines"
          ],
          [
           "Poland"
          ],
          [
           "Portugal"
          ],
          [
           "Republic of Congo"
          ],
          [
           "Romania"
          ],
          [
           "Russia"
          ],
          [
           "Rwanda"
          ],
          [
           "Saint Lucia"
          ],
          [
           "Samoa"
          ],
          [
           "Sao Tome and Principe"
          ],
          [
           "Senegal"
          ],
          [
           "Serbia"
          ],
          [
           "Seychelles"
          ],
          [
           "Sierra Leone"
          ],
          [
           "Slovakia"
          ],
          [
           "Slovenia"
          ],
          [
           "Solomon Islands"
          ],
          [
           "Somalia"
          ],
          [
           "South Africa"
          ],
          [
           "South Korea"
          ],
          [
           "South Sudan"
          ],
          [
           "Spain"
          ],
          [
           "Sri Lanka"
          ],
          [
           "Sudan"
          ],
          [
           "Suriname"
          ],
          [
           "Sweden"
          ],
          [
           "Switzerland"
          ],
          [
           "Syria"
          ],
          [
           "Tajikistan"
          ],
          [
           "Tanzania"
          ],
          [
           "Thailand"
          ],
          [
           "Timor-Leste"
          ],
          [
           "Togo"
          ],
          [
           "Tonga"
          ],
          [
           "Trinidad and Tobago"
          ],
          [
           "Tunisia"
          ],
          [
           "Turkey"
          ],
          [
           "Turkmenistan"
          ],
          [
           "Tuvalu"
          ],
          [
           "Uganda"
          ],
          [
           "Ukraine"
          ],
          [
           "United Arab Emirates"
          ],
          [
           "United Kingdom"
          ],
          [
           "United States"
          ],
          [
           "Uruguay"
          ],
          [
           "Uzbekistan"
          ],
          [
           "Vanuatu"
          ],
          [
           "Venezuela"
          ],
          [
           "Vietnam"
          ],
          [
           "Yemen"
          ],
          [
           "Zambia"
          ],
          [
           "Zimbabwe"
          ]
         ],
         "hovertemplate": "Proportion of population below international poverty line (%)PERCENTALLAGEALLAREABOTHSEX=%{x}<br>Land-Use Change and Forestry=%{y}<br>country=%{customdata[0]}<extra></extra>",
         "legendgroup": "",
         "marker": {
          "color": "#00274C",
          "symbol": "circle"
         },
         "mode": "markers",
         "name": "",
         "orientation": "v",
         "showlegend": false,
         "type": "scatter",
         "x": [
          0.8384615384615385,
          2.48,
          39.18260869565217,
          3.779310344827586,
          5.34,
          0.5596153846153846,
          0.39615384615384613,
          2.565625,
          25.210185185185182,
          3.25,
          0.2611111111111111,
          13.118181818181819,
          47.01428571428571,
          8.147619047619047,
          14.134615384615385,
          0.17894736842105263,
          22.69074074074074,
          9.486206896551725,
          2.822222222222222,
          58.10192307692307,
          78.76333333333334,
          32.548,
          0.25,
          9.22608695652174,
          71.5875,
          45.79761904761905,
          2.4214285714285713,
          23.21607142857143,
          10.619444444444445,
          17.05,
          4.41,
          0.7533333333333334,
          0.05,
          0.0071428571428571435,
          25.18148148148148,
          85.75,
          0.1580246913580247,
          19.288095238095238,
          4.071296296296296,
          11.557692307692308,
          3.8025925925925925,
          9.242592592592592,
          1.019047619047619,
          46.25,
          43.25961538461539,
          1.7227272727272727,
          0.040740740740740744,
          0.03461538461538461,
          5.9875,
          38.33461538461538,
          9.623076923076923,
          0.020689655172413796,
          23.567460317460316,
          0.8923076923076922,
          10.585999999999999,
          48.90185185185185,
          51.033928571428575,
          16.36,
          24.5,
          22.625,
          0.28500000000000003,
          0.0380952380952381,
          35.99285714285715,
          24.849999999999998,
          1.4833333333333332,
          1.6,
          0.22692307692307695,
          0.3333333333333333,
          1.1071428571428572,
          3.4294117647058826,
          0.4964285714285714,
          0.8768181818181818,
          2.8461538461538463,
          37.66346153846154,
          8.757142857142858,
          13.058333333333335,
          26.87148148148148,
          1.365,
          0,
          47.19,
          56.39117647058824,
          1.56,
          0.059259259259259255,
          7.086666666666667,
          72.3625,
          68.96346153846153,
          0.5882716049382716,
          3.477272727272727,
          50.07692307692308,
          0.23333333333333334,
          0.8,
          15.101923076923075,
          0.40555555555555556,
          6.72962962962963,
          9.261538461538462,
          6.707692307692308,
          2.9166666666666665,
          3.345,
          73.03,
          3.4777777777777774,
          23.285714285714285,
          0.8999999999999999,
          40.82142857142857,
          0.2642857142857143,
          13.782692307692308,
          63.95,
          53.575,
          0.18518518518518517,
          16.26851851851852,
          8.86111111111111,
          43.64375,
          5.976666666666667,
          10.46923076923077,
          10.5875,
          0.785,
          0.5,
          47.35,
          4.783333333333333,
          0.26,
          66.6875,
          17.500000000000004,
          1.3,
          31,
          38.888888888888886,
          5.233333333333333,
          0.9454545454545454,
          59.32142857142857,
          0.33,
          0.01,
          36.65,
          68.6,
          24.98076923076923,
          0.23333333333333334,
          59.64666666666666,
          0.8170370370370371,
          5.205925925925926,
          13.95,
          21.1,
          0.34074074074074073,
          0.07083333333333333,
          1.4142857142857144,
          19.736,
          64.93765432098765,
          1.3839285714285714,
          32.175000000000004,
          49.675,
          1.59375,
          3.2,
          4.29925925925926,
          1.4596153846153848,
          49.8,
          3.3,
          52.87407407407407,
          1.282142857142857,
          0,
          0.23703703703703705,
          0.8551724137931035,
          0.25,
          52.621428571428574,
          11.492857142857144,
          9.916666666666666,
          19.977037037037036,
          11.835999999999999,
          56.228571428571435,
          27.334615384615383
         ],
         "xaxis": "x",
         "y": [
          -0.23358333333333334,
          -0.29500000000000004,
          19.524166666666666,
          31.890416666666667,
          0.04,
          13.843833333333333,
          -4.56075,
          -0.9558333333333333,
          11.213333333333333,
          -12.946333333333333,
          -1.4068333333333334,
          2.5829999999999997,
          6.284750000000001,
          -2.4998333333333336,
          35.66433333333334,
          0.23749999999999993,
          20.67325,
          426.2930833333333,
          -11.174916666666666,
          7.326333333333333,
          1.71125,
          22.260083333333334,
          76.59966666666666,
          -0.1125,
          14.856166666666667,
          8.831333333333333,
          -19.7415,
          -221.52625,
          40.77091666666667,
          0.030416666666666665,
          -0.7061666666666667,
          -0.7059166666666666,
          -0.0995,
          -3.5796666666666668,
          19.573,
          231.3765,
          -0.046,
          0,
          -1.8505833333333332,
          14.630583333333334,
          -0.014833333333333329,
          0.5427500000000001,
          -0.923,
          -0.04616666666666667,
          15.46125,
          -1.2704166666666665,
          -12.296583333333333,
          -24.845000000000002,
          2.1800833333333336,
          0.3081666666666667,
          -3.9353333333333333,
          -16.792083333333334,
          10.333499999999999,
          -0.13016666666666668,
          6.331666666666667,
          5.675666666666667,
          0.8870833333333333,
          5.196916666666667,
          0.12066666666666667,
          2.94575,
          0.9190833333333333,
          -0.013333333333333334,
          -45.31516666666666,
          365.5590833333334,
          -11.111666666666668,
          0.008083333333333333,
          -1.1795,
          -0.004166666666666667,
          -15.849583333333333,
          -0.3035833333333333,
          -36.42958333333333,
          0,
          -1.402,
          1.9155833333333332,
          0,
          -0.46825,
          6.296833333333334,
          -5.079833333333334,
          -0.0085,
          0.0038333333333333336,
          6.773416666666666,
          -0.4168333333333333,
          -0.24116666666666667,
          0.0006666666666666666,
          10.770583333333333,
          4.256916666666666,
          36.85991666666666,
          0,
          0.4654166666666667,
          0,
          0,
          0.10133333333333333,
          0.0085,
          -3.799333333333334,
          -0.252,
          2.0030833333333335,
          -0.7458333333333333,
          -1.8991666666666664,
          32.65083333333333,
          67.72483333333334,
          5.285416666666666,
          0,
          -0.23108333333333334,
          0.6618333333333334,
          9.792083333333332,
          1.4555,
          24.267583333333334,
          -9.409416666666667,
          3.5753333333333335,
          2.49725,
          17.839833333333335,
          26.2385,
          35.22091666666667,
          1.2329999999999999,
          -18.806499999999996,
          0.354,
          4.858916666666667,
          -25.599833333333333,
          -287.7130833333333,
          1.23875,
          -0.06816666666666667,
          0.055,
          0.0365,
          2.8575,
          -6.705250000000001,
          0,
          1.7188333333333332,
          -3.83475,
          -3.839833333333333,
          2.540833333333333,
          8.675,
          3.423,
          -25.055666666666664,
          4.79725,
          -12.567,
          1.4479166666666667,
          11.08975,
          2.578333333333333,
          -4.488583333333334,
          -0.994,
          -0.29100000000000004,
          -0.09474999999999999,
          29.954083333333333,
          -1.3878333333333333,
          0.23258333333333334,
          0.8003333333333332,
          0,
          0.05641666666666667,
          -0.3156666666666667,
          -17.1465,
          -0.028333333333333335,
          0,
          8.020416666666668,
          -14.93575,
          0,
          -5.615083333333334,
          -193.18808333333334,
          -4.778666666666667,
          -2.5564166666666663,
          0.00008333333333333333,
          53.315333333333335,
          -12.45125,
          0,
          18.40266666666667,
          10.583583333333333
         ],
         "yaxis": "y"
        },
        {
         "hovertemplate": "<b>OLS trendline</b><br>y = 0.416662 * x + -2.73762<br>R<sup>2</sup>=0.023883<br><br>Proportion of population below international poverty line (%)PERCENTALLAGEALLAREABOTHSEX=%{x}<br>Land-Use Change and Forestry=%{y} <b>(trend)</b><extra></extra>",
         "legendgroup": "",
         "line": {
          "color": "#FFCB05"
         },
         "marker": {
          "color": "#00274C",
          "symbol": "circle"
         },
         "mode": "lines",
         "name": "",
         "showlegend": false,
         "type": "scatter",
         "x": [
          0,
          0,
          0.0071428571428571435,
          0.01,
          0.020689655172413796,
          0.03461538461538461,
          0.0380952380952381,
          0.040740740740740744,
          0.05,
          0.059259259259259255,
          0.07083333333333333,
          0.1580246913580247,
          0.17894736842105263,
          0.18518518518518517,
          0.22692307692307695,
          0.23333333333333334,
          0.23333333333333334,
          0.23703703703703705,
          0.25,
          0.25,
          0.26,
          0.2611111111111111,
          0.2642857142857143,
          0.28500000000000003,
          0.33,
          0.3333333333333333,
          0.34074074074074073,
          0.39615384615384613,
          0.40555555555555556,
          0.4964285714285714,
          0.5,
          0.5596153846153846,
          0.5882716049382716,
          0.7533333333333334,
          0.785,
          0.8,
          0.8170370370370371,
          0.8384615384615385,
          0.8551724137931035,
          0.8768181818181818,
          0.8923076923076922,
          0.8999999999999999,
          0.9454545454545454,
          1.019047619047619,
          1.1071428571428572,
          1.282142857142857,
          1.3,
          1.365,
          1.3839285714285714,
          1.4142857142857144,
          1.4596153846153848,
          1.4833333333333332,
          1.56,
          1.59375,
          1.6,
          1.7227272727272727,
          2.4214285714285713,
          2.48,
          2.565625,
          2.822222222222222,
          2.8461538461538463,
          2.9166666666666665,
          3.2,
          3.25,
          3.3,
          3.345,
          3.4294117647058826,
          3.477272727272727,
          3.4777777777777774,
          3.779310344827586,
          3.8025925925925925,
          4.071296296296296,
          4.29925925925926,
          4.41,
          4.783333333333333,
          5.205925925925926,
          5.233333333333333,
          5.34,
          5.976666666666667,
          5.9875,
          6.707692307692308,
          6.72962962962963,
          7.086666666666667,
          8.147619047619047,
          8.757142857142858,
          8.86111111111111,
          9.22608695652174,
          9.242592592592592,
          9.261538461538462,
          9.486206896551725,
          9.623076923076923,
          9.916666666666666,
          10.46923076923077,
          10.585999999999999,
          10.5875,
          10.619444444444445,
          11.492857142857144,
          11.557692307692308,
          11.835999999999999,
          13.058333333333335,
          13.118181818181819,
          13.782692307692308,
          13.95,
          14.134615384615385,
          15.101923076923075,
          16.26851851851852,
          16.36,
          17.05,
          17.500000000000004,
          19.288095238095238,
          19.736,
          19.977037037037036,
          21.1,
          22.625,
          22.69074074074074,
          23.21607142857143,
          23.285714285714285,
          23.567460317460316,
          24.5,
          24.849999999999998,
          24.98076923076923,
          25.18148148148148,
          25.210185185185182,
          26.87148148148148,
          27.334615384615383,
          31,
          32.175000000000004,
          32.548,
          35.99285714285715,
          36.65,
          37.66346153846154,
          38.33461538461538,
          38.888888888888886,
          39.18260869565217,
          40.82142857142857,
          43.25961538461539,
          43.64375,
          45.79761904761905,
          46.25,
          47.01428571428571,
          47.19,
          47.35,
          48.90185185185185,
          49.675,
          49.8,
          50.07692307692308,
          51.033928571428575,
          52.621428571428574,
          52.87407407407407,
          53.575,
          56.228571428571435,
          56.39117647058824,
          58.10192307692307,
          59.32142857142857,
          59.64666666666666,
          63.95,
          64.93765432098765,
          66.6875,
          68.6,
          68.96346153846153,
          71.5875,
          72.3625,
          73.03,
          78.76333333333334,
          85.75
         ],
         "xaxis": "x",
         "y": [
          -2.737621586475602,
          -2.737621586475602,
          -2.7346454268643434,
          -2.7334549630198404,
          -2.7290009862223013,
          -2.723198659128734,
          -2.7217487352155563,
          -2.7206464538780533,
          -2.7167884691967923,
          -2.712930484515531,
          -2.7081080036639547,
          -2.671778647915412,
          -2.663060956214598,
          -2.6604618928503796,
          -2.643071284979464,
          -2.640400372507822,
          -2.640400372507822,
          -2.6388571786353174,
          -2.633456000081552,
          -2.633456000081552,
          -2.6292893766257897,
          -2.6288264184640386,
          -2.627503680859035,
          -2.618872817986385,
          -2.6001230124354557,
          -2.598734137950202,
          -2.5956477502051927,
          -2.572559195728107,
          -2.568641857436365,
          -2.5307784934931306,
          -2.5292904136875016,
          -2.504450927701228,
          -2.4925109597261454,
          -2.423735952808197,
          -2.410541645198284,
          -2.404291710014641,
          -2.3971930182011203,
          -2.388266235184787,
          -2.3813034426725057,
          -2.3722844661953784,
          -2.365830570422992,
          -2.362625475457021,
          -2.34368627793083,
          -2.313022815269378,
          -2.276316846730522,
          -2.203400936254687,
          -2.19596053722654,
          -2.1688774847640873,
          -2.1609906617942523,
          -2.148341983446403,
          -2.129454816682647,
          -2.11957244053757,
          -2.087628327376728,
          -2.0735659732135314,
          -2.07096183355368,
          -2.0198260002329644,
          -1.7287034782589432,
          -1.7042989694466226,
          -1.6686222561066606,
          -1.5617078556272117,
          -1.5517364490664134,
          -1.5223564118783481,
          -1.4043020806317577,
          -1.3834689633529476,
          -1.3626358460741377,
          -1.3438860405232083,
          -1.308714836646629,
          -1.2887729757219928,
          -1.288562540193924,
          -1.1629252735393376,
          -1.1532244375752838,
          -1.0412657221250858,
          -0.9462821392724368,
          -0.9001406424845539,
          -0.7445867001361055,
          -0.5685082792833476,
          -0.5570886446268148,
          -0.5126446610986868,
          -0.2473696344151719,
          -0.2428557923380965,
          0.05722122385091799,
          0.06636167986498309,
          0.21512556917441206,
          0.6571844767666861,
          0.9111500969274191,
          0.9544697534912934,
          1.1065414453187437,
          1.1134187223592518,
          1.1213127525532176,
          1.2149236296627777,
          1.271952215953844,
          1.3942800071550616,
          1.6245126622106296,
          1.6731660037940657,
          1.6737909973124303,
          1.6871010444627812,
          2.051019228039456,
          2.0780335998954955,
          2.1939939357643174,
          2.7032942095069616,
          2.7282308195831133,
          3.0051073188025432,
          3.074818134312407,
          3.1517404134957063,
          3.554781105466531,
          4.040857498500193,
          4.078974387151053,
          4.366471405598632,
          4.553969461107924,
          5.299001417126321,
          5.485626465816309,
          5.586057523038899,
          6.053953905182248,
          6.689363982185955,
          6.716755673422909,
          6.935641190017603,
          6.964658746227372,
          7.082051708671462,
          7.470605880141332,
          7.616437701093003,
          7.6709243155145055,
          7.754553552682151,
          7.766513305194059,
          8.458712916705931,
          8.651683375101562,
          10.178911126386641,
          10.668489382438679,
          10.823904437338602,
          12.25924669465639,
          12.53305337889218,
          12.95532464065883,
          13.23496917643978,
          13.465914074821118,
          13.588296058449298,
          14.271130591867191,
          15.287031228402576,
          15.447085658265738,
          16.344521787710672,
          16.533011896423712,
          16.85146097482838,
          16.924674501265343,
          16.991340476557536,
          17.6379387091369,
          17.960080430022202,
          18.01216322321923,
          18.12754664199418,
          18.52629479606415,
          19.18774626966637,
          19.293014137397922,
          19.58506357776939,
          20.690706873351957,
          20.758458271561196,
          21.47126196524319,
          21.979383985026917,
          22.114898452659556,
          23.90793541312248,
          24.319453779123663,
          25.04854858413733,
          25.845415320051814,
          25.99685605719393,
          27.09019407746072,
          27.41310739528227,
          27.69122951095439,
          30.080093625591278,
          32.991174546683666
         ],
         "yaxis": "y"
        }
       ],
       "layout": {
        "height": 600,
        "legend": {
         "tracegroupgap": 0
        },
        "template": {
         "data": {
          "bar": [
           {
            "error_x": {
             "color": "#2a3f5f"
            },
            "error_y": {
             "color": "#2a3f5f"
            },
            "marker": {
             "line": {
              "color": "#E5ECF6",
              "width": 0.5
             },
             "pattern": {
              "fillmode": "overlay",
              "size": 10,
              "solidity": 0.2
             }
            },
            "type": "bar"
           }
          ],
          "barpolar": [
           {
            "marker": {
             "line": {
              "color": "#E5ECF6",
              "width": 0.5
             },
             "pattern": {
              "fillmode": "overlay",
              "size": 10,
              "solidity": 0.2
             }
            },
            "type": "barpolar"
           }
          ],
          "carpet": [
           {
            "aaxis": {
             "endlinecolor": "#2a3f5f",
             "gridcolor": "white",
             "linecolor": "white",
             "minorgridcolor": "white",
             "startlinecolor": "#2a3f5f"
            },
            "baxis": {
             "endlinecolor": "#2a3f5f",
             "gridcolor": "white",
             "linecolor": "white",
             "minorgridcolor": "white",
             "startlinecolor": "#2a3f5f"
            },
            "type": "carpet"
           }
          ],
          "choropleth": [
           {
            "colorbar": {
             "outlinewidth": 0,
             "ticks": ""
            },
            "type": "choropleth"
           }
          ],
          "contour": [
           {
            "colorbar": {
             "outlinewidth": 0,
             "ticks": ""
            },
            "colorscale": [
             [
              0,
              "#0d0887"
             ],
             [
              0.1111111111111111,
              "#46039f"
             ],
             [
              0.2222222222222222,
              "#7201a8"
             ],
             [
              0.3333333333333333,
              "#9c179e"
             ],
             [
              0.4444444444444444,
              "#bd3786"
             ],
             [
              0.5555555555555556,
              "#d8576b"
             ],
             [
              0.6666666666666666,
              "#ed7953"
             ],
             [
              0.7777777777777778,
              "#fb9f3a"
             ],
             [
              0.8888888888888888,
              "#fdca26"
             ],
             [
              1,
              "#f0f921"
             ]
            ],
            "type": "contour"
           }
          ],
          "contourcarpet": [
           {
            "colorbar": {
             "outlinewidth": 0,
             "ticks": ""
            },
            "type": "contourcarpet"
           }
          ],
          "heatmap": [
           {
            "colorbar": {
             "outlinewidth": 0,
             "ticks": ""
            },
            "colorscale": [
             [
              0,
              "#0d0887"
             ],
             [
              0.1111111111111111,
              "#46039f"
             ],
             [
              0.2222222222222222,
              "#7201a8"
             ],
             [
              0.3333333333333333,
              "#9c179e"
             ],
             [
              0.4444444444444444,
              "#bd3786"
             ],
             [
              0.5555555555555556,
              "#d8576b"
             ],
             [
              0.6666666666666666,
              "#ed7953"
             ],
             [
              0.7777777777777778,
              "#fb9f3a"
             ],
             [
              0.8888888888888888,
              "#fdca26"
             ],
             [
              1,
              "#f0f921"
             ]
            ],
            "type": "heatmap"
           }
          ],
          "heatmapgl": [
           {
            "colorbar": {
             "outlinewidth": 0,
             "ticks": ""
            },
            "colorscale": [
             [
              0,
              "#0d0887"
             ],
             [
              0.1111111111111111,
              "#46039f"
             ],
             [
              0.2222222222222222,
              "#7201a8"
             ],
             [
              0.3333333333333333,
              "#9c179e"
             ],
             [
              0.4444444444444444,
              "#bd3786"
             ],
             [
              0.5555555555555556,
              "#d8576b"
             ],
             [
              0.6666666666666666,
              "#ed7953"
             ],
             [
              0.7777777777777778,
              "#fb9f3a"
             ],
             [
              0.8888888888888888,
              "#fdca26"
             ],
             [
              1,
              "#f0f921"
             ]
            ],
            "type": "heatmapgl"
           }
          ],
          "histogram": [
           {
            "marker": {
             "pattern": {
              "fillmode": "overlay",
              "size": 10,
              "solidity": 0.2
             }
            },
            "type": "histogram"
           }
          ],
          "histogram2d": [
           {
            "colorbar": {
             "outlinewidth": 0,
             "ticks": ""
            },
            "colorscale": [
             [
              0,
              "#0d0887"
             ],
             [
              0.1111111111111111,
              "#46039f"
             ],
             [
              0.2222222222222222,
              "#7201a8"
             ],
             [
              0.3333333333333333,
              "#9c179e"
             ],
             [
              0.4444444444444444,
              "#bd3786"
             ],
             [
              0.5555555555555556,
              "#d8576b"
             ],
             [
              0.6666666666666666,
              "#ed7953"
             ],
             [
              0.7777777777777778,
              "#fb9f3a"
             ],
             [
              0.8888888888888888,
              "#fdca26"
             ],
             [
              1,
              "#f0f921"
             ]
            ],
            "type": "histogram2d"
           }
          ],
          "histogram2dcontour": [
           {
            "colorbar": {
             "outlinewidth": 0,
             "ticks": ""
            },
            "colorscale": [
             [
              0,
              "#0d0887"
             ],
             [
              0.1111111111111111,
              "#46039f"
             ],
             [
              0.2222222222222222,
              "#7201a8"
             ],
             [
              0.3333333333333333,
              "#9c179e"
             ],
             [
              0.4444444444444444,
              "#bd3786"
             ],
             [
              0.5555555555555556,
              "#d8576b"
             ],
             [
              0.6666666666666666,
              "#ed7953"
             ],
             [
              0.7777777777777778,
              "#fb9f3a"
             ],
             [
              0.8888888888888888,
              "#fdca26"
             ],
             [
              1,
              "#f0f921"
             ]
            ],
            "type": "histogram2dcontour"
           }
          ],
          "mesh3d": [
           {
            "colorbar": {
             "outlinewidth": 0,
             "ticks": ""
            },
            "type": "mesh3d"
           }
          ],
          "parcoords": [
           {
            "line": {
             "colorbar": {
              "outlinewidth": 0,
              "ticks": ""
             }
            },
            "type": "parcoords"
           }
          ],
          "pie": [
           {
            "automargin": true,
            "type": "pie"
           }
          ],
          "scatter": [
           {
            "fillpattern": {
             "fillmode": "overlay",
             "size": 10,
             "solidity": 0.2
            },
            "type": "scatter"
           }
          ],
          "scatter3d": [
           {
            "line": {
             "colorbar": {
              "outlinewidth": 0,
              "ticks": ""
             }
            },
            "marker": {
             "colorbar": {
              "outlinewidth": 0,
              "ticks": ""
             }
            },
            "type": "scatter3d"
           }
          ],
          "scattercarpet": [
           {
            "marker": {
             "colorbar": {
              "outlinewidth": 0,
              "ticks": ""
             }
            },
            "type": "scattercarpet"
           }
          ],
          "scattergeo": [
           {
            "marker": {
             "colorbar": {
              "outlinewidth": 0,
              "ticks": ""
             }
            },
            "type": "scattergeo"
           }
          ],
          "scattergl": [
           {
            "marker": {
             "colorbar": {
              "outlinewidth": 0,
              "ticks": ""
             }
            },
            "type": "scattergl"
           }
          ],
          "scattermapbox": [
           {
            "marker": {
             "colorbar": {
              "outlinewidth": 0,
              "ticks": ""
             }
            },
            "type": "scattermapbox"
           }
          ],
          "scatterpolar": [
           {
            "marker": {
             "colorbar": {
              "outlinewidth": 0,
              "ticks": ""
             }
            },
            "type": "scatterpolar"
           }
          ],
          "scatterpolargl": [
           {
            "marker": {
             "colorbar": {
              "outlinewidth": 0,
              "ticks": ""
             }
            },
            "type": "scatterpolargl"
           }
          ],
          "scatterternary": [
           {
            "marker": {
             "colorbar": {
              "outlinewidth": 0,
              "ticks": ""
             }
            },
            "type": "scatterternary"
           }
          ],
          "surface": [
           {
            "colorbar": {
             "outlinewidth": 0,
             "ticks": ""
            },
            "colorscale": [
             [
              0,
              "#0d0887"
             ],
             [
              0.1111111111111111,
              "#46039f"
             ],
             [
              0.2222222222222222,
              "#7201a8"
             ],
             [
              0.3333333333333333,
              "#9c179e"
             ],
             [
              0.4444444444444444,
              "#bd3786"
             ],
             [
              0.5555555555555556,
              "#d8576b"
             ],
             [
              0.6666666666666666,
              "#ed7953"
             ],
             [
              0.7777777777777778,
              "#fb9f3a"
             ],
             [
              0.8888888888888888,
              "#fdca26"
             ],
             [
              1,
              "#f0f921"
             ]
            ],
            "type": "surface"
           }
          ],
          "table": [
           {
            "cells": {
             "fill": {
              "color": "#EBF0F8"
             },
             "line": {
              "color": "white"
             }
            },
            "header": {
             "fill": {
              "color": "#C8D4E3"
             },
             "line": {
              "color": "white"
             }
            },
            "type": "table"
           }
          ]
         },
         "layout": {
          "annotationdefaults": {
           "arrowcolor": "#2a3f5f",
           "arrowhead": 0,
           "arrowwidth": 1
          },
          "autotypenumbers": "strict",
          "coloraxis": {
           "colorbar": {
            "outlinewidth": 0,
            "ticks": ""
           }
          },
          "colorscale": {
           "diverging": [
            [
             0,
             "#8e0152"
            ],
            [
             0.1,
             "#c51b7d"
            ],
            [
             0.2,
             "#de77ae"
            ],
            [
             0.3,
             "#f1b6da"
            ],
            [
             0.4,
             "#fde0ef"
            ],
            [
             0.5,
             "#f7f7f7"
            ],
            [
             0.6,
             "#e6f5d0"
            ],
            [
             0.7,
             "#b8e186"
            ],
            [
             0.8,
             "#7fbc41"
            ],
            [
             0.9,
             "#4d9221"
            ],
            [
             1,
             "#276419"
            ]
           ],
           "sequential": [
            [
             0,
             "#0d0887"
            ],
            [
             0.1111111111111111,
             "#46039f"
            ],
            [
             0.2222222222222222,
             "#7201a8"
            ],
            [
             0.3333333333333333,
             "#9c179e"
            ],
            [
             0.4444444444444444,
             "#bd3786"
            ],
            [
             0.5555555555555556,
             "#d8576b"
            ],
            [
             0.6666666666666666,
             "#ed7953"
            ],
            [
             0.7777777777777778,
             "#fb9f3a"
            ],
            [
             0.8888888888888888,
             "#fdca26"
            ],
            [
             1,
             "#f0f921"
            ]
           ],
           "sequentialminus": [
            [
             0,
             "#0d0887"
            ],
            [
             0.1111111111111111,
             "#46039f"
            ],
            [
             0.2222222222222222,
             "#7201a8"
            ],
            [
             0.3333333333333333,
             "#9c179e"
            ],
            [
             0.4444444444444444,
             "#bd3786"
            ],
            [
             0.5555555555555556,
             "#d8576b"
            ],
            [
             0.6666666666666666,
             "#ed7953"
            ],
            [
             0.7777777777777778,
             "#fb9f3a"
            ],
            [
             0.8888888888888888,
             "#fdca26"
            ],
            [
             1,
             "#f0f921"
            ]
           ]
          },
          "colorway": [
           "#636efa",
           "#EF553B",
           "#00cc96",
           "#ab63fa",
           "#FFA15A",
           "#19d3f3",
           "#FF6692",
           "#B6E880",
           "#FF97FF",
           "#FECB52"
          ],
          "font": {
           "color": "#2a3f5f"
          },
          "geo": {
           "bgcolor": "white",
           "lakecolor": "white",
           "landcolor": "#E5ECF6",
           "showlakes": true,
           "showland": true,
           "subunitcolor": "white"
          },
          "hoverlabel": {
           "align": "left"
          },
          "hovermode": "closest",
          "mapbox": {
           "style": "light"
          },
          "paper_bgcolor": "white",
          "plot_bgcolor": "#E5ECF6",
          "polar": {
           "angularaxis": {
            "gridcolor": "white",
            "linecolor": "white",
            "ticks": ""
           },
           "bgcolor": "#E5ECF6",
           "radialaxis": {
            "gridcolor": "white",
            "linecolor": "white",
            "ticks": ""
           }
          },
          "scene": {
           "xaxis": {
            "backgroundcolor": "#E5ECF6",
            "gridcolor": "white",
            "gridwidth": 2,
            "linecolor": "white",
            "showbackground": true,
            "ticks": "",
            "zerolinecolor": "white"
           },
           "yaxis": {
            "backgroundcolor": "#E5ECF6",
            "gridcolor": "white",
            "gridwidth": 2,
            "linecolor": "white",
            "showbackground": true,
            "ticks": "",
            "zerolinecolor": "white"
           },
           "zaxis": {
            "backgroundcolor": "#E5ECF6",
            "gridcolor": "white",
            "gridwidth": 2,
            "linecolor": "white",
            "showbackground": true,
            "ticks": "",
            "zerolinecolor": "white"
           }
          },
          "shapedefaults": {
           "line": {
            "color": "#2a3f5f"
           }
          },
          "ternary": {
           "aaxis": {
            "gridcolor": "white",
            "linecolor": "white",
            "ticks": ""
           },
           "baxis": {
            "gridcolor": "white",
            "linecolor": "white",
            "ticks": ""
           },
           "bgcolor": "#E5ECF6",
           "caxis": {
            "gridcolor": "white",
            "linecolor": "white",
            "ticks": ""
           }
          },
          "title": {
           "x": 0.05
          },
          "xaxis": {
           "automargin": true,
           "gridcolor": "white",
           "linecolor": "white",
           "ticks": "",
           "title": {
            "standoff": 15
           },
           "zerolinecolor": "white",
           "zerolinewidth": 2
          },
          "yaxis": {
           "automargin": true,
           "gridcolor": "white",
           "linecolor": "white",
           "ticks": "",
           "title": {
            "standoff": 15
           },
           "zerolinecolor": "white",
           "zerolinewidth": 2
          }
         }
        },
        "title": {
         "text": "Correlation between Proportion of population below international poverty line (%)PERCENTALLAGEALLAREABOTHSEX<br>and Land-Use Change and Forestry<br>Pearson's r: 0.15454194506410365, P-value: 0.04748381336784532, n=165<br>"
        },
        "width": 800,
        "xaxis": {
         "anchor": "y",
         "domain": [
          0,
          1
         ],
         "title": {
          "text": "Proportion of population below international poverty line (%)PERCENTALLAGEALLAREABOTHSEX"
         }
        },
        "yaxis": {
         "anchor": "x",
         "domain": [
          0,
          1
         ],
         "title": {
          "text": "Land-Use Change and Forestry"
         }
        }
       }
      }
     },
     "metadata": {},
     "output_type": "display_data"
    }
   ],
   "source": [
    "years = 30\n",
    "x = \"Proportion of population below international poverty line (%)PERCENTALLAGEALLAREABOTHSEX\"\n",
    "y = \"Land-Use Change and Forestry\"\n",
    "\n",
    "df_xy, p_corr, p_pval, s_corr, s_pval = build_correlation_df(find_corr_df, years, x, y)\n",
    "build_correlation_plot(df_xy, x, y, p_corr, p_pval).show()\n"
   ]
  },
  {
   "cell_type": "code",
   "execution_count": 18,
   "metadata": {},
   "outputs": [
    {
     "name": "stdout",
     "output_type": "stream",
     "text": [
      "Python implementation: CPython\n",
      "Python version       : 3.10.6\n",
      "IPython version      : 8.5.0\n",
      "\n",
      "Compiler    : Clang 13.1.6 (clang-1316.0.21.2.5)\n",
      "OS          : Darwin\n",
      "Release     : 21.5.0\n",
      "Machine     : x86_64\n",
      "Processor   : i386\n",
      "CPU cores   : 8\n",
      "Architecture: 64bit\n",
      "\n",
      "altair: 4.2.0\n",
      "plotly: 5.10.0\n",
      "numpy : 1.23.3\n",
      "scipy : 1.9.1\n",
      "sys   : 3.10.6 (main, Aug 30 2022, 05:12:36) [Clang 13.1.6 (clang-1316.0.21.2.5)]\n",
      "pandas: 1.5.0\n",
      "\n"
     ]
    }
   ],
   "source": [
    "%reload_ext watermark\n",
    "\n",
    "%watermark -iv -v -m"
   ]
  }
 ],
 "metadata": {
  "kernelspec": {
   "display_name": "Python 3.10.6 ('.venv': pipenv)",
   "language": "python",
   "name": "python3"
  },
  "language_info": {
   "codemirror_mode": {
    "name": "ipython",
    "version": 3
   },
   "file_extension": ".py",
   "mimetype": "text/x-python",
   "name": "python",
   "nbconvert_exporter": "python",
   "pygments_lexer": "ipython3",
   "version": "3.10.6"
  },
  "orig_nbformat": 4,
  "vscode": {
   "interpreter": {
    "hash": "5d1aacbff75353ea0b21d5e0926e0a5a638019dc06de63463aad65420426ff82"
   }
  }
 },
 "nbformat": 4,
 "nbformat_minor": 2
}
